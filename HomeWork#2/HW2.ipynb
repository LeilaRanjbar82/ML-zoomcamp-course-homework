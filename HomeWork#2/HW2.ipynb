{
 "cells": [
  {
   "cell_type": "code",
   "execution_count": 2,
   "id": "5d792d17",
   "metadata": {},
   "outputs": [],
   "source": [
    "import pandas as pd\n",
    "import numpy as np"
   ]
  },
  {
   "cell_type": "code",
   "execution_count": 3,
   "id": "00c1829d",
   "metadata": {},
   "outputs": [],
   "source": [
    "df=pd.read_csv('AB_NYC_2019.csv')"
   ]
  },
  {
   "cell_type": "code",
   "execution_count": 4,
   "id": "68d4c5f2",
   "metadata": {},
   "outputs": [
    {
     "data": {
      "text/html": [
       "<div>\n",
       "<style scoped>\n",
       "    .dataframe tbody tr th:only-of-type {\n",
       "        vertical-align: middle;\n",
       "    }\n",
       "\n",
       "    .dataframe tbody tr th {\n",
       "        vertical-align: top;\n",
       "    }\n",
       "\n",
       "    .dataframe thead th {\n",
       "        text-align: right;\n",
       "    }\n",
       "</style>\n",
       "<table border=\"1\" class=\"dataframe\">\n",
       "  <thead>\n",
       "    <tr style=\"text-align: right;\">\n",
       "      <th></th>\n",
       "      <th>id</th>\n",
       "      <th>name</th>\n",
       "      <th>host_id</th>\n",
       "      <th>host_name</th>\n",
       "      <th>neighbourhood_group</th>\n",
       "      <th>neighbourhood</th>\n",
       "      <th>latitude</th>\n",
       "      <th>longitude</th>\n",
       "      <th>room_type</th>\n",
       "      <th>price</th>\n",
       "      <th>minimum_nights</th>\n",
       "      <th>number_of_reviews</th>\n",
       "      <th>last_review</th>\n",
       "      <th>reviews_per_month</th>\n",
       "      <th>calculated_host_listings_count</th>\n",
       "      <th>availability_365</th>\n",
       "    </tr>\n",
       "  </thead>\n",
       "  <tbody>\n",
       "    <tr>\n",
       "      <th>0</th>\n",
       "      <td>2539</td>\n",
       "      <td>Clean &amp; quiet apt home by the park</td>\n",
       "      <td>2787</td>\n",
       "      <td>John</td>\n",
       "      <td>Brooklyn</td>\n",
       "      <td>Kensington</td>\n",
       "      <td>40.64749</td>\n",
       "      <td>-73.97237</td>\n",
       "      <td>Private room</td>\n",
       "      <td>149</td>\n",
       "      <td>1</td>\n",
       "      <td>9</td>\n",
       "      <td>2018-10-19</td>\n",
       "      <td>0.21</td>\n",
       "      <td>6</td>\n",
       "      <td>365</td>\n",
       "    </tr>\n",
       "    <tr>\n",
       "      <th>1</th>\n",
       "      <td>2595</td>\n",
       "      <td>Skylit Midtown Castle</td>\n",
       "      <td>2845</td>\n",
       "      <td>Jennifer</td>\n",
       "      <td>Manhattan</td>\n",
       "      <td>Midtown</td>\n",
       "      <td>40.75362</td>\n",
       "      <td>-73.98377</td>\n",
       "      <td>Entire home/apt</td>\n",
       "      <td>225</td>\n",
       "      <td>1</td>\n",
       "      <td>45</td>\n",
       "      <td>2019-05-21</td>\n",
       "      <td>0.38</td>\n",
       "      <td>2</td>\n",
       "      <td>355</td>\n",
       "    </tr>\n",
       "    <tr>\n",
       "      <th>2</th>\n",
       "      <td>3647</td>\n",
       "      <td>THE VILLAGE OF HARLEM....NEW YORK !</td>\n",
       "      <td>4632</td>\n",
       "      <td>Elisabeth</td>\n",
       "      <td>Manhattan</td>\n",
       "      <td>Harlem</td>\n",
       "      <td>40.80902</td>\n",
       "      <td>-73.94190</td>\n",
       "      <td>Private room</td>\n",
       "      <td>150</td>\n",
       "      <td>3</td>\n",
       "      <td>0</td>\n",
       "      <td>NaN</td>\n",
       "      <td>NaN</td>\n",
       "      <td>1</td>\n",
       "      <td>365</td>\n",
       "    </tr>\n",
       "    <tr>\n",
       "      <th>3</th>\n",
       "      <td>3831</td>\n",
       "      <td>Cozy Entire Floor of Brownstone</td>\n",
       "      <td>4869</td>\n",
       "      <td>LisaRoxanne</td>\n",
       "      <td>Brooklyn</td>\n",
       "      <td>Clinton Hill</td>\n",
       "      <td>40.68514</td>\n",
       "      <td>-73.95976</td>\n",
       "      <td>Entire home/apt</td>\n",
       "      <td>89</td>\n",
       "      <td>1</td>\n",
       "      <td>270</td>\n",
       "      <td>2019-07-05</td>\n",
       "      <td>4.64</td>\n",
       "      <td>1</td>\n",
       "      <td>194</td>\n",
       "    </tr>\n",
       "    <tr>\n",
       "      <th>4</th>\n",
       "      <td>5022</td>\n",
       "      <td>Entire Apt: Spacious Studio/Loft by central park</td>\n",
       "      <td>7192</td>\n",
       "      <td>Laura</td>\n",
       "      <td>Manhattan</td>\n",
       "      <td>East Harlem</td>\n",
       "      <td>40.79851</td>\n",
       "      <td>-73.94399</td>\n",
       "      <td>Entire home/apt</td>\n",
       "      <td>80</td>\n",
       "      <td>10</td>\n",
       "      <td>9</td>\n",
       "      <td>2018-11-19</td>\n",
       "      <td>0.10</td>\n",
       "      <td>1</td>\n",
       "      <td>0</td>\n",
       "    </tr>\n",
       "    <tr>\n",
       "      <th>...</th>\n",
       "      <td>...</td>\n",
       "      <td>...</td>\n",
       "      <td>...</td>\n",
       "      <td>...</td>\n",
       "      <td>...</td>\n",
       "      <td>...</td>\n",
       "      <td>...</td>\n",
       "      <td>...</td>\n",
       "      <td>...</td>\n",
       "      <td>...</td>\n",
       "      <td>...</td>\n",
       "      <td>...</td>\n",
       "      <td>...</td>\n",
       "      <td>...</td>\n",
       "      <td>...</td>\n",
       "      <td>...</td>\n",
       "    </tr>\n",
       "    <tr>\n",
       "      <th>48890</th>\n",
       "      <td>36484665</td>\n",
       "      <td>Charming one bedroom - newly renovated rowhouse</td>\n",
       "      <td>8232441</td>\n",
       "      <td>Sabrina</td>\n",
       "      <td>Brooklyn</td>\n",
       "      <td>Bedford-Stuyvesant</td>\n",
       "      <td>40.67853</td>\n",
       "      <td>-73.94995</td>\n",
       "      <td>Private room</td>\n",
       "      <td>70</td>\n",
       "      <td>2</td>\n",
       "      <td>0</td>\n",
       "      <td>NaN</td>\n",
       "      <td>NaN</td>\n",
       "      <td>2</td>\n",
       "      <td>9</td>\n",
       "    </tr>\n",
       "    <tr>\n",
       "      <th>48891</th>\n",
       "      <td>36485057</td>\n",
       "      <td>Affordable room in Bushwick/East Williamsburg</td>\n",
       "      <td>6570630</td>\n",
       "      <td>Marisol</td>\n",
       "      <td>Brooklyn</td>\n",
       "      <td>Bushwick</td>\n",
       "      <td>40.70184</td>\n",
       "      <td>-73.93317</td>\n",
       "      <td>Private room</td>\n",
       "      <td>40</td>\n",
       "      <td>4</td>\n",
       "      <td>0</td>\n",
       "      <td>NaN</td>\n",
       "      <td>NaN</td>\n",
       "      <td>2</td>\n",
       "      <td>36</td>\n",
       "    </tr>\n",
       "    <tr>\n",
       "      <th>48892</th>\n",
       "      <td>36485431</td>\n",
       "      <td>Sunny Studio at Historical Neighborhood</td>\n",
       "      <td>23492952</td>\n",
       "      <td>Ilgar &amp; Aysel</td>\n",
       "      <td>Manhattan</td>\n",
       "      <td>Harlem</td>\n",
       "      <td>40.81475</td>\n",
       "      <td>-73.94867</td>\n",
       "      <td>Entire home/apt</td>\n",
       "      <td>115</td>\n",
       "      <td>10</td>\n",
       "      <td>0</td>\n",
       "      <td>NaN</td>\n",
       "      <td>NaN</td>\n",
       "      <td>1</td>\n",
       "      <td>27</td>\n",
       "    </tr>\n",
       "    <tr>\n",
       "      <th>48893</th>\n",
       "      <td>36485609</td>\n",
       "      <td>43rd St. Time Square-cozy single bed</td>\n",
       "      <td>30985759</td>\n",
       "      <td>Taz</td>\n",
       "      <td>Manhattan</td>\n",
       "      <td>Hell's Kitchen</td>\n",
       "      <td>40.75751</td>\n",
       "      <td>-73.99112</td>\n",
       "      <td>Shared room</td>\n",
       "      <td>55</td>\n",
       "      <td>1</td>\n",
       "      <td>0</td>\n",
       "      <td>NaN</td>\n",
       "      <td>NaN</td>\n",
       "      <td>6</td>\n",
       "      <td>2</td>\n",
       "    </tr>\n",
       "    <tr>\n",
       "      <th>48894</th>\n",
       "      <td>36487245</td>\n",
       "      <td>Trendy duplex in the very heart of Hell's Kitchen</td>\n",
       "      <td>68119814</td>\n",
       "      <td>Christophe</td>\n",
       "      <td>Manhattan</td>\n",
       "      <td>Hell's Kitchen</td>\n",
       "      <td>40.76404</td>\n",
       "      <td>-73.98933</td>\n",
       "      <td>Private room</td>\n",
       "      <td>90</td>\n",
       "      <td>7</td>\n",
       "      <td>0</td>\n",
       "      <td>NaN</td>\n",
       "      <td>NaN</td>\n",
       "      <td>1</td>\n",
       "      <td>23</td>\n",
       "    </tr>\n",
       "  </tbody>\n",
       "</table>\n",
       "<p>48895 rows × 16 columns</p>\n",
       "</div>"
      ],
      "text/plain": [
       "             id                                               name   host_id  \\\n",
       "0          2539                 Clean & quiet apt home by the park      2787   \n",
       "1          2595                              Skylit Midtown Castle      2845   \n",
       "2          3647                THE VILLAGE OF HARLEM....NEW YORK !      4632   \n",
       "3          3831                    Cozy Entire Floor of Brownstone      4869   \n",
       "4          5022   Entire Apt: Spacious Studio/Loft by central park      7192   \n",
       "...         ...                                                ...       ...   \n",
       "48890  36484665    Charming one bedroom - newly renovated rowhouse   8232441   \n",
       "48891  36485057      Affordable room in Bushwick/East Williamsburg   6570630   \n",
       "48892  36485431            Sunny Studio at Historical Neighborhood  23492952   \n",
       "48893  36485609               43rd St. Time Square-cozy single bed  30985759   \n",
       "48894  36487245  Trendy duplex in the very heart of Hell's Kitchen  68119814   \n",
       "\n",
       "           host_name neighbourhood_group       neighbourhood  latitude  \\\n",
       "0               John            Brooklyn          Kensington  40.64749   \n",
       "1           Jennifer           Manhattan             Midtown  40.75362   \n",
       "2          Elisabeth           Manhattan              Harlem  40.80902   \n",
       "3        LisaRoxanne            Brooklyn        Clinton Hill  40.68514   \n",
       "4              Laura           Manhattan         East Harlem  40.79851   \n",
       "...              ...                 ...                 ...       ...   \n",
       "48890        Sabrina            Brooklyn  Bedford-Stuyvesant  40.67853   \n",
       "48891        Marisol            Brooklyn            Bushwick  40.70184   \n",
       "48892  Ilgar & Aysel           Manhattan              Harlem  40.81475   \n",
       "48893            Taz           Manhattan      Hell's Kitchen  40.75751   \n",
       "48894     Christophe           Manhattan      Hell's Kitchen  40.76404   \n",
       "\n",
       "       longitude        room_type  price  minimum_nights  number_of_reviews  \\\n",
       "0      -73.97237     Private room    149               1                  9   \n",
       "1      -73.98377  Entire home/apt    225               1                 45   \n",
       "2      -73.94190     Private room    150               3                  0   \n",
       "3      -73.95976  Entire home/apt     89               1                270   \n",
       "4      -73.94399  Entire home/apt     80              10                  9   \n",
       "...          ...              ...    ...             ...                ...   \n",
       "48890  -73.94995     Private room     70               2                  0   \n",
       "48891  -73.93317     Private room     40               4                  0   \n",
       "48892  -73.94867  Entire home/apt    115              10                  0   \n",
       "48893  -73.99112      Shared room     55               1                  0   \n",
       "48894  -73.98933     Private room     90               7                  0   \n",
       "\n",
       "      last_review  reviews_per_month  calculated_host_listings_count  \\\n",
       "0      2018-10-19               0.21                               6   \n",
       "1      2019-05-21               0.38                               2   \n",
       "2             NaN                NaN                               1   \n",
       "3      2019-07-05               4.64                               1   \n",
       "4      2018-11-19               0.10                               1   \n",
       "...           ...                ...                             ...   \n",
       "48890         NaN                NaN                               2   \n",
       "48891         NaN                NaN                               2   \n",
       "48892         NaN                NaN                               1   \n",
       "48893         NaN                NaN                               6   \n",
       "48894         NaN                NaN                               1   \n",
       "\n",
       "       availability_365  \n",
       "0                   365  \n",
       "1                   355  \n",
       "2                   365  \n",
       "3                   194  \n",
       "4                     0  \n",
       "...                 ...  \n",
       "48890                 9  \n",
       "48891                36  \n",
       "48892                27  \n",
       "48893                 2  \n",
       "48894                23  \n",
       "\n",
       "[48895 rows x 16 columns]"
      ]
     },
     "execution_count": 4,
     "metadata": {},
     "output_type": "execute_result"
    }
   ],
   "source": [
    "df"
   ]
  },
  {
   "cell_type": "code",
   "execution_count": 5,
   "id": "033e7e43",
   "metadata": {},
   "outputs": [],
   "source": [
    "df.columns=df.columns.str.lower().str.replace(' ','_')"
   ]
  },
  {
   "cell_type": "code",
   "execution_count": 6,
   "id": "6fac99a7",
   "metadata": {},
   "outputs": [
    {
     "data": {
      "text/plain": [
       "['name',\n",
       " 'host_name',\n",
       " 'neighbourhood_group',\n",
       " 'neighbourhood',\n",
       " 'room_type',\n",
       " 'last_review']"
      ]
     },
     "execution_count": 6,
     "metadata": {},
     "output_type": "execute_result"
    }
   ],
   "source": [
    "strings=list(df.dtypes[df.dtypes == 'object'].index)\n",
    "strings"
   ]
  },
  {
   "cell_type": "code",
   "execution_count": 7,
   "id": "d01359b6",
   "metadata": {},
   "outputs": [],
   "source": [
    "for col in strings:\n",
    "    df[col]=df[col].str.lower().str.replace(' ','_').str.replace('-','_')"
   ]
  },
  {
   "cell_type": "code",
   "execution_count": 8,
   "id": "0c42656f",
   "metadata": {},
   "outputs": [
    {
     "name": "stdout",
     "output_type": "stream",
     "text": [
      "id\n",
      "[2539 2595 3647 3831 5022]\n",
      "48895\n",
      "\n",
      "name\n",
      "['clean_&_quiet_apt_home_by_the_park' 'skylit_midtown_castle'\n",
      " 'the_village_of_harlem....new_york_!' 'cozy_entire_floor_of_brownstone'\n",
      " 'entire_apt:_spacious_studio/loft_by_central_park']\n",
      "47469\n",
      "\n",
      "host_id\n",
      "[2787 2845 4632 4869 7192]\n",
      "37457\n",
      "\n",
      "host_name\n",
      "['john' 'jennifer' 'elisabeth' 'lisaroxanne' 'laura']\n",
      "11423\n",
      "\n",
      "neighbourhood_group\n",
      "['brooklyn' 'manhattan' 'queens' 'staten_island' 'bronx']\n",
      "5\n",
      "\n",
      "neighbourhood\n",
      "['kensington' 'midtown' 'harlem' 'clinton_hill' 'east_harlem']\n",
      "221\n",
      "\n",
      "latitude\n",
      "[40.64749 40.75362 40.80902 40.68514 40.79851]\n",
      "19048\n",
      "\n",
      "longitude\n",
      "[-73.97237 -73.98377 -73.9419  -73.95976 -73.94399]\n",
      "14718\n",
      "\n",
      "room_type\n",
      "['private_room' 'entire_home/apt' 'shared_room']\n",
      "3\n",
      "\n",
      "price\n",
      "[149 225 150  89  80]\n",
      "674\n",
      "\n",
      "minimum_nights\n",
      "[ 1  3 10 45  2]\n",
      "109\n",
      "\n",
      "number_of_reviews\n",
      "[  9  45   0 270  74]\n",
      "394\n",
      "\n",
      "last_review\n",
      "['2018_10_19' '2019_05_21' nan '2019_07_05' '2018_11_19']\n",
      "1764\n",
      "\n",
      "reviews_per_month\n",
      "[0.21 0.38  nan 4.64 0.1 ]\n",
      "937\n",
      "\n",
      "calculated_host_listings_count\n",
      "[6 2 1 4 3]\n",
      "47\n",
      "\n",
      "availability_365\n",
      "[365 355 194   0 129]\n",
      "366\n",
      "\n"
     ]
    }
   ],
   "source": [
    "for col in df:\n",
    "    print(col)\n",
    "    print(df[col].unique()[:5])\n",
    "    print(df[col].nunique())\n",
    "    print()"
   ]
  },
  {
   "cell_type": "code",
   "execution_count": 9,
   "id": "c3505e5f",
   "metadata": {},
   "outputs": [],
   "source": [
    "import matplotlib as plt\n",
    "import seaborn as sns\n",
    "\n",
    "%matplotlib inline"
   ]
  },
  {
   "cell_type": "code",
   "execution_count": 10,
   "id": "56376c36",
   "metadata": {},
   "outputs": [
    {
     "data": {
      "text/plain": [
       "<AxesSubplot:xlabel='price', ylabel='Count'>"
      ]
     },
     "execution_count": 10,
     "metadata": {},
     "output_type": "execute_result"
    },
    {
     "data": {
      "image/png": "[encoded data removed]",
      "text/plain": [
       "<Figure size 432x288 with 1 Axes>"
      ]
     },
     "metadata": {
      "needs_background": "light"
     },
     "output_type": "display_data"
    }
   ],
   "source": [
    "sns.histplot(df.price, bins=50)"
   ]
  },
  {
   "cell_type": "code",
   "execution_count": 11,
   "id": "1f8e8c5b",
   "metadata": {},
   "outputs": [
    {
     "data": {
      "text/plain": [
       "<AxesSubplot:xlabel='price', ylabel='Count'>"
      ]
     },
     "execution_count": 11,
     "metadata": {},
     "output_type": "execute_result"
    },
    {
     "data": {
      "image/png": "[encoded data removed]",
      "text/plain": [
       "<Figure size 432x288 with 1 Axes>"
      ]
     },
     "metadata": {
      "needs_background": "light"
     },
     "output_type": "display_data"
    }
   ],
   "source": [
    "sns.histplot(df.price[df.price<1000],bins=50)"
   ]
  },
  {
   "cell_type": "code",
   "execution_count": 12,
   "id": "b173ff51",
   "metadata": {},
   "outputs": [],
   "source": [
    "price_logs=np.log1p(df.price)"
   ]
  },
  {
   "cell_type": "code",
   "execution_count": 13,
   "id": "d05ca2cb",
   "metadata": {},
   "outputs": [
    {
     "data": {
      "text/plain": [
       "<AxesSubplot:xlabel='price', ylabel='Count'>"
      ]
     },
     "execution_count": 13,
     "metadata": {},
     "output_type": "execute_result"
    },
    {
     "data": {
      "image/png": "[encoded data removed]",
      "text/plain": [
       "<Figure size 432x288 with 1 Axes>"
      ]
     },
     "metadata": {
      "needs_background": "light"
     },
     "output_type": "display_data"
    }
   ],
   "source": [
    "sns.histplot(price_logs,bins=50)"
   ]
  },
  {
   "cell_type": "code",
   "execution_count": 14,
   "id": "34a5a864",
   "metadata": {},
   "outputs": [
    {
     "data": {
      "text/plain": [
       "id                                    0\n",
       "name                                 16\n",
       "host_id                               0\n",
       "host_name                            21\n",
       "neighbourhood_group                   0\n",
       "neighbourhood                         0\n",
       "latitude                              0\n",
       "longitude                             0\n",
       "room_type                             0\n",
       "price                                 0\n",
       "minimum_nights                        0\n",
       "number_of_reviews                     0\n",
       "last_review                       10052\n",
       "reviews_per_month                 10052\n",
       "calculated_host_listings_count        0\n",
       "availability_365                      0\n",
       "dtype: int64"
      ]
     },
     "execution_count": 14,
     "metadata": {},
     "output_type": "execute_result"
    }
   ],
   "source": [
    "df.isnull().sum()"
   ]
  },
  {
   "cell_type": "code",
   "execution_count": 15,
   "id": "b21be745",
   "metadata": {},
   "outputs": [],
   "source": [
    "n=len(df)\n",
    "\n",
    "n_val=int(n*0.2)\n",
    "n_tst=int(n*0.2)\n",
    "n_trn=n-(n_val+n_tst)"
   ]
  },
  {
   "cell_type": "code",
   "execution_count": 16,
   "id": "5247f16c",
   "metadata": {},
   "outputs": [
    {
     "data": {
      "text/plain": [
       "(29337, 9779, 9779)"
      ]
     },
     "execution_count": 16,
     "metadata": {},
     "output_type": "execute_result"
    }
   ],
   "source": [
    "n_trn, n_val, n_tst"
   ]
  },
  {
   "cell_type": "code",
   "execution_count": 17,
   "id": "8d80cde6",
   "metadata": {},
   "outputs": [],
   "source": [
    "idx=np.arange(n)"
   ]
  },
  {
   "cell_type": "code",
   "execution_count": 18,
   "id": "404220b3",
   "metadata": {},
   "outputs": [],
   "source": [
    "np.random.seed(42)\n",
    "np.random.shuffle(idx)"
   ]
  },
  {
   "cell_type": "code",
   "execution_count": 19,
   "id": "a81cd310",
   "metadata": {},
   "outputs": [],
   "source": [
    "df_trn=df.iloc[idx[:n_trn]]\n",
    "df_val=df.iloc[idx[n_trn:n_trn+n_val]]\n",
    "df_tst=df.iloc[idx[n_trn+n_val:]]"
   ]
  },
  {
   "cell_type": "code",
   "execution_count": 20,
   "id": "aed8ccac",
   "metadata": {},
   "outputs": [
    {
     "data": {
      "text/plain": [
       "(29337, 9779, 9779)"
      ]
     },
     "execution_count": 20,
     "metadata": {},
     "output_type": "execute_result"
    }
   ],
   "source": [
    "len(df_trn), len(df_val), len(df_tst)"
   ]
  },
  {
   "cell_type": "code",
   "execution_count": 21,
   "id": "1f88055c",
   "metadata": {},
   "outputs": [],
   "source": [
    "df_trn=df_trn.reset_index(drop=True)\n",
    "df_val=df_val.reset_index(drop=True)\n",
    "df_tst=df_tst.reset_index(drop=True)"
   ]
  },
  {
   "cell_type": "code",
   "execution_count": 22,
   "id": "9b926708",
   "metadata": {},
   "outputs": [],
   "source": [
    "y_trn=np.log1p(df_trn.price.values)\n",
    "y_val=np.log1p(df_val.price.values)\n",
    "y_tst=np.log1p(df_tst.price.values)"
   ]
  },
  {
   "cell_type": "code",
   "execution_count": 23,
   "id": "2ecb1d16",
   "metadata": {},
   "outputs": [],
   "source": [
    "del df_trn['price']\n",
    "del df_val['price']\n",
    "del df_tst['price']"
   ]
  },
  {
   "cell_type": "code",
   "execution_count": 24,
   "id": "6111e797",
   "metadata": {},
   "outputs": [
    {
     "data": {
      "text/plain": [
       "Index(['id', 'name', 'host_id', 'host_name', 'neighbourhood_group',\n",
       "       'neighbourhood', 'latitude', 'longitude', 'room_type', 'price',\n",
       "       'minimum_nights', 'number_of_reviews', 'last_review',\n",
       "       'reviews_per_month', 'calculated_host_listings_count',\n",
       "       'availability_365'],\n",
       "      dtype='object')"
      ]
     },
     "execution_count": 24,
     "metadata": {},
     "output_type": "execute_result"
    }
   ],
   "source": [
    "df.columns"
   ]
  },
  {
   "cell_type": "code",
   "execution_count": 25,
   "id": "a264e1f5",
   "metadata": {},
   "outputs": [],
   "source": [
    "base=['latitude', 'longitude','minimum_nights', 'number_of_reviews','reviews_per_month', 'calculated_host_listings_count',\n",
    "       'availability_365','price']\n",
    "features=['latitude', 'longitude','minimum_nights', 'number_of_reviews','reviews_per_month', 'calculated_host_listings_count',\n",
    "       'availability_365']"
   ]
  },
  {
   "cell_type": "code",
   "execution_count": 26,
   "id": "681d010e",
   "metadata": {},
   "outputs": [],
   "source": [
    "df_subset=df[base]"
   ]
  },
  {
   "cell_type": "code",
   "execution_count": 27,
   "id": "1768549f",
   "metadata": {},
   "outputs": [
    {
     "data": {
      "text/plain": [
       "latitude                              0\n",
       "longitude                             0\n",
       "minimum_nights                        0\n",
       "number_of_reviews                     0\n",
       "reviews_per_month                 10052\n",
       "calculated_host_listings_count        0\n",
       "availability_365                      0\n",
       "price                                 0\n",
       "dtype: int64"
      ]
     },
     "execution_count": 27,
     "metadata": {},
     "output_type": "execute_result"
    }
   ],
   "source": [
    "df_subset.isnull().sum()"
   ]
  },
  {
   "cell_type": "code",
   "execution_count": 28,
   "id": "7c4774b2",
   "metadata": {},
   "outputs": [
    {
     "data": {
      "text/plain": [
       "3.0"
      ]
     },
     "execution_count": 28,
     "metadata": {},
     "output_type": "execute_result"
    }
   ],
   "source": [
    "df_subset['minimum_nights'].median()"
   ]
  },
  {
   "cell_type": "code",
   "execution_count": 29,
   "id": "4653b32e",
   "metadata": {},
   "outputs": [],
   "source": [
    "df_trn=df_subset.iloc[idx[:n_trn]]\n",
    "df_val=df_subset.iloc[idx[n_trn:n_trn+n_val]]\n",
    "df_tst=df_subset.iloc[idx[n_trn+n_val:]]"
   ]
  },
  {
   "cell_type": "code",
   "execution_count": 30,
   "id": "71d2deb7",
   "metadata": {},
   "outputs": [
    {
     "data": {
      "text/plain": [
       "(29337, 9779, 9779)"
      ]
     },
     "execution_count": 30,
     "metadata": {},
     "output_type": "execute_result"
    }
   ],
   "source": [
    "len(df_trn), len(df_val), len(df_tst)"
   ]
  },
  {
   "cell_type": "code",
   "execution_count": 31,
   "id": "dd4dc873",
   "metadata": {},
   "outputs": [],
   "source": [
    "df_trn=df_trn.reset_index(drop=True)\n",
    "df_val=df_val.reset_index(drop=True)\n",
    "df_tst=df_tst.reset_index(drop=True)"
   ]
  },
  {
   "cell_type": "code",
   "execution_count": 32,
   "id": "1b3f6d69",
   "metadata": {},
   "outputs": [],
   "source": [
    "y_trn=np.log1p(df_trn.price.values)\n",
    "y_val=np.log1p(df_val.price.values)\n",
    "y_tst=np.log1p(df_tst.price.values)"
   ]
  },
  {
   "cell_type": "code",
   "execution_count": 33,
   "id": "0477e70c",
   "metadata": {},
   "outputs": [],
   "source": [
    "del df_trn['price']\n",
    "del df_val['price']\n",
    "del df_tst['price']"
   ]
  },
  {
   "cell_type": "code",
   "execution_count": null,
   "id": "752f5271",
   "metadata": {},
   "outputs": [],
   "source": []
  },
  {
   "cell_type": "code",
   "execution_count": 34,
   "id": "0965ae13",
   "metadata": {},
   "outputs": [
    {
     "data": {
      "text/plain": [
       "1.3685492094777056"
      ]
     },
     "execution_count": 34,
     "metadata": {},
     "output_type": "execute_result"
    }
   ],
   "source": [
    "mean_val_rpm=df_trn['reviews_per_month'].mean()\n",
    "mean_val_rpm"
   ]
  },
  {
   "cell_type": "markdown",
   "id": "45ef5726",
   "metadata": {},
   "source": [
    "Linear Regression (fillna(0))"
   ]
  },
  {
   "cell_type": "code",
   "execution_count": 35,
   "id": "8011253d",
   "metadata": {},
   "outputs": [],
   "source": [
    "def prepare_X(df):\n",
    "    df_num=df[features]\n",
    "    df_num=df_num.fillna(0)\n",
    "    X=df_num.values\n",
    "    return X"
   ]
  },
  {
   "cell_type": "code",
   "execution_count": 36,
   "id": "b8860519",
   "metadata": {},
   "outputs": [],
   "source": [
    "def train_linear_regression(X, y):\n",
    "    ones = np.ones(X.shape[0])\n",
    "    X = np.column_stack([ones, X])\n",
    "\n",
    "    XTX = X.T.dot(X)\n",
    "    XTX_inv = np.linalg.inv(XTX)\n",
    "    w_full = XTX_inv.dot(X.T).dot(y)\n",
    "    \n",
    "    return w_full[0], w_full[1:]"
   ]
  },
  {
   "cell_type": "code",
   "execution_count": 37,
   "id": "761a7343",
   "metadata": {},
   "outputs": [],
   "source": [
    "def rmse(y,y_pred):\n",
    "    se=(y-y_pred)**2\n",
    "    mse=se.mean()\n",
    "    return np.sqrt(mse)"
   ]
  },
  {
   "cell_type": "code",
   "execution_count": 38,
   "id": "835ccbbf",
   "metadata": {},
   "outputs": [
    {
     "data": {
      "text/plain": [
       "0.64"
      ]
     },
     "execution_count": 38,
     "metadata": {},
     "output_type": "execute_result"
    }
   ],
   "source": [
    "X_trn=prepare_X(df_trn)\n",
    "w0, w = train_linear_regression(X_trn, y_trn)\n",
    "\n",
    "X_val = prepare_X(df_val)\n",
    "y_pred = w0 + X_val.dot(w)\n",
    "score=rmse(y_val, y_pred)\n",
    "round(score,2)"
   ]
  },
  {
   "cell_type": "markdown",
   "id": "04ba7a3c",
   "metadata": {},
   "source": [
    "Linear Regression (fillna(trn_mean))"
   ]
  },
  {
   "cell_type": "code",
   "execution_count": 39,
   "id": "ede850a2",
   "metadata": {},
   "outputs": [],
   "source": [
    "def prepare_X(df):\n",
    "    df_num=df[features]\n",
    "    df_num=df_num.fillna(mean_val_rpm)\n",
    "    X=df_num.values\n",
    "    return X"
   ]
  },
  {
   "cell_type": "code",
   "execution_count": 40,
   "id": "abac0715",
   "metadata": {},
   "outputs": [
    {
     "data": {
      "text/plain": [
       "0.64"
      ]
     },
     "execution_count": 40,
     "metadata": {},
     "output_type": "execute_result"
    }
   ],
   "source": [
    "X_trn=prepare_X(df_trn)\n",
    "w0, w = train_linear_regression(X_trn, y_trn)\n",
    "\n",
    "X_val = prepare_X(df_val)\n",
    "y_pred = w0 + X_val.dot(w)\n",
    "score=rmse(y_val, y_pred)\n",
    "round(score,2)"
   ]
  },
  {
   "cell_type": "markdown",
   "id": "83be5564",
   "metadata": {},
   "source": [
    "Regularization"
   ]
  },
  {
   "cell_type": "code",
   "execution_count": 41,
   "id": "fc53308e",
   "metadata": {},
   "outputs": [],
   "source": [
    "def prepare_X(df):\n",
    "    df_num=df[features]\n",
    "    df_num=df_num.fillna(0)\n",
    "    X=df_num.values\n",
    "    return X"
   ]
  },
  {
   "cell_type": "code",
   "execution_count": 42,
   "id": "fd0bc0fd",
   "metadata": {},
   "outputs": [],
   "source": [
    "def train_linear_regression_reg(X, y,r):\n",
    "    ones = np.ones(X.shape[0])\n",
    "    X = np.column_stack([ones, X])\n",
    "\n",
    "    XTX = X.T.dot(X)\n",
    "    XTX=XTX+(r*np.eye(XTX.shape[0]))\n",
    "    XTX_inv = np.linalg.inv(XTX)\n",
    "    w_full = XTX_inv.dot(X.T).dot(y)\n",
    "    \n",
    "    return w_full[0], w_full[1:]"
   ]
  },
  {
   "cell_type": "code",
   "execution_count": 43,
   "id": "b39318ab",
   "metadata": {},
   "outputs": [
    {
     "name": "stdout",
     "output_type": "stream",
     "text": [
      "0     0.64     -419.9126551485841\n",
      "1e-06     0.64     -419.86271254075905\n",
      "0.0001     0.64     -414.97648935850873\n",
      "0.001     0.64     -375.27364997733105\n",
      "0.01     0.66     -191.7838398787432\n",
      "0.1     0.68     -32.562560537850175\n",
      "1     0.68     -3.4992168409932445\n",
      "5     0.68     -0.7033623154483706\n",
      "10     0.68     -0.35127675989597107\n"
     ]
    }
   ],
   "source": [
    "for r in [0, 0.000001, 0.0001, 0.001, 0.01, 0.1, 1, 5, 10]:\n",
    "    X_trn = prepare_X(df_trn)\n",
    "    w0, w = train_linear_regression_reg(X_trn, y_trn,r)\n",
    "\n",
    "    X_val = prepare_X(df_val)\n",
    "    y_pred = w0 + X_val.dot(w)\n",
    "    score=rmse(y_val, y_pred)\n",
    "    score=round(score,2)\n",
    "    print(r,\"   \",score,\"   \",w0)"
   ]
  },
  {
   "cell_type": "code",
   "execution_count": 44,
   "id": "4a33157f",
   "metadata": {},
   "outputs": [],
   "source": [
    "r=0.001"
   ]
  },
  {
   "cell_type": "markdown",
   "id": "78977c08",
   "metadata": {},
   "source": [
    "Using different seed"
   ]
  },
  {
   "cell_type": "code",
   "execution_count": 45,
   "id": "eb1e9ca8",
   "metadata": {},
   "outputs": [
    {
     "name": "stdout",
     "output_type": "stream",
     "text": [
      "0     0.6549779961414438     -427.6284449058021\n",
      "1     0.6462523685109162     -414.70555415090587\n",
      "2     0.6476558177579959     -423.2541364142728\n",
      "3     0.637514506955726     -421.8933101357883\n",
      "4     0.6445809084000428     -422.0609828558506\n",
      "5     0.6305809996755244     -429.17876294562495\n",
      "6     0.6297851916850383     -427.4919027611459\n",
      "7     0.6506184267079381     -428.1884711803581\n",
      "8     0.6489780353528753     -427.6929139134662\n",
      "9     0.6437565168746189     -426.98269749405193\n"
     ]
    }
   ],
   "source": [
    "scores=np.zeros(10)\n",
    "for s in [0, 1, 2, 3, 4, 5, 6, 7, 8, 9]:\n",
    "    idx=np.arange(n)\n",
    "    df_subset=df[base]\n",
    "    np.random.seed(s)\n",
    "    np.random.shuffle(idx)\n",
    "    df_trn=df_subset.iloc[idx[:n_trn]]\n",
    "    df_val=df_subset.iloc[idx[n_trn:n_trn+n_val]]\n",
    "    df_tst=df_subset.iloc[idx[n_trn+n_val:]]\n",
    "    df_trn=df_trn.reset_index(drop=True)\n",
    "    df_val=df_val.reset_index(drop=True)\n",
    "    df_tst=df_tst.reset_index(drop=True)\n",
    "    y_trn=np.log1p(df_trn.price.values)\n",
    "    y_val=np.log1p(df_val.price.values)\n",
    "    y_tst=np.log1p(df_tst.price.values)\n",
    "    del df_trn['price']\n",
    "    del df_val['price']\n",
    "    del df_tst['price']\n",
    "    X_trn = prepare_X(df_trn)\n",
    "    w0, w = train_linear_regression(X_trn, y_trn)\n",
    "\n",
    "    X_val = prepare_X(df_val)\n",
    "    y_pred = w0 + X_val.dot(w)\n",
    "    scores[s]=rmse(y_val, y_pred)\n",
    "    print(s,\"   \",scores[s],\"   \",w0)"
   ]
  },
  {
   "cell_type": "code",
   "execution_count": 46,
   "id": "890ad185",
   "metadata": {},
   "outputs": [
    {
     "data": {
      "text/plain": [
       "0.008"
      ]
     },
     "execution_count": 46,
     "metadata": {},
     "output_type": "execute_result"
    }
   ],
   "source": [
    "scores_std=np.std(scores)\n",
    "round(scores_std,3)"
   ]
  },
  {
   "cell_type": "code",
   "execution_count": 47,
   "id": "1bb3067c",
   "metadata": {},
   "outputs": [
    {
     "data": {
      "text/plain": [
       "0.65"
      ]
     },
     "execution_count": 47,
     "metadata": {},
     "output_type": "execute_result"
    }
   ],
   "source": [
    "df_full_trn=pd.concat([df_trn, df_val])\n",
    "df_full_trn = df_full_trn.reset_index(drop=True)\n",
    "y_full_trn = np.concatenate([y_trn, y_val])\n",
    "X_full_trn = prepare_X(df_full_trn)\n",
    "w0, w = train_linear_regression_reg(X_full_trn, y_full_trn, r=0.001)\n",
    "\n",
    "X_tst = prepare_X(df_tst)\n",
    "y_pred = w0 + X_tst.dot(w)\n",
    "score = rmse(y_tst, y_pred)\n",
    "round(score,2)"
   ]
  },
  {
   "cell_type": "code",
   "execution_count": 56,
   "id": "8cff5097",
   "metadata": {},
   "outputs": [],
   "source": [
    "ii=20\n",
    "House = df_tst.iloc[ii].to_dict()\n",
    "df_small = pd.DataFrame([House])\n",
    "X_small = prepare_X(df_small)\n",
    "y_pred = w0 + X_small.dot(w)\n",
    "y_pred = y_pred[0]"
   ]
  }
 ],
 "metadata": {
  "kernelspec": {
   "display_name": "Python 3",
   "language": "python",
   "name": "python3"
  },
  "language_info": {
   "codemirror_mode": {
    "name": "ipython",
    "version": 3
   },
   "file_extension": ".py",
   "mimetype": "text/x-python",
   "name": "python",
   "nbconvert_exporter": "python",
   "pygments_lexer": "ipython3",
   "version": "3.8.8"
  }
 },
 "nbformat": 4,
 "nbformat_minor": 5
}
