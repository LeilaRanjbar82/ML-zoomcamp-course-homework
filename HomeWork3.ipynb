{
 "cells": [
  {
   "cell_type": "code",
   "execution_count": 1,
   "id": "e645218a",
   "metadata": {},
   "outputs": [],
   "source": [
    "import pandas as pd\n",
    "import numpy as np\n",
    "\n",
    "import matplotlib.pyplot as plt"
   ]
  },
  {
   "cell_type": "code",
   "execution_count": 2,
   "id": "c7dc98f1",
   "metadata": {},
   "outputs": [],
   "source": [
    "df=pd.read_csv('AB_NYC_2019.csv')"
   ]
  },
  {
   "cell_type": "code",
   "execution_count": 3,
   "id": "dda62053",
   "metadata": {},
   "outputs": [
    {
     "data": {
      "text/plain": [
       "id                                  int64\n",
       "name                               object\n",
       "host_id                             int64\n",
       "host_name                          object\n",
       "neighbourhood_group                object\n",
       "neighbourhood                      object\n",
       "latitude                          float64\n",
       "longitude                         float64\n",
       "room_type                          object\n",
       "price                               int64\n",
       "minimum_nights                      int64\n",
       "number_of_reviews                   int64\n",
       "last_review                        object\n",
       "reviews_per_month                 float64\n",
       "calculated_host_listings_count      int64\n",
       "availability_365                    int64\n",
       "dtype: object"
      ]
     },
     "execution_count": 3,
     "metadata": {},
     "output_type": "execute_result"
    }
   ],
   "source": [
    "df.dtypes"
   ]
  },
  {
   "cell_type": "code",
   "execution_count": 4,
   "id": "421aa270",
   "metadata": {},
   "outputs": [],
   "source": [
    "df.columns=df.columns.str.lower().str.replace(\" \",\"_\").str.replace(\"-\",\"_\")\n",
    "\n",
    "categorical_columns = list(df.dtypes[df.dtypes == 'object'].index)\n",
    "for c in categorical_columns:\n",
    "    df[c] = df[c].str.lower().str.replace(' ', '_').str.replace(\"-\",\"_\")"
   ]
  },
  {
   "cell_type": "code",
   "execution_count": 5,
   "id": "4732f034",
   "metadata": {},
   "outputs": [],
   "source": [
    "categorical=['neighbourhood_group','room_type']\n",
    "numerical=['latitude', 'longitude','minimum_nights', 'number_of_reviews','reviews_per_month', 'calculated_host_listings_count',\n",
    "       'availability_365']\n",
    "target=['price']"
   ]
  },
  {
   "cell_type": "code",
   "execution_count": 6,
   "id": "f96070cc",
   "metadata": {},
   "outputs": [],
   "source": [
    "df['reviews_per_month']=df['reviews_per_month'].fillna(0)"
   ]
  },
  {
   "cell_type": "code",
   "execution_count": 7,
   "id": "60f3bc40",
   "metadata": {},
   "outputs": [
    {
     "data": {
      "text/plain": [
       "id                                    0\n",
       "name                                 16\n",
       "host_id                               0\n",
       "host_name                            21\n",
       "neighbourhood_group                   0\n",
       "neighbourhood                         0\n",
       "latitude                              0\n",
       "longitude                             0\n",
       "room_type                             0\n",
       "price                                 0\n",
       "minimum_nights                        0\n",
       "number_of_reviews                     0\n",
       "last_review                       10052\n",
       "reviews_per_month                     0\n",
       "calculated_host_listings_count        0\n",
       "availability_365                      0\n",
       "dtype: int64"
      ]
     },
     "execution_count": 7,
     "metadata": {},
     "output_type": "execute_result"
    }
   ],
   "source": [
    "df.isnull().sum()"
   ]
  },
  {
   "cell_type": "code",
   "execution_count": 8,
   "id": "3075fbf0",
   "metadata": {},
   "outputs": [
    {
     "data": {
      "text/plain": [
       "manhattan        21661\n",
       "brooklyn         20104\n",
       "queens            5666\n",
       "bronx             1091\n",
       "staten_island      373\n",
       "Name: neighbourhood_group, dtype: int64"
      ]
     },
     "execution_count": 8,
     "metadata": {},
     "output_type": "execute_result"
    }
   ],
   "source": [
    "df['neighbourhood_group'].value_counts()"
   ]
  },
  {
   "cell_type": "markdown",
   "id": "9b6ed05c",
   "metadata": {},
   "source": [
    "# Q1. manhattan"
   ]
  },
  {
   "cell_type": "code",
   "execution_count": 9,
   "id": "55c72101",
   "metadata": {},
   "outputs": [],
   "source": [
    "df_hw3=df[categorical+numerical+target]"
   ]
  },
  {
   "cell_type": "code",
   "execution_count": 10,
   "id": "6eedc75c",
   "metadata": {},
   "outputs": [
    {
     "data": {
      "text/html": [
       "<div>\n",
       "<style scoped>\n",
       "    .dataframe tbody tr th:only-of-type {\n",
       "        vertical-align: middle;\n",
       "    }\n",
       "\n",
       "    .dataframe tbody tr th {\n",
       "        vertical-align: top;\n",
       "    }\n",
       "\n",
       "    .dataframe thead th {\n",
       "        text-align: right;\n",
       "    }\n",
       "</style>\n",
       "<table border=\"1\" class=\"dataframe\">\n",
       "  <thead>\n",
       "    <tr style=\"text-align: right;\">\n",
       "      <th></th>\n",
       "      <th>0</th>\n",
       "      <th>1</th>\n",
       "      <th>2</th>\n",
       "      <th>3</th>\n",
       "      <th>4</th>\n",
       "    </tr>\n",
       "  </thead>\n",
       "  <tbody>\n",
       "    <tr>\n",
       "      <th>neighbourhood_group</th>\n",
       "      <td>brooklyn</td>\n",
       "      <td>manhattan</td>\n",
       "      <td>manhattan</td>\n",
       "      <td>brooklyn</td>\n",
       "      <td>manhattan</td>\n",
       "    </tr>\n",
       "    <tr>\n",
       "      <th>room_type</th>\n",
       "      <td>private_room</td>\n",
       "      <td>entire_home/apt</td>\n",
       "      <td>private_room</td>\n",
       "      <td>entire_home/apt</td>\n",
       "      <td>entire_home/apt</td>\n",
       "    </tr>\n",
       "    <tr>\n",
       "      <th>latitude</th>\n",
       "      <td>40.64749</td>\n",
       "      <td>40.75362</td>\n",
       "      <td>40.80902</td>\n",
       "      <td>40.68514</td>\n",
       "      <td>40.79851</td>\n",
       "    </tr>\n",
       "    <tr>\n",
       "      <th>longitude</th>\n",
       "      <td>-73.97237</td>\n",
       "      <td>-73.98377</td>\n",
       "      <td>-73.9419</td>\n",
       "      <td>-73.95976</td>\n",
       "      <td>-73.94399</td>\n",
       "    </tr>\n",
       "    <tr>\n",
       "      <th>minimum_nights</th>\n",
       "      <td>1</td>\n",
       "      <td>1</td>\n",
       "      <td>3</td>\n",
       "      <td>1</td>\n",
       "      <td>10</td>\n",
       "    </tr>\n",
       "    <tr>\n",
       "      <th>number_of_reviews</th>\n",
       "      <td>9</td>\n",
       "      <td>45</td>\n",
       "      <td>0</td>\n",
       "      <td>270</td>\n",
       "      <td>9</td>\n",
       "    </tr>\n",
       "    <tr>\n",
       "      <th>reviews_per_month</th>\n",
       "      <td>0.21</td>\n",
       "      <td>0.38</td>\n",
       "      <td>0.0</td>\n",
       "      <td>4.64</td>\n",
       "      <td>0.1</td>\n",
       "    </tr>\n",
       "    <tr>\n",
       "      <th>calculated_host_listings_count</th>\n",
       "      <td>6</td>\n",
       "      <td>2</td>\n",
       "      <td>1</td>\n",
       "      <td>1</td>\n",
       "      <td>1</td>\n",
       "    </tr>\n",
       "    <tr>\n",
       "      <th>availability_365</th>\n",
       "      <td>365</td>\n",
       "      <td>355</td>\n",
       "      <td>365</td>\n",
       "      <td>194</td>\n",
       "      <td>0</td>\n",
       "    </tr>\n",
       "    <tr>\n",
       "      <th>price</th>\n",
       "      <td>149</td>\n",
       "      <td>225</td>\n",
       "      <td>150</td>\n",
       "      <td>89</td>\n",
       "      <td>80</td>\n",
       "    </tr>\n",
       "  </tbody>\n",
       "</table>\n",
       "</div>"
      ],
      "text/plain": [
       "                                           0                1             2  \\\n",
       "neighbourhood_group                 brooklyn        manhattan     manhattan   \n",
       "room_type                       private_room  entire_home/apt  private_room   \n",
       "latitude                            40.64749         40.75362      40.80902   \n",
       "longitude                          -73.97237        -73.98377      -73.9419   \n",
       "minimum_nights                             1                1             3   \n",
       "number_of_reviews                          9               45             0   \n",
       "reviews_per_month                       0.21             0.38           0.0   \n",
       "calculated_host_listings_count             6                2             1   \n",
       "availability_365                         365              355           365   \n",
       "price                                    149              225           150   \n",
       "\n",
       "                                              3                4  \n",
       "neighbourhood_group                    brooklyn        manhattan  \n",
       "room_type                       entire_home/apt  entire_home/apt  \n",
       "latitude                               40.68514         40.79851  \n",
       "longitude                             -73.95976        -73.94399  \n",
       "minimum_nights                                1               10  \n",
       "number_of_reviews                           270                9  \n",
       "reviews_per_month                          4.64              0.1  \n",
       "calculated_host_listings_count                1                1  \n",
       "availability_365                            194                0  \n",
       "price                                        89               80  "
      ]
     },
     "execution_count": 10,
     "metadata": {},
     "output_type": "execute_result"
    }
   ],
   "source": [
    "df_hw3.head(5).T"
   ]
  },
  {
   "cell_type": "code",
   "execution_count": 11,
   "id": "5da2c483",
   "metadata": {},
   "outputs": [],
   "source": [
    "from sklearn.model_selection import train_test_split"
   ]
  },
  {
   "cell_type": "code",
   "execution_count": 12,
   "id": "ef84e476",
   "metadata": {},
   "outputs": [],
   "source": [
    "df_full_train, df_test = train_test_split(df_hw3, test_size=0.2, random_state=42)\n",
    "df_train, df_val = train_test_split(df_full_train, test_size=0.25, random_state=42)"
   ]
  },
  {
   "cell_type": "code",
   "execution_count": 13,
   "id": "5f4370bf",
   "metadata": {},
   "outputs": [
    {
     "data": {
      "text/plain": [
       "(29337, 9779, 9779)"
      ]
     },
     "execution_count": 13,
     "metadata": {},
     "output_type": "execute_result"
    }
   ],
   "source": [
    "len(df_train), len(df_val), len(df_test)"
   ]
  },
  {
   "cell_type": "code",
   "execution_count": 14,
   "id": "92930af7",
   "metadata": {},
   "outputs": [],
   "source": [
    "df_train = df_train.reset_index(drop=True)\n",
    "df_val = df_val.reset_index(drop=True)\n",
    "df_test = df_test.reset_index(drop=True)"
   ]
  },
  {
   "cell_type": "code",
   "execution_count": 15,
   "id": "57d1fc8f",
   "metadata": {},
   "outputs": [],
   "source": [
    "y_train = df_train.price.values\n",
    "y_val = df_val.price.values\n",
    "y_test = df_test.price.values\n",
    "\n",
    "del df_train['price']\n",
    "del df_val['price']\n",
    "del df_test['price']"
   ]
  },
  {
   "cell_type": "code",
   "execution_count": 16,
   "id": "49bf81fa",
   "metadata": {},
   "outputs": [
    {
     "data": {
      "text/html": [
       "<div>\n",
       "<style scoped>\n",
       "    .dataframe tbody tr th:only-of-type {\n",
       "        vertical-align: middle;\n",
       "    }\n",
       "\n",
       "    .dataframe tbody tr th {\n",
       "        vertical-align: top;\n",
       "    }\n",
       "\n",
       "    .dataframe thead th {\n",
       "        text-align: right;\n",
       "    }\n",
       "</style>\n",
       "<table border=\"1\" class=\"dataframe\">\n",
       "  <thead>\n",
       "    <tr style=\"text-align: right;\">\n",
       "      <th></th>\n",
       "      <th>0</th>\n",
       "      <th>1</th>\n",
       "      <th>2</th>\n",
       "      <th>3</th>\n",
       "      <th>4</th>\n",
       "    </tr>\n",
       "  </thead>\n",
       "  <tbody>\n",
       "    <tr>\n",
       "      <th>neighbourhood_group</th>\n",
       "      <td>brooklyn</td>\n",
       "      <td>manhattan</td>\n",
       "      <td>bronx</td>\n",
       "      <td>brooklyn</td>\n",
       "      <td>manhattan</td>\n",
       "    </tr>\n",
       "    <tr>\n",
       "      <th>room_type</th>\n",
       "      <td>entire_home/apt</td>\n",
       "      <td>private_room</td>\n",
       "      <td>entire_home/apt</td>\n",
       "      <td>entire_home/apt</td>\n",
       "      <td>private_room</td>\n",
       "    </tr>\n",
       "    <tr>\n",
       "      <th>latitude</th>\n",
       "      <td>40.7276</td>\n",
       "      <td>40.70847</td>\n",
       "      <td>40.83149</td>\n",
       "      <td>40.66448</td>\n",
       "      <td>40.74118</td>\n",
       "    </tr>\n",
       "    <tr>\n",
       "      <th>longitude</th>\n",
       "      <td>-73.94495</td>\n",
       "      <td>-74.00498</td>\n",
       "      <td>-73.92766</td>\n",
       "      <td>-73.99407</td>\n",
       "      <td>-74.00012</td>\n",
       "    </tr>\n",
       "    <tr>\n",
       "      <th>minimum_nights</th>\n",
       "      <td>3</td>\n",
       "      <td>1</td>\n",
       "      <td>40</td>\n",
       "      <td>2</td>\n",
       "      <td>1</td>\n",
       "    </tr>\n",
       "    <tr>\n",
       "      <th>number_of_reviews</th>\n",
       "      <td>29</td>\n",
       "      <td>0</td>\n",
       "      <td>0</td>\n",
       "      <td>3</td>\n",
       "      <td>48</td>\n",
       "    </tr>\n",
       "    <tr>\n",
       "      <th>reviews_per_month</th>\n",
       "      <td>0.7</td>\n",
       "      <td>0.0</td>\n",
       "      <td>0.0</td>\n",
       "      <td>0.08</td>\n",
       "      <td>1.8</td>\n",
       "    </tr>\n",
       "    <tr>\n",
       "      <th>calculated_host_listings_count</th>\n",
       "      <td>13</td>\n",
       "      <td>1</td>\n",
       "      <td>1</td>\n",
       "      <td>1</td>\n",
       "      <td>2</td>\n",
       "    </tr>\n",
       "    <tr>\n",
       "      <th>availability_365</th>\n",
       "      <td>50</td>\n",
       "      <td>7</td>\n",
       "      <td>0</td>\n",
       "      <td>0</td>\n",
       "      <td>67</td>\n",
       "    </tr>\n",
       "  </tbody>\n",
       "</table>\n",
       "</div>"
      ],
      "text/plain": [
       "                                              0             1  \\\n",
       "neighbourhood_group                    brooklyn     manhattan   \n",
       "room_type                       entire_home/apt  private_room   \n",
       "latitude                                40.7276      40.70847   \n",
       "longitude                             -73.94495     -74.00498   \n",
       "minimum_nights                                3             1   \n",
       "number_of_reviews                            29             0   \n",
       "reviews_per_month                           0.7           0.0   \n",
       "calculated_host_listings_count               13             1   \n",
       "availability_365                             50             7   \n",
       "\n",
       "                                              2                3             4  \n",
       "neighbourhood_group                       bronx         brooklyn     manhattan  \n",
       "room_type                       entire_home/apt  entire_home/apt  private_room  \n",
       "latitude                               40.83149         40.66448      40.74118  \n",
       "longitude                             -73.92766        -73.99407     -74.00012  \n",
       "minimum_nights                               40                2             1  \n",
       "number_of_reviews                             0                3            48  \n",
       "reviews_per_month                           0.0             0.08           1.8  \n",
       "calculated_host_listings_count                1                1             2  \n",
       "availability_365                              0                0            67  "
      ]
     },
     "execution_count": 16,
     "metadata": {},
     "output_type": "execute_result"
    }
   ],
   "source": [
    "df_train.head(5).T"
   ]
  },
  {
   "cell_type": "code",
   "execution_count": 17,
   "id": "ea81290d",
   "metadata": {},
   "outputs": [],
   "source": [
    "df_full_train = df_full_train.reset_index(drop=True)"
   ]
  },
  {
   "cell_type": "code",
   "execution_count": 18,
   "id": "055f49ef",
   "metadata": {},
   "outputs": [
    {
     "data": {
      "text/plain": [
       "7"
      ]
     },
     "execution_count": 18,
     "metadata": {},
     "output_type": "execute_result"
    }
   ],
   "source": [
    "n=len(numerical)\n",
    "n"
   ]
  },
  {
   "cell_type": "code",
   "execution_count": 19,
   "id": "2b8a8368",
   "metadata": {},
   "outputs": [],
   "source": [
    "corr_mat=pd.DataFrame()\n",
    "\n",
    "for i in range(n):\n",
    "    corr_mat[numerical[i]]=df_full_train[numerical].corrwith(df_full_train[numerical[i]]).abs().round(3)"
   ]
  },
  {
   "cell_type": "code",
   "execution_count": 20,
   "id": "547b2d70",
   "metadata": {},
   "outputs": [
    {
     "data": {
      "text/html": [
       "<div>\n",
       "<style scoped>\n",
       "    .dataframe tbody tr th:only-of-type {\n",
       "        vertical-align: middle;\n",
       "    }\n",
       "\n",
       "    .dataframe tbody tr th {\n",
       "        vertical-align: top;\n",
       "    }\n",
       "\n",
       "    .dataframe thead th {\n",
       "        text-align: right;\n",
       "    }\n",
       "</style>\n",
       "<table border=\"1\" class=\"dataframe\">\n",
       "  <thead>\n",
       "    <tr style=\"text-align: right;\">\n",
       "      <th></th>\n",
       "      <th>latitude</th>\n",
       "      <th>longitude</th>\n",
       "      <th>minimum_nights</th>\n",
       "      <th>number_of_reviews</th>\n",
       "      <th>reviews_per_month</th>\n",
       "      <th>calculated_host_listings_count</th>\n",
       "      <th>availability_365</th>\n",
       "    </tr>\n",
       "  </thead>\n",
       "  <tbody>\n",
       "    <tr>\n",
       "      <th>latitude</th>\n",
       "      <td>1.000</td>\n",
       "      <td>0.081</td>\n",
       "      <td>0.025</td>\n",
       "      <td>0.012</td>\n",
       "      <td>0.014</td>\n",
       "      <td>0.020</td>\n",
       "      <td>0.008</td>\n",
       "    </tr>\n",
       "    <tr>\n",
       "      <th>longitude</th>\n",
       "      <td>0.081</td>\n",
       "      <td>1.000</td>\n",
       "      <td>0.063</td>\n",
       "      <td>0.058</td>\n",
       "      <td>0.134</td>\n",
       "      <td>0.115</td>\n",
       "      <td>0.083</td>\n",
       "    </tr>\n",
       "    <tr>\n",
       "      <th>minimum_nights</th>\n",
       "      <td>0.025</td>\n",
       "      <td>0.063</td>\n",
       "      <td>1.000</td>\n",
       "      <td>0.078</td>\n",
       "      <td>0.122</td>\n",
       "      <td>0.122</td>\n",
       "      <td>0.141</td>\n",
       "    </tr>\n",
       "    <tr>\n",
       "      <th>number_of_reviews</th>\n",
       "      <td>0.012</td>\n",
       "      <td>0.058</td>\n",
       "      <td>0.078</td>\n",
       "      <td>1.000</td>\n",
       "      <td>0.585</td>\n",
       "      <td>0.073</td>\n",
       "      <td>0.175</td>\n",
       "    </tr>\n",
       "    <tr>\n",
       "      <th>reviews_per_month</th>\n",
       "      <td>0.014</td>\n",
       "      <td>0.134</td>\n",
       "      <td>0.122</td>\n",
       "      <td>0.585</td>\n",
       "      <td>1.000</td>\n",
       "      <td>0.047</td>\n",
       "      <td>0.166</td>\n",
       "    </tr>\n",
       "    <tr>\n",
       "      <th>calculated_host_listings_count</th>\n",
       "      <td>0.020</td>\n",
       "      <td>0.115</td>\n",
       "      <td>0.122</td>\n",
       "      <td>0.073</td>\n",
       "      <td>0.047</td>\n",
       "      <td>1.000</td>\n",
       "      <td>0.223</td>\n",
       "    </tr>\n",
       "    <tr>\n",
       "      <th>availability_365</th>\n",
       "      <td>0.008</td>\n",
       "      <td>0.083</td>\n",
       "      <td>0.141</td>\n",
       "      <td>0.175</td>\n",
       "      <td>0.166</td>\n",
       "      <td>0.223</td>\n",
       "      <td>1.000</td>\n",
       "    </tr>\n",
       "  </tbody>\n",
       "</table>\n",
       "</div>"
      ],
      "text/plain": [
       "                                latitude  longitude  minimum_nights  \\\n",
       "latitude                           1.000      0.081           0.025   \n",
       "longitude                          0.081      1.000           0.063   \n",
       "minimum_nights                     0.025      0.063           1.000   \n",
       "number_of_reviews                  0.012      0.058           0.078   \n",
       "reviews_per_month                  0.014      0.134           0.122   \n",
       "calculated_host_listings_count     0.020      0.115           0.122   \n",
       "availability_365                   0.008      0.083           0.141   \n",
       "\n",
       "                                number_of_reviews  reviews_per_month  \\\n",
       "latitude                                    0.012              0.014   \n",
       "longitude                                   0.058              0.134   \n",
       "minimum_nights                              0.078              0.122   \n",
       "number_of_reviews                           1.000              0.585   \n",
       "reviews_per_month                           0.585              1.000   \n",
       "calculated_host_listings_count              0.073              0.047   \n",
       "availability_365                            0.175              0.166   \n",
       "\n",
       "                                calculated_host_listings_count  \\\n",
       "latitude                                                 0.020   \n",
       "longitude                                                0.115   \n",
       "minimum_nights                                           0.122   \n",
       "number_of_reviews                                        0.073   \n",
       "reviews_per_month                                        0.047   \n",
       "calculated_host_listings_count                           1.000   \n",
       "availability_365                                         0.223   \n",
       "\n",
       "                                availability_365  \n",
       "latitude                                   0.008  \n",
       "longitude                                  0.083  \n",
       "minimum_nights                             0.141  \n",
       "number_of_reviews                          0.175  \n",
       "reviews_per_month                          0.166  \n",
       "calculated_host_listings_count             0.223  \n",
       "availability_365                           1.000  "
      ]
     },
     "execution_count": 20,
     "metadata": {},
     "output_type": "execute_result"
    }
   ],
   "source": [
    "corr_mat"
   ]
  },
  {
   "cell_type": "markdown",
   "id": "d9d74853",
   "metadata": {},
   "source": [
    "# Q2.number_of_reviews and reviews_per_month   0.585"
   ]
  },
  {
   "cell_type": "markdown",
   "id": "40ed8b12",
   "metadata": {},
   "source": []
  },
  {
   "cell_type": "code",
   "execution_count": 21,
   "id": "bf6b6ee7",
   "metadata": {},
   "outputs": [
    {
     "data": {
      "text/plain": [
       "(array([0, 0, 0, ..., 1, 0, 0]), 29337)"
      ]
     },
     "execution_count": 21,
     "metadata": {},
     "output_type": "execute_result"
    }
   ],
   "source": [
    "above_average=(y_train>=152).astype(int)\n",
    "above_average, len(above_average)"
   ]
  },
  {
   "cell_type": "code",
   "execution_count": 22,
   "id": "0d289335",
   "metadata": {},
   "outputs": [],
   "source": [
    "from sklearn.metrics import mutual_info_score"
   ]
  },
  {
   "cell_type": "code",
   "execution_count": 23,
   "id": "bb215851",
   "metadata": {},
   "outputs": [],
   "source": [
    "def mutual_info_churn_score(series):\n",
    "    return mutual_info_score(series, above_average)"
   ]
  },
  {
   "cell_type": "code",
   "execution_count": 24,
   "id": "bdb68c63",
   "metadata": {},
   "outputs": [
    {
     "data": {
      "text/plain": [
       "room_type              0.14\n",
       "neighbourhood_group    0.05\n",
       "dtype: float64"
      ]
     },
     "execution_count": 24,
     "metadata": {},
     "output_type": "execute_result"
    }
   ],
   "source": [
    "mi = df_train[categorical].apply(mutual_info_churn_score)\n",
    "mi.sort_values(ascending=False).round(2)"
   ]
  },
  {
   "cell_type": "markdown",
   "id": "6eccd232",
   "metadata": {},
   "source": [
    "# Q3.room_type"
   ]
  },
  {
   "cell_type": "code",
   "execution_count": 25,
   "id": "93a82fb2",
   "metadata": {},
   "outputs": [],
   "source": [
    "from sklearn.feature_extraction import DictVectorizer"
   ]
  },
  {
   "cell_type": "code",
   "execution_count": 26,
   "id": "08f0c955",
   "metadata": {},
   "outputs": [],
   "source": [
    "dv=DictVectorizer(sparse=False)\n",
    "\n",
    "train_dicts=df_train[categorical+numerical].to_dict(orient='records')\n",
    "X_train=dv.fit_transform(train_dicts)\n",
    "\n",
    "val_dicts=df_val[categorical+numerical].to_dict(orient='records')\n",
    "X_val=dv.transform(val_dicts)"
   ]
  },
  {
   "cell_type": "code",
   "execution_count": 27,
   "id": "7ef811f5",
   "metadata": {},
   "outputs": [
    {
     "data": {
      "text/plain": [
       "(29337, 29337)"
      ]
     },
     "execution_count": 27,
     "metadata": {},
     "output_type": "execute_result"
    }
   ],
   "source": [
    "len(X_train),len(y_train)"
   ]
  },
  {
   "cell_type": "code",
   "execution_count": 28,
   "id": "b4909579",
   "metadata": {},
   "outputs": [],
   "source": [
    "from sklearn.linear_model import LogisticRegression"
   ]
  },
  {
   "cell_type": "code",
   "execution_count": 29,
   "id": "6488ba2b",
   "metadata": {},
   "outputs": [],
   "source": [
    "import warnings\n",
    "warnings.filterwarnings('ignore')"
   ]
  },
  {
   "cell_type": "code",
   "execution_count": 30,
   "id": "8c1df605",
   "metadata": {},
   "outputs": [
    {
     "data": {
      "text/plain": [
       "LogisticRegression(random_state=42)"
      ]
     },
     "execution_count": 30,
     "metadata": {},
     "output_type": "execute_result"
    }
   ],
   "source": [
    "model = LogisticRegression(solver='lbfgs', C=1.0, random_state=42)\n",
    "model.fit(X_train, above_average)"
   ]
  },
  {
   "cell_type": "code",
   "execution_count": 31,
   "id": "bee55669",
   "metadata": {},
   "outputs": [
    {
     "data": {
      "text/plain": [
       "array([0.03142876, 0.57800103, 0.41595876, ..., 0.09246818, 0.03238082,\n",
       "       0.63867756])"
      ]
     },
     "execution_count": 31,
     "metadata": {},
     "output_type": "execute_result"
    }
   ],
   "source": [
    "y_pred=model.predict_proba(X_val)[:,1]\n",
    "y_pred"
   ]
  },
  {
   "cell_type": "code",
   "execution_count": 32,
   "id": "ce9fb49a",
   "metadata": {},
   "outputs": [
    {
     "data": {
      "text/plain": [
       "array([False,  True, False, ..., False, False,  True])"
      ]
     },
     "execution_count": 32,
     "metadata": {},
     "output_type": "execute_result"
    }
   ],
   "source": [
    "price_decision=(y_pred>=0.5)\n",
    "price_decision"
   ]
  },
  {
   "cell_type": "code",
   "execution_count": 33,
   "id": "bbf903d3",
   "metadata": {},
   "outputs": [],
   "source": [
    "above_average_val=(y_val>=152).astype(int)"
   ]
  },
  {
   "cell_type": "code",
   "execution_count": 39,
   "id": "dbb26e29",
   "metadata": {},
   "outputs": [
    {
     "data": {
      "text/plain": [
       "0.79"
      ]
     },
     "execution_count": 39,
     "metadata": {},
     "output_type": "execute_result"
    }
   ],
   "source": [
    "accuracy=(above_average_val==price_decision).mean()\n",
    "accuracy.round(2)"
   ]
  },
  {
   "cell_type": "markdown",
   "id": "5a2d5f24",
   "metadata": {},
   "source": [
    "# Q4.  0.79"
   ]
  },
  {
   "cell_type": "code",
   "execution_count": 55,
   "id": "d4fe9526",
   "metadata": {},
   "outputs": [
    {
     "data": {
      "text/plain": [
       "['latitude',\n",
       " 'longitude',\n",
       " 'minimum_nights',\n",
       " 'number_of_reviews',\n",
       " 'reviews_per_month',\n",
       " 'calculated_host_listings_count',\n",
       " 'availability_365',\n",
       " 'neighbourhood_group',\n",
       " 'room_type']"
      ]
     },
     "execution_count": 55,
     "metadata": {},
     "output_type": "execute_result"
    }
   ],
   "source": [
    "base=numerical+categorical\n",
    "base"
   ]
  },
  {
   "cell_type": "code",
   "execution_count": 63,
   "id": "c49222ce",
   "metadata": {
    "scrolled": true
   },
   "outputs": [
    {
     "name": "stdout",
     "output_type": "stream",
     "text": [
      "longitude 0.0001\n",
      "minimum_nights 0.0005\n",
      "number_of_reviews -0.0009\n",
      "reviews_per_month 0.0006\n",
      "calculated_host_listings_count -0.0012\n",
      "availability_365 0.0004\n",
      "neighbourhood_group -0.0047\n",
      "room_type -0.0353\n"
     ]
    }
   ],
   "source": [
    "for i in range(len(base)):\n",
    "    base=numerical+categorical\n",
    "    del base[i]\n",
    "    train_dicts=df_train[base].to_dict(orient='records')\n",
    "    X_train_diff=dv.fit_transform(train_dicts)\n",
    "\n",
    "    val_dicts=df_val[base].to_dict(orient='records')\n",
    "    X_val_diff=dv.transform(val_dicts)\n",
    "    model = LogisticRegression(solver='lbfgs', C=1.0, random_state=42)\n",
    "    model.fit(X_train_diff, above_average)\n",
    "    y_pred=model.predict_proba(X_val_diff)[:,1]\n",
    "    price_decision=(y_pred>=0.5)\n",
    "    new_accuracy=(above_average_val==price_decision).mean()\n",
    "    new_accuracy.round(2)\n",
    "    accuracy_diff=(new_accuracy-accuracy).round(4)\n",
    "    print(base[i],accuracy_diff)"
   ]
  },
  {
   "cell_type": "markdown",
   "id": "2f402e0d",
   "metadata": {},
   "source": [
    "# Q5. review_per_month"
   ]
  },
  {
   "cell_type": "code",
   "execution_count": 41,
   "id": "cc13c35a",
   "metadata": {},
   "outputs": [],
   "source": [
    "from sklearn.linear_model import Ridge"
   ]
  },
  {
   "cell_type": "code",
   "execution_count": 43,
   "id": "ef821fb8",
   "metadata": {},
   "outputs": [],
   "source": [
    "y_train_logs=np.log1p(y_train)\n",
    "y_val_logs=np.log1p(y_val)"
   ]
  },
  {
   "cell_type": "code",
   "execution_count": 46,
   "id": "c51f04fa",
   "metadata": {},
   "outputs": [],
   "source": [
    "def rmse(y,y_pred):\n",
    "    se=(y-y_pred)**2\n",
    "    mse=se.mean()\n",
    "    return np.sqrt(mse)"
   ]
  },
  {
   "cell_type": "code",
   "execution_count": 50,
   "id": "4b0f75be",
   "metadata": {},
   "outputs": [
    {
     "name": "stdout",
     "output_type": "stream",
     "text": [
      "0   0   0.497\n",
      "1   0.01   0.497\n",
      "2   0.1   0.497\n",
      "3   1   0.497\n",
      "4   10   0.498\n"
     ]
    }
   ],
   "source": [
    "i=0\n",
    "scores=np.zeros(5)\n",
    "for a in [0, 0.01, 0.1, 1, 10]:\n",
    "    model = Ridge(alpha=a)\n",
    "    model.fit(X_train, y_train_logs)\n",
    "    y_pred=model.predict(X_val)\n",
    "    scores[i]=rmse(y_val_logs, y_pred).round(3)\n",
    "    print(i,\" \",a,\" \",scores[i])\n",
    "    i=i+1"
   ]
  },
  {
   "cell_type": "markdown",
   "id": "510e7689",
   "metadata": {},
   "source": [
    "# Q6. 0"
   ]
  },
  {
   "cell_type": "code",
   "execution_count": null,
   "id": "d786700b",
   "metadata": {},
   "outputs": [],
   "source": []
  }
 ],
 "metadata": {
  "kernelspec": {
   "display_name": "Python 3",
   "language": "python",
   "name": "python3"
  },
  "language_info": {
   "codemirror_mode": {
    "name": "ipython",
    "version": 3
   },
   "file_extension": ".py",
   "mimetype": "text/x-python",
   "name": "python",
   "nbconvert_exporter": "python",
   "pygments_lexer": "ipython3",
   "version": "3.8.8"
  }
 },
 "nbformat": 4,
 "nbformat_minor": 5
}
