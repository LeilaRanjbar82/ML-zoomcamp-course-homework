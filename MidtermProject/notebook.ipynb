{
 "cells": [
  {
   "cell_type": "code",
   "execution_count": 1,
   "id": "d41a20d4",
   "metadata": {},
   "outputs": [],
   "source": [
    "import pandas as pd\n",
    "import numpy as np\n",
    "\n",
    "import seaborn as sns\n",
    "from matplotlib import pyplot as plt\n",
    "%matplotlib inline"
   ]
  },
  {
   "cell_type": "code",
   "execution_count": 2,
   "id": "eeb3a77a",
   "metadata": {},
   "outputs": [],
   "source": [
    "import warnings\n",
    "warnings.filterwarnings('ignore')"
   ]
  },
  {
   "cell_type": "markdown",
   "id": "b9496455",
   "metadata": {},
   "source": [
    "# DATA"
   ]
  },
  {
   "cell_type": "code",
   "execution_count": 3,
   "id": "bbbc2074",
   "metadata": {},
   "outputs": [],
   "source": [
    "df = pd.read_csv('insurance_prediction.csv')"
   ]
  },
  {
   "cell_type": "code",
   "execution_count": 4,
   "id": "5711e07c",
   "metadata": {},
   "outputs": [
    {
     "data": {
      "text/plain": [
       "id                       int64\n",
       "Gender                  object\n",
       "Age                      int64\n",
       "Driving_License          int64\n",
       "Region_Code              int64\n",
       "Previously_Insured       int64\n",
       "Vehicle_Age             object\n",
       "Vehicle_Damage          object\n",
       "Annual_Premium           int64\n",
       "Policy_Sales_Channel     int64\n",
       "Vintage                  int64\n",
       "Response                 int64\n",
       "dtype: object"
      ]
     },
     "execution_count": 4,
     "metadata": {},
     "output_type": "execute_result"
    }
   ],
   "source": [
    "df.dtypes"
   ]
  },
  {
   "cell_type": "markdown",
   "id": "6f0cdacc",
   "metadata": {},
   "source": [
    "# DATA Preparation"
   ]
  },
  {
   "cell_type": "code",
   "execution_count": 5,
   "id": "fa395be1",
   "metadata": {},
   "outputs": [],
   "source": [
    "df.columns = df.columns.str.lower().str.replace(' ', '_')"
   ]
  },
  {
   "cell_type": "code",
   "execution_count": 6,
   "id": "5e54dfae",
   "metadata": {},
   "outputs": [],
   "source": [
    "df['vehicle_age'] = df['vehicle_age'].str.replace('> 2 Years', 'more than 2 Years')\n",
    "\n",
    "df['vehicle_age'] = df['vehicle_age'].str.replace('< 1 Year', 'less than 1 Year')\n",
    "\n",
    "df['previously_insured'] = df['previously_insured'].map({0:'no', 1:'yes'}) \n",
    "\n",
    "df['driving_license'] = df['driving_license'].map({0:'no', 1:'yes'})"
   ]
  },
  {
   "cell_type": "code",
   "execution_count": 7,
   "id": "2f598c50",
   "metadata": {},
   "outputs": [],
   "source": [
    "categorical_list = list(df.dtypes[df.dtypes == 'object'].index)\n",
    "for c in categorical_list:\n",
    "    df[c] = df[c].str.lower().str.replace(' ', '_')"
   ]
  },
  {
   "cell_type": "code",
   "execution_count": 8,
   "id": "436a6031",
   "metadata": {},
   "outputs": [],
   "source": [
    "categorical = ['gender', \n",
    "               'driving_license', \n",
    "               'previously_insured', \n",
    "               'vehicle_age', \n",
    "               'vehicle_damage']\n",
    "\n",
    "numerical = ['age', \n",
    "             'region_code',\n",
    "             'annual_premium',\n",
    "             'policy_sales_channel', \n",
    "             'vintage']\n",
    "\n",
    "features = numerical + categorical\n",
    "target= ['response']"
   ]
  },
  {
   "cell_type": "code",
   "execution_count": 9,
   "id": "d06901d7",
   "metadata": {},
   "outputs": [
    {
     "data": {
      "text/plain": [
       "id                      0\n",
       "gender                  0\n",
       "age                     0\n",
       "driving_license         0\n",
       "region_code             0\n",
       "previously_insured      0\n",
       "vehicle_age             0\n",
       "vehicle_damage          0\n",
       "annual_premium          0\n",
       "policy_sales_channel    0\n",
       "vintage                 0\n",
       "response                0\n",
       "dtype: int64"
      ]
     },
     "execution_count": 9,
     "metadata": {},
     "output_type": "execute_result"
    }
   ],
   "source": [
    "df.isnull().sum()"
   ]
  },
  {
   "cell_type": "markdown",
   "id": "84945481",
   "metadata": {},
   "source": [
    "# Setting up the validation framework"
   ]
  },
  {
   "cell_type": "code",
   "execution_count": 10,
   "id": "0fc16005",
   "metadata": {},
   "outputs": [],
   "source": [
    "from sklearn.model_selection import train_test_split"
   ]
  },
  {
   "cell_type": "code",
   "execution_count": 11,
   "id": "4744b138",
   "metadata": {},
   "outputs": [],
   "source": [
    "rs=1"
   ]
  },
  {
   "cell_type": "code",
   "execution_count": 12,
   "id": "88abcbdb",
   "metadata": {},
   "outputs": [],
   "source": [
    "df_full_train, df_test = train_test_split(df[features+target], test_size=0.2, random_state=rs)\n",
    "df_train, df_val = train_test_split(df_full_train, test_size=0.25, random_state=rs)"
   ]
  },
  {
   "cell_type": "code",
   "execution_count": 13,
   "id": "6300279b",
   "metadata": {},
   "outputs": [
    {
     "data": {
      "text/plain": [
       "(228665, 76222, 76222)"
      ]
     },
     "execution_count": 13,
     "metadata": {},
     "output_type": "execute_result"
    }
   ],
   "source": [
    "len(df_train), len(df_val), len(df_test)"
   ]
  },
  {
   "cell_type": "code",
   "execution_count": 14,
   "id": "fa2fc130",
   "metadata": {},
   "outputs": [],
   "source": [
    "df_train = df_train.reset_index(drop=True)\n",
    "df_val = df_val.reset_index(drop=True)\n",
    "df_test = df_test.reset_index(drop=True)"
   ]
  },
  {
   "cell_type": "code",
   "execution_count": 15,
   "id": "05557070",
   "metadata": {},
   "outputs": [],
   "source": [
    "y_train = df_train.response.values\n",
    "y_val = df_val.response.values\n",
    "y_test = df_test.response.values\n",
    "\n",
    "del df_train['response']\n",
    "del df_val['response']\n",
    "del df_test['response']"
   ]
  },
  {
   "cell_type": "code",
   "execution_count": null,
   "id": "182880c0",
   "metadata": {},
   "outputs": [],
   "source": []
  },
  {
   "cell_type": "markdown",
   "id": "1c3d62ca",
   "metadata": {},
   "source": [
    "# EDA"
   ]
  },
  {
   "cell_type": "code",
   "execution_count": 16,
   "id": "a5fe9de4",
   "metadata": {},
   "outputs": [],
   "source": [
    "df_full_train = df_full_train.reset_index(drop=True)"
   ]
  },
  {
   "cell_type": "code",
   "execution_count": 17,
   "id": "8aa76b32",
   "metadata": {},
   "outputs": [
    {
     "data": {
      "text/plain": [
       "0    0.876872\n",
       "1    0.123128\n",
       "Name: response, dtype: float64"
      ]
     },
     "execution_count": 17,
     "metadata": {},
     "output_type": "execute_result"
    }
   ],
   "source": [
    "df_full_train.response.value_counts(normalize=True)"
   ]
  },
  {
   "cell_type": "code",
   "execution_count": 18,
   "id": "aa73dbd0",
   "metadata": {},
   "outputs": [
    {
     "data": {
      "text/html": [
       "<div>\n",
       "<style scoped>\n",
       "    .dataframe tbody tr th:only-of-type {\n",
       "        vertical-align: middle;\n",
       "    }\n",
       "\n",
       "    .dataframe tbody tr th {\n",
       "        vertical-align: top;\n",
       "    }\n",
       "\n",
       "    .dataframe thead th {\n",
       "        text-align: right;\n",
       "    }\n",
       "</style>\n",
       "<table border=\"1\" class=\"dataframe\">\n",
       "  <thead>\n",
       "    <tr style=\"text-align: right;\">\n",
       "      <th></th>\n",
       "      <th>age</th>\n",
       "      <th>region_code</th>\n",
       "      <th>annual_premium</th>\n",
       "      <th>policy_sales_channel</th>\n",
       "      <th>vintage</th>\n",
       "    </tr>\n",
       "  </thead>\n",
       "  <tbody>\n",
       "    <tr>\n",
       "      <th>count</th>\n",
       "      <td>304887.00</td>\n",
       "      <td>304887.00</td>\n",
       "      <td>304887.00</td>\n",
       "      <td>304887.00</td>\n",
       "      <td>304887.00</td>\n",
       "    </tr>\n",
       "    <tr>\n",
       "      <th>mean</th>\n",
       "      <td>38.84</td>\n",
       "      <td>26.39</td>\n",
       "      <td>30583.35</td>\n",
       "      <td>112.01</td>\n",
       "      <td>154.33</td>\n",
       "    </tr>\n",
       "    <tr>\n",
       "      <th>std</th>\n",
       "      <td>15.52</td>\n",
       "      <td>13.23</td>\n",
       "      <td>17266.95</td>\n",
       "      <td>54.22</td>\n",
       "      <td>83.65</td>\n",
       "    </tr>\n",
       "    <tr>\n",
       "      <th>min</th>\n",
       "      <td>20.00</td>\n",
       "      <td>0.00</td>\n",
       "      <td>2630.00</td>\n",
       "      <td>1.00</td>\n",
       "      <td>10.00</td>\n",
       "    </tr>\n",
       "    <tr>\n",
       "      <th>25%</th>\n",
       "      <td>25.00</td>\n",
       "      <td>15.00</td>\n",
       "      <td>24419.00</td>\n",
       "      <td>27.50</td>\n",
       "      <td>82.00</td>\n",
       "    </tr>\n",
       "    <tr>\n",
       "      <th>50%</th>\n",
       "      <td>36.00</td>\n",
       "      <td>28.00</td>\n",
       "      <td>31681.00</td>\n",
       "      <td>133.00</td>\n",
       "      <td>154.00</td>\n",
       "    </tr>\n",
       "    <tr>\n",
       "      <th>75%</th>\n",
       "      <td>49.00</td>\n",
       "      <td>35.00</td>\n",
       "      <td>39399.50</td>\n",
       "      <td>152.00</td>\n",
       "      <td>227.00</td>\n",
       "    </tr>\n",
       "    <tr>\n",
       "      <th>max</th>\n",
       "      <td>85.00</td>\n",
       "      <td>52.00</td>\n",
       "      <td>540165.00</td>\n",
       "      <td>163.00</td>\n",
       "      <td>299.00</td>\n",
       "    </tr>\n",
       "  </tbody>\n",
       "</table>\n",
       "</div>"
      ],
      "text/plain": [
       "             age  region_code  annual_premium  policy_sales_channel    vintage\n",
       "count  304887.00    304887.00       304887.00             304887.00  304887.00\n",
       "mean       38.84        26.39        30583.35                112.01     154.33\n",
       "std        15.52        13.23        17266.95                 54.22      83.65\n",
       "min        20.00         0.00         2630.00                  1.00      10.00\n",
       "25%        25.00        15.00        24419.00                 27.50      82.00\n",
       "50%        36.00        28.00        31681.00                133.00     154.00\n",
       "75%        49.00        35.00        39399.50                152.00     227.00\n",
       "max        85.00        52.00       540165.00                163.00     299.00"
      ]
     },
     "execution_count": 18,
     "metadata": {},
     "output_type": "execute_result"
    }
   ],
   "source": [
    "df_full_train[numerical].describe().round(2)"
   ]
  },
  {
   "cell_type": "code",
   "execution_count": 19,
   "id": "b6e81229",
   "metadata": {},
   "outputs": [
    {
     "data": {
      "text/html": [
       "<div>\n",
       "<style scoped>\n",
       "    .dataframe tbody tr th:only-of-type {\n",
       "        vertical-align: middle;\n",
       "    }\n",
       "\n",
       "    .dataframe tbody tr th {\n",
       "        vertical-align: top;\n",
       "    }\n",
       "\n",
       "    .dataframe thead th {\n",
       "        text-align: right;\n",
       "    }\n",
       "</style>\n",
       "<table border=\"1\" class=\"dataframe\">\n",
       "  <thead>\n",
       "    <tr style=\"text-align: right;\">\n",
       "      <th></th>\n",
       "      <th>gender</th>\n",
       "      <th>driving_license</th>\n",
       "      <th>previously_insured</th>\n",
       "      <th>vehicle_age</th>\n",
       "      <th>vehicle_damage</th>\n",
       "    </tr>\n",
       "  </thead>\n",
       "  <tbody>\n",
       "    <tr>\n",
       "      <th>count</th>\n",
       "      <td>304887</td>\n",
       "      <td>304887</td>\n",
       "      <td>304887</td>\n",
       "      <td>304887</td>\n",
       "      <td>304887</td>\n",
       "    </tr>\n",
       "    <tr>\n",
       "      <th>unique</th>\n",
       "      <td>2</td>\n",
       "      <td>2</td>\n",
       "      <td>2</td>\n",
       "      <td>3</td>\n",
       "      <td>2</td>\n",
       "    </tr>\n",
       "    <tr>\n",
       "      <th>top</th>\n",
       "      <td>male</td>\n",
       "      <td>yes</td>\n",
       "      <td>no</td>\n",
       "      <td>1-2_year</td>\n",
       "      <td>yes</td>\n",
       "    </tr>\n",
       "    <tr>\n",
       "      <th>freq</th>\n",
       "      <td>165019</td>\n",
       "      <td>304244</td>\n",
       "      <td>165319</td>\n",
       "      <td>160316</td>\n",
       "      <td>154248</td>\n",
       "    </tr>\n",
       "  </tbody>\n",
       "</table>\n",
       "</div>"
      ],
      "text/plain": [
       "        gender driving_license previously_insured vehicle_age vehicle_damage\n",
       "count   304887          304887             304887      304887         304887\n",
       "unique       2               2                  2           3              2\n",
       "top       male             yes                 no    1-2_year            yes\n",
       "freq    165019          304244             165319      160316         154248"
      ]
     },
     "execution_count": 19,
     "metadata": {},
     "output_type": "execute_result"
    }
   ],
   "source": [
    "df_full_train[categorical].describe(include=[\"O\"])"
   ]
  },
  {
   "cell_type": "code",
   "execution_count": null,
   "id": "41444953",
   "metadata": {},
   "outputs": [],
   "source": []
  },
  {
   "cell_type": "markdown",
   "id": "b13d2c38",
   "metadata": {},
   "source": [
    "# One-Hot Encoding"
   ]
  },
  {
   "cell_type": "code",
   "execution_count": 20,
   "id": "d23f802e",
   "metadata": {},
   "outputs": [],
   "source": [
    "from sklearn.feature_extraction import DictVectorizer"
   ]
  },
  {
   "cell_type": "code",
   "execution_count": 21,
   "id": "a385eaeb",
   "metadata": {},
   "outputs": [],
   "source": [
    "dv = DictVectorizer(sparse=False)\n",
    "\n",
    "train_dict = df_train[features].to_dict(orient='records')\n",
    "X_train = dv.fit_transform(train_dict)\n",
    "\n",
    "val_dict = df_val[features].to_dict(orient='records')\n",
    "X_val = dv.transform(val_dict)"
   ]
  },
  {
   "cell_type": "code",
   "execution_count": null,
   "id": "b9e180ec",
   "metadata": {},
   "outputs": [],
   "source": []
  },
  {
   "cell_type": "markdown",
   "id": "77e232bb",
   "metadata": {},
   "source": [
    "# Metrics"
   ]
  },
  {
   "cell_type": "code",
   "execution_count": 22,
   "id": "d5edb397",
   "metadata": {},
   "outputs": [],
   "source": [
    "from sklearn.metrics import mean_squared_error\n",
    "from sklearn.metrics import accuracy_score\n",
    "from sklearn.metrics import roc_auc_score"
   ]
  },
  {
   "cell_type": "code",
   "execution_count": null,
   "id": "6f5b7d9f",
   "metadata": {},
   "outputs": [],
   "source": []
  },
  {
   "cell_type": "markdown",
   "id": "869da577",
   "metadata": {},
   "source": [
    "# Results DataFrame"
   ]
  },
  {
   "cell_type": "code",
   "execution_count": 23,
   "id": "1abd3734",
   "metadata": {},
   "outputs": [],
   "source": [
    "results = []\n",
    "columns = ['Model', 'RMSE', 'AUC']\n",
    "df_results = pd.DataFrame(results, columns=columns)"
   ]
  },
  {
   "cell_type": "code",
   "execution_count": null,
   "id": "955f871b",
   "metadata": {},
   "outputs": [],
   "source": []
  },
  {
   "cell_type": "markdown",
   "id": "202afc95",
   "metadata": {},
   "source": [
    "# Models"
   ]
  },
  {
   "cell_type": "markdown",
   "id": "d3f2569a",
   "metadata": {},
   "source": [
    "## 1. logistic Regression"
   ]
  },
  {
   "cell_type": "markdown",
   "id": "f55024de",
   "metadata": {},
   "source": [
    "* **Training model and Evaluating the model**"
   ]
  },
  {
   "cell_type": "code",
   "execution_count": 24,
   "id": "7059578f",
   "metadata": {},
   "outputs": [],
   "source": [
    "from sklearn.linear_model import LogisticRegression"
   ]
  },
  {
   "cell_type": "code",
   "execution_count": 26,
   "id": "e098c70c",
   "metadata": {},
   "outputs": [],
   "source": [
    "lr = LogisticRegression(solver='lbfgs', C=1.0, random_state=rs)\n",
    "lr.fit(X_train, y_train)\n",
    "\n",
    "y_pred = lr.predict_proba(X_val)[:,1]\n",
    "\n",
    "model = 'Logistic_Regression'\n",
    "rmse = (np.sqrt(mean_squared_error(y_val, y_pred))).round(4)\n",
    "auc = (roc_auc_score(y_val, y_pred)).round(4)\n",
    "\n",
    "results.append((model, rmse, auc))\n"
   ]
  },
  {
   "cell_type": "code",
   "execution_count": 27,
   "id": "b5edb5db",
   "metadata": {},
   "outputs": [
    {
     "data": {
      "text/plain": [
       "('Logistic_Regression', 0.3273, 0.5944)"
      ]
     },
     "execution_count": 27,
     "metadata": {},
     "output_type": "execute_result"
    }
   ],
   "source": [
    "model, rmse, auc"
   ]
  },
  {
   "cell_type": "code",
   "execution_count": 28,
   "id": "7c8f0b4a",
   "metadata": {},
   "outputs": [
    {
     "data": {
      "text/html": [
       "<div>\n",
       "<style scoped>\n",
       "    .dataframe tbody tr th:only-of-type {\n",
       "        vertical-align: middle;\n",
       "    }\n",
       "\n",
       "    .dataframe tbody tr th {\n",
       "        vertical-align: top;\n",
       "    }\n",
       "\n",
       "    .dataframe thead th {\n",
       "        text-align: right;\n",
       "    }\n",
       "</style>\n",
       "<table border=\"1\" class=\"dataframe\">\n",
       "  <thead>\n",
       "    <tr style=\"text-align: right;\">\n",
       "      <th></th>\n",
       "      <th>Model</th>\n",
       "      <th>RMSE</th>\n",
       "      <th>AUC</th>\n",
       "    </tr>\n",
       "  </thead>\n",
       "  <tbody>\n",
       "    <tr>\n",
       "      <th>0</th>\n",
       "      <td>Logistic_Regression</td>\n",
       "      <td>0.3273</td>\n",
       "      <td>0.5944</td>\n",
       "    </tr>\n",
       "  </tbody>\n",
       "</table>\n",
       "</div>"
      ],
      "text/plain": [
       "                 Model    RMSE     AUC\n",
       "0  Logistic_Regression  0.3273  0.5944"
      ]
     },
     "execution_count": 28,
     "metadata": {},
     "output_type": "execute_result"
    }
   ],
   "source": [
    "df_results = pd.DataFrame(results, columns=columns)\n",
    "df_results"
   ]
  },
  {
   "cell_type": "code",
   "execution_count": null,
   "id": "fff3ec6a",
   "metadata": {},
   "outputs": [],
   "source": []
  },
  {
   "cell_type": "markdown",
   "id": "1a15e9d0",
   "metadata": {},
   "source": [
    "* **Feature Elimination**"
   ]
  },
  {
   "cell_type": "code",
   "execution_count": 29,
   "id": "bf0e8a0d",
   "metadata": {},
   "outputs": [],
   "source": [
    "orig_score = auc\n",
    "auc_result=[]\n",
    "\n",
    "for c in features:\n",
    "    subset = features.copy()\n",
    "    subset.remove(c)\n",
    "    \n",
    "    train_dict = df_train[subset].to_dict(orient='records')\n",
    "\n",
    "    dv = DictVectorizer(sparse=False)\n",
    "    dv.fit(train_dict)\n",
    "\n",
    "    X_train = dv.transform(train_dict)\n",
    "\n",
    "    lr = LogisticRegression(solver='lbfgs', C=1.0, random_state=rs)\n",
    "    lr.fit(X_train, y_train)\n",
    "\n",
    "    val_dict = df_val[subset].to_dict(orient='records')\n",
    "    X_val = dv.transform(val_dict)\n",
    "\n",
    "    y_pred = lr.predict(X_val)\n",
    "\n",
    "    score = (roc_auc_score(y_val, y_pred)).round(4)\n",
    "    diff = (orig_score - score).round(4)\n",
    "    auc_result.append((c, orig_score, score, diff ))\n",
    "    "
   ]
  },
  {
   "cell_type": "code",
   "execution_count": 33,
   "id": "a0298059",
   "metadata": {
    "scrolled": true
   },
   "outputs": [
    {
     "data": {
      "text/html": [
       "<div>\n",
       "<style scoped>\n",
       "    .dataframe tbody tr th:only-of-type {\n",
       "        vertical-align: middle;\n",
       "    }\n",
       "\n",
       "    .dataframe tbody tr th {\n",
       "        vertical-align: top;\n",
       "    }\n",
       "\n",
       "    .dataframe thead th {\n",
       "        text-align: right;\n",
       "    }\n",
       "</style>\n",
       "<table border=\"1\" class=\"dataframe\">\n",
       "  <thead>\n",
       "    <tr style=\"text-align: right;\">\n",
       "      <th></th>\n",
       "      <th>Eliminated_Feature</th>\n",
       "      <th>AUC</th>\n",
       "      <th>AUC_Elimination</th>\n",
       "      <th>Diff</th>\n",
       "    </tr>\n",
       "  </thead>\n",
       "  <tbody>\n",
       "    <tr>\n",
       "      <th>0</th>\n",
       "      <td>region_code</td>\n",
       "      <td>0.5944</td>\n",
       "      <td>0.5000</td>\n",
       "      <td>0.0944</td>\n",
       "    </tr>\n",
       "    <tr>\n",
       "      <th>1</th>\n",
       "      <td>gender</td>\n",
       "      <td>0.5944</td>\n",
       "      <td>0.5000</td>\n",
       "      <td>0.0944</td>\n",
       "    </tr>\n",
       "    <tr>\n",
       "      <th>2</th>\n",
       "      <td>driving_license</td>\n",
       "      <td>0.5944</td>\n",
       "      <td>0.5000</td>\n",
       "      <td>0.0944</td>\n",
       "    </tr>\n",
       "    <tr>\n",
       "      <th>3</th>\n",
       "      <td>previously_insured</td>\n",
       "      <td>0.5944</td>\n",
       "      <td>0.5000</td>\n",
       "      <td>0.0944</td>\n",
       "    </tr>\n",
       "    <tr>\n",
       "      <th>4</th>\n",
       "      <td>vehicle_age</td>\n",
       "      <td>0.5944</td>\n",
       "      <td>0.5000</td>\n",
       "      <td>0.0944</td>\n",
       "    </tr>\n",
       "    <tr>\n",
       "      <th>5</th>\n",
       "      <td>vehicle_damage</td>\n",
       "      <td>0.5944</td>\n",
       "      <td>0.5000</td>\n",
       "      <td>0.0944</td>\n",
       "    </tr>\n",
       "    <tr>\n",
       "      <th>6</th>\n",
       "      <td>annual_premium</td>\n",
       "      <td>0.5944</td>\n",
       "      <td>0.5001</td>\n",
       "      <td>0.0943</td>\n",
       "    </tr>\n",
       "    <tr>\n",
       "      <th>7</th>\n",
       "      <td>policy_sales_channel</td>\n",
       "      <td>0.5944</td>\n",
       "      <td>0.5048</td>\n",
       "      <td>0.0896</td>\n",
       "    </tr>\n",
       "    <tr>\n",
       "      <th>8</th>\n",
       "      <td>vintage</td>\n",
       "      <td>0.5944</td>\n",
       "      <td>0.5085</td>\n",
       "      <td>0.0859</td>\n",
       "    </tr>\n",
       "    <tr>\n",
       "      <th>9</th>\n",
       "      <td>age</td>\n",
       "      <td>0.5944</td>\n",
       "      <td>0.5161</td>\n",
       "      <td>0.0783</td>\n",
       "    </tr>\n",
       "  </tbody>\n",
       "</table>\n",
       "</div>"
      ],
      "text/plain": [
       "     Eliminated_Feature     AUC  AUC_Elimination    Diff\n",
       "0           region_code  0.5944           0.5000  0.0944\n",
       "1                gender  0.5944           0.5000  0.0944\n",
       "2       driving_license  0.5944           0.5000  0.0944\n",
       "3    previously_insured  0.5944           0.5000  0.0944\n",
       "4           vehicle_age  0.5944           0.5000  0.0944\n",
       "5        vehicle_damage  0.5944           0.5000  0.0944\n",
       "6        annual_premium  0.5944           0.5001  0.0943\n",
       "7  policy_sales_channel  0.5944           0.5048  0.0896\n",
       "8               vintage  0.5944           0.5085  0.0859\n",
       "9                   age  0.5944           0.5161  0.0783"
      ]
     },
     "execution_count": 33,
     "metadata": {},
     "output_type": "execute_result"
    }
   ],
   "source": [
    "auc_columns = ['Eliminated_Feature', 'AUC', 'AUC_Elimination', 'Diff']\n",
    "df_auc_results = pd.DataFrame(auc_result, columns=auc_columns)\n",
    "df_auc_results=df_auc_results.sort_values(by='Diff', ascending=False).reset_index(drop=True)\n",
    "df_auc_results"
   ]
  },
  {
   "cell_type": "markdown",
   "id": "0437e5a9",
   "metadata": {},
   "source": []
  },
  {
   "cell_type": "markdown",
   "id": "333842f0",
   "metadata": {},
   "source": [
    "## 2.Ridge Regression"
   ]
  },
  {
   "cell_type": "code",
   "execution_count": 34,
   "id": "6fff3b23",
   "metadata": {},
   "outputs": [],
   "source": [
    "from sklearn.linear_model import Ridge"
   ]
  },
  {
   "cell_type": "code",
   "execution_count": 35,
   "id": "63c24446",
   "metadata": {},
   "outputs": [
    {
     "name": "stdout",
     "output_type": "stream",
     "text": [
      "alpha=0   5.8100    0.4852 \n",
      "alpha=0.01   0.3056    0.8186 \n",
      "alpha=0.1   0.3056    0.8186 \n",
      "alpha=1   0.3056    0.8186 \n",
      "alpha=10   0.3056    0.8186 \n"
     ]
    }
   ],
   "source": [
    "for a in [0, 0.01, 0.1, 1, 10]:\n",
    "    rg = Ridge(alpha=a,random_state=rs)\n",
    "    rg.fit(X_train, y_train)\n",
    "    \n",
    "    y_pred = rg.predict(X_val)\n",
    "    \n",
    "    rmse = (np.sqrt(mean_squared_error(y_val, y_pred))).round(4)\n",
    "    auc = (roc_auc_score(y_val, y_pred)).round(4)\n",
    "\n",
    "    \n",
    "    print('alpha=%s   %0.4f    %0.4f '% (a, rmse, auc))"
   ]
  },
  {
   "cell_type": "markdown",
   "id": "fcbce7f8",
   "metadata": {},
   "source": [
    "* ***alpha* equals to 0.01**"
   ]
  },
  {
   "cell_type": "code",
   "execution_count": 37,
   "id": "16f54f3c",
   "metadata": {},
   "outputs": [],
   "source": [
    "rg = Ridge(alpha=0.01,random_state=rs)\n",
    "rg.fit(X_train, y_train)\n",
    "\n",
    "y_pred = rg.predict(X_val)\n",
    "\n",
    "model = 'Ridge_Regression'\n",
    "rmse = (np.sqrt(mean_squared_error(y_val, y_pred))).round(4)\n",
    "auc = (roc_auc_score(y_val, y_pred)).round(4)\n",
    "\n",
    "results.append((model, rmse, auc))"
   ]
  },
  {
   "cell_type": "code",
   "execution_count": 38,
   "id": "b4c392e1",
   "metadata": {},
   "outputs": [
    {
     "data": {
      "text/plain": [
       "('Ridge_Regression', 0.3056, 0.8186)"
      ]
     },
     "execution_count": 38,
     "metadata": {},
     "output_type": "execute_result"
    }
   ],
   "source": [
    "model, rmse, auc"
   ]
  },
  {
   "cell_type": "code",
   "execution_count": 39,
   "id": "075d1a67",
   "metadata": {},
   "outputs": [
    {
     "data": {
      "text/html": [
       "<div>\n",
       "<style scoped>\n",
       "    .dataframe tbody tr th:only-of-type {\n",
       "        vertical-align: middle;\n",
       "    }\n",
       "\n",
       "    .dataframe tbody tr th {\n",
       "        vertical-align: top;\n",
       "    }\n",
       "\n",
       "    .dataframe thead th {\n",
       "        text-align: right;\n",
       "    }\n",
       "</style>\n",
       "<table border=\"1\" class=\"dataframe\">\n",
       "  <thead>\n",
       "    <tr style=\"text-align: right;\">\n",
       "      <th></th>\n",
       "      <th>Model</th>\n",
       "      <th>RMSE</th>\n",
       "      <th>AUC</th>\n",
       "    </tr>\n",
       "  </thead>\n",
       "  <tbody>\n",
       "    <tr>\n",
       "      <th>0</th>\n",
       "      <td>Logistic_Regression</td>\n",
       "      <td>0.3273</td>\n",
       "      <td>0.5944</td>\n",
       "    </tr>\n",
       "    <tr>\n",
       "      <th>1</th>\n",
       "      <td>Ridge_Regression</td>\n",
       "      <td>0.3056</td>\n",
       "      <td>0.8186</td>\n",
       "    </tr>\n",
       "  </tbody>\n",
       "</table>\n",
       "</div>"
      ],
      "text/plain": [
       "                 Model    RMSE     AUC\n",
       "0  Logistic_Regression  0.3273  0.5944\n",
       "1     Ridge_Regression  0.3056  0.8186"
      ]
     },
     "execution_count": 39,
     "metadata": {},
     "output_type": "execute_result"
    }
   ],
   "source": [
    "df_results = pd.DataFrame(results, columns=columns)\n",
    "df_results"
   ]
  },
  {
   "cell_type": "code",
   "execution_count": null,
   "id": "32955e13",
   "metadata": {},
   "outputs": [],
   "source": []
  },
  {
   "cell_type": "markdown",
   "id": "14f72176",
   "metadata": {},
   "source": [
    "## 3.Decision Tree"
   ]
  },
  {
   "cell_type": "code",
   "execution_count": 40,
   "id": "08806d77",
   "metadata": {},
   "outputs": [],
   "source": [
    "from sklearn.tree import DecisionTreeClassifier\n",
    "from sklearn.tree import export_text"
   ]
  },
  {
   "cell_type": "code",
   "execution_count": 42,
   "id": "c911c0eb",
   "metadata": {},
   "outputs": [
    {
     "name": "stdout",
     "output_type": "stream",
     "text": [
      "   1 -> 0.3089   0.7580\n",
      "   2 -> 0.3049   0.7971\n",
      "   3 -> 0.3029   0.8143\n",
      "   4 -> 0.3026   0.8187\n",
      "   5 -> 0.3020   0.8238\n",
      "   8 -> 0.3005   0.8349\n",
      "  10 -> 0.3011   0.8354\n",
      "  12 -> 0.3036   0.8311\n",
      "  15 -> 0.3125   0.8084\n",
      "  20 -> 0.3415   0.7572\n",
      "None -> 0.4246   0.5983\n"
     ]
    }
   ],
   "source": [
    "depths = [1, 2, 3, 4, 5, 8, 10, 12, 15, 20, None]\n",
    "\n",
    "for depth in depths: \n",
    "    dt = DecisionTreeClassifier(max_depth=depth, random_state=rs)\n",
    "    dt.fit(X_train, y_train)\n",
    "    \n",
    "    y_pred = dt.predict_proba(X_val)[:,1]\n",
    "\n",
    "    rmse = (np.sqrt(mean_squared_error(y_val, y_pred))).round(4)\n",
    "    auc = (roc_auc_score(y_val, y_pred)).round(4)\n",
    "    \n",
    "    print('%4s -> %.4f   %.4f'% (depth, rmse, auc))"
   ]
  },
  {
   "cell_type": "markdown",
   "id": "e7bc4af6",
   "metadata": {},
   "source": [
    "* **The best results are** \n",
    "    * **maxdepth = 8  -> 0.3005   0.8349**\n",
    "    * **maxdepth = 10 -> 0.3011   0.8354**"
   ]
  },
  {
   "cell_type": "code",
   "execution_count": 43,
   "id": "1d35ea97",
   "metadata": {},
   "outputs": [],
   "source": [
    "scores = []\n",
    "\n",
    "for depth in [8,10]:\n",
    "    for s in [1, 5, 10, 15, 20, 50, 80, 100, 200, 500]:\n",
    "        dt = DecisionTreeClassifier(max_depth=depth, min_samples_leaf=s, random_state=rs)\n",
    "        dt.fit(X_train, y_train)\n",
    "\n",
    "        y_pred = dt.predict_proba(X_val)[:,1]\n",
    "\n",
    "        rmse = (np.sqrt(mean_squared_error(y_val, y_pred))).round(4)\n",
    "        auc = (roc_auc_score(y_val, y_pred)).round(4)\n",
    "        \n",
    "        scores.append((depth, s, rmse, auc))"
   ]
  },
  {
   "cell_type": "code",
   "execution_count": 44,
   "id": "6747c0e5",
   "metadata": {},
   "outputs": [],
   "source": [
    "dt_columns = ['max_depth', 'min_samples_leaf', 'rmse', 'auc']\n",
    "df_scores = pd.DataFrame(scores, columns=dt_columns)"
   ]
  },
  {
   "cell_type": "code",
   "execution_count": 45,
   "id": "58ab7b2c",
   "metadata": {},
   "outputs": [
    {
     "data": {
      "text/plain": [
       "<AxesSubplot:xlabel='None-max_depth', ylabel='min_samples_leaf'>"
      ]
     },
     "execution_count": 45,
     "metadata": {},
     "output_type": "execute_result"
    },
    {
     "data": {
      "image/png": "[encoded data removed]",
      "text/plain": [
       "<Figure size 1152x144 with 4 Axes>"
      ]
     },
     "metadata": {
      "needs_background": "light"
     },
     "output_type": "display_data"
    }
   ],
   "source": [
    "plt.figure(figsize=(16, 2))\n",
    "\n",
    "plt.subplot(1,2,1)\n",
    "df_scores_pivot = df_scores.pivot(index='min_samples_leaf', columns=['max_depth'], values=['auc'])\n",
    "sns.heatmap(df_scores_pivot, annot=True, fmt=\".3f\")\n",
    "\n",
    "plt.subplot(1,2,2)\n",
    "df_scores_pivot = df_scores.pivot(index='min_samples_leaf', columns=['max_depth'], values=['rmse'])\n",
    "sns.heatmap(df_scores_pivot, annot=True, fmt=\".3f\")"
   ]
  },
  {
   "cell_type": "markdown",
   "id": "b7a91267",
   "metadata": {},
   "source": [
    "* **maxdepth=10, min_samples_leaf=80**"
   ]
  },
  {
   "cell_type": "code",
   "execution_count": 46,
   "id": "b5b04fad",
   "metadata": {},
   "outputs": [],
   "source": [
    "dt = DecisionTreeClassifier(max_depth=10, min_samples_leaf=80, random_state=rs)\n",
    "dt.fit(X_train, y_train)\n",
    "\n",
    "y_pred = dt.predict_proba(X_val)[:,1]\n",
    "\n",
    "model='Decision Tree'\n",
    "rmse = (np.sqrt(mean_squared_error(y_val, y_pred))).round(4)\n",
    "auc = (roc_auc_score(y_val, y_pred)).round(4)\n",
    "\n",
    "results.append((model, rmse, auc))"
   ]
  },
  {
   "cell_type": "code",
   "execution_count": 47,
   "id": "2dd7a125",
   "metadata": {},
   "outputs": [
    {
     "data": {
      "text/plain": [
       "('Decision Tree', 0.2998, 0.8376)"
      ]
     },
     "execution_count": 47,
     "metadata": {},
     "output_type": "execute_result"
    }
   ],
   "source": [
    "model, rmse, auc"
   ]
  },
  {
   "cell_type": "code",
   "execution_count": 48,
   "id": "1408e48e",
   "metadata": {},
   "outputs": [
    {
     "data": {
      "text/html": [
       "<div>\n",
       "<style scoped>\n",
       "    .dataframe tbody tr th:only-of-type {\n",
       "        vertical-align: middle;\n",
       "    }\n",
       "\n",
       "    .dataframe tbody tr th {\n",
       "        vertical-align: top;\n",
       "    }\n",
       "\n",
       "    .dataframe thead th {\n",
       "        text-align: right;\n",
       "    }\n",
       "</style>\n",
       "<table border=\"1\" class=\"dataframe\">\n",
       "  <thead>\n",
       "    <tr style=\"text-align: right;\">\n",
       "      <th></th>\n",
       "      <th>Model</th>\n",
       "      <th>RMSE</th>\n",
       "      <th>AUC</th>\n",
       "    </tr>\n",
       "  </thead>\n",
       "  <tbody>\n",
       "    <tr>\n",
       "      <th>0</th>\n",
       "      <td>Logistic_Regression</td>\n",
       "      <td>0.3273</td>\n",
       "      <td>0.5944</td>\n",
       "    </tr>\n",
       "    <tr>\n",
       "      <th>1</th>\n",
       "      <td>Ridge_Regression</td>\n",
       "      <td>0.3056</td>\n",
       "      <td>0.8186</td>\n",
       "    </tr>\n",
       "    <tr>\n",
       "      <th>2</th>\n",
       "      <td>Decision Tree</td>\n",
       "      <td>0.2998</td>\n",
       "      <td>0.8376</td>\n",
       "    </tr>\n",
       "  </tbody>\n",
       "</table>\n",
       "</div>"
      ],
      "text/plain": [
       "                 Model    RMSE     AUC\n",
       "0  Logistic_Regression  0.3273  0.5944\n",
       "1     Ridge_Regression  0.3056  0.8186\n",
       "2        Decision Tree  0.2998  0.8376"
      ]
     },
     "execution_count": 48,
     "metadata": {},
     "output_type": "execute_result"
    }
   ],
   "source": [
    "df_results = pd.DataFrame(results, columns=columns)\n",
    "df_results"
   ]
  },
  {
   "cell_type": "code",
   "execution_count": 49,
   "id": "a533632d",
   "metadata": {},
   "outputs": [
    {
     "name": "stdout",
     "output_type": "stream",
     "text": [
      "|--- previously_insured=yes <= 0.50\n",
      "|   |--- age <= 27.50\n",
      "|   |   |--- policy_sales_channel <= 150.50\n",
      "|   |   |   |--- policy_sales_channel <= 123.00\n",
      "|   |   |   |   |--- gender=male <= 0.50\n",
      "|   |   |   |   |   |--- region_code <= 10.50\n",
      "|   |   |   |   |   |   |--- class: 0\n",
      "|   |   |   |   |   |--- region_code >  10.50\n",
      "|   |   |   |   |   |   |--- region_code <= 35.50\n",
      "|   |   |   |   |   |   |   |--- region_code <= 27.50\n",
      "|   |   |   |   |   |   |   |   |--- class: 0\n",
      "|   |   |   |   |   |   |   |--- region_code >  27.50\n",
      "|   |   |   |   |   |   |   |   |--- vehicle_age=1-2_year <= 0.50\n",
      "|   |   |   |   |   |   |   |   |   |--- age <= 24.50\n",
      "|   |   |   |   |   |   |   |   |   |   |--- class: 0\n",
      "|   |   |   |   |   |   |   |   |   |--- age >  24.50\n",
      "|   |   |   |   |   |   |   |   |   |   |--- class: 0\n",
      "|   |   |   |   |   |   |   |   |--- vehicle_age=1-2_year >  0.50\n",
      "|   |   |   |   |   |   |   |   |   |--- class: 0\n",
      "|   |   |   |   |   |   |--- region_code >  35.50\n",
      "|   |   |   |   |   |   |   |--- age <= 23.50\n",
      "|   |   |   |   |   |   |   |   |--- class: 0\n",
      "|   |   |   |   |   |   |   |--- age >  23.50\n",
      "|   |   |   |   |   |   |   |   |--- class: 0\n",
      "|   |   |   |   |--- gender=male >  0.50\n",
      "|   |   |   |   |   |--- age <= 23.50\n",
      "|   |   |   |   |   |   |--- region_code <= 29.50\n",
      "|   |   |   |   |   |   |   |--- vintage <= 148.00\n",
      "|   |   |   |   |   |   |   |   |--- class: 0\n",
      "|   |   |   |   |   |   |   |--- vintage >  148.00\n",
      "|   |   |   |   |   |   |   |   |--- class: 0\n",
      "|   |   |   |   |   |   |--- region_code >  29.50\n",
      "|   |   |   |   |   |   |   |--- class: 0\n",
      "|   |   |   |   |   |--- age >  23.50\n",
      "|   |   |   |   |   |   |--- annual_premium <= 37808.00\n",
      "|   |   |   |   |   |   |   |--- vintage <= 143.50\n",
      "|   |   |   |   |   |   |   |   |--- class: 0\n",
      "|   |   |   |   |   |   |   |--- vintage >  143.50\n",
      "|   |   |   |   |   |   |   |   |--- class: 0\n",
      "|   |   |   |   |   |   |--- annual_premium >  37808.00\n",
      "|   |   |   |   |   |   |   |--- class: 0\n",
      "|   |   |   |--- policy_sales_channel >  123.00\n",
      "|   |   |   |   |--- age <= 21.50\n",
      "|   |   |   |   |   |--- vintage <= 130.50\n",
      "|   |   |   |   |   |   |--- class: 0\n",
      "|   |   |   |   |   |--- vintage >  130.50\n",
      "|   |   |   |   |   |   |--- class: 0\n",
      "|   |   |   |   |--- age >  21.50\n",
      "|   |   |   |   |   |--- annual_premium <= 33458.00\n",
      "|   |   |   |   |   |   |--- region_code <= 29.50\n",
      "|   |   |   |   |   |   |   |--- region_code <= 21.50\n",
      "|   |   |   |   |   |   |   |   |--- vintage <= 163.00\n",
      "|   |   |   |   |   |   |   |   |   |--- class: 0\n",
      "|   |   |   |   |   |   |   |   |--- vintage >  163.00\n",
      "|   |   |   |   |   |   |   |   |   |--- class: 0\n",
      "|   |   |   |   |   |   |   |--- region_code >  21.50\n",
      "|   |   |   |   |   |   |   |   |--- gender=female <= 0.50\n",
      "|   |   |   |   |   |   |   |   |   |--- class: 0\n",
      "|   |   |   |   |   |   |   |   |--- gender=female >  0.50\n",
      "|   |   |   |   |   |   |   |   |   |--- class: 0\n",
      "|   |   |   |   |   |   |--- region_code >  29.50\n",
      "|   |   |   |   |   |   |   |--- region_code <= 35.50\n",
      "|   |   |   |   |   |   |   |   |--- class: 0\n",
      "|   |   |   |   |   |   |   |--- region_code >  35.50\n",
      "|   |   |   |   |   |   |   |   |--- class: 0\n",
      "|   |   |   |   |   |--- annual_premium >  33458.00\n",
      "|   |   |   |   |   |   |--- annual_premium <= 56850.50\n",
      "|   |   |   |   |   |   |   |--- age <= 25.50\n",
      "|   |   |   |   |   |   |   |   |--- region_code <= 28.50\n",
      "|   |   |   |   |   |   |   |   |   |--- vintage <= 134.50\n",
      "|   |   |   |   |   |   |   |   |   |   |--- class: 0\n",
      "|   |   |   |   |   |   |   |   |   |--- vintage >  134.50\n",
      "|   |   |   |   |   |   |   |   |   |   |--- class: 0\n",
      "|   |   |   |   |   |   |   |   |--- region_code >  28.50\n",
      "|   |   |   |   |   |   |   |   |   |--- class: 0\n",
      "|   |   |   |   |   |   |   |--- age >  25.50\n",
      "|   |   |   |   |   |   |   |   |--- class: 0\n",
      "|   |   |   |   |   |   |--- annual_premium >  56850.50\n",
      "|   |   |   |   |   |   |   |--- class: 0\n",
      "|   |   |--- policy_sales_channel >  150.50\n",
      "|   |   |   |--- vehicle_age=1-2_year <= 0.50\n",
      "|   |   |   |   |--- policy_sales_channel <= 159.50\n",
      "|   |   |   |   |   |--- gender=male <= 0.50\n",
      "|   |   |   |   |   |   |--- policy_sales_channel <= 152.50\n",
      "|   |   |   |   |   |   |   |--- region_code <= 41.50\n",
      "|   |   |   |   |   |   |   |   |--- region_code <= 40.50\n",
      "|   |   |   |   |   |   |   |   |   |--- region_code <= 27.50\n",
      "|   |   |   |   |   |   |   |   |   |   |--- class: 0\n",
      "|   |   |   |   |   |   |   |   |   |--- region_code >  27.50\n",
      "|   |   |   |   |   |   |   |   |   |   |--- class: 0\n",
      "|   |   |   |   |   |   |   |   |--- region_code >  40.50\n",
      "|   |   |   |   |   |   |   |   |   |--- annual_premium <= 26253.00\n",
      "|   |   |   |   |   |   |   |   |   |   |--- class: 0\n",
      "|   |   |   |   |   |   |   |   |   |--- annual_premium >  26253.00\n",
      "|   |   |   |   |   |   |   |   |   |   |--- class: 0\n",
      "|   |   |   |   |   |   |   |--- region_code >  41.50\n",
      "|   |   |   |   |   |   |   |   |--- vintage <= 284.50\n",
      "|   |   |   |   |   |   |   |   |   |--- annual_premium <= 44826.00\n",
      "|   |   |   |   |   |   |   |   |   |   |--- class: 0\n",
      "|   |   |   |   |   |   |   |   |   |--- annual_premium >  44826.00\n",
      "|   |   |   |   |   |   |   |   |   |   |--- class: 0\n",
      "|   |   |   |   |   |   |   |   |--- vintage >  284.50\n",
      "|   |   |   |   |   |   |   |   |   |--- class: 0\n",
      "|   |   |   |   |   |   |--- policy_sales_channel >  152.50\n",
      "|   |   |   |   |   |   |   |--- age <= 21.50\n",
      "|   |   |   |   |   |   |   |   |--- class: 0\n",
      "|   |   |   |   |   |   |   |--- age >  21.50\n",
      "|   |   |   |   |   |   |   |   |--- vintage <= 160.50\n",
      "|   |   |   |   |   |   |   |   |   |--- class: 0\n",
      "|   |   |   |   |   |   |   |   |--- vintage >  160.50\n",
      "|   |   |   |   |   |   |   |   |   |--- class: 0\n",
      "|   |   |   |   |   |--- gender=male >  0.50\n",
      "|   |   |   |   |   |   |--- region_code <= 46.50\n",
      "|   |   |   |   |   |   |   |--- region_code <= 27.50\n",
      "|   |   |   |   |   |   |   |   |--- policy_sales_channel <= 153.50\n",
      "|   |   |   |   |   |   |   |   |   |--- region_code <= 23.50\n",
      "|   |   |   |   |   |   |   |   |   |   |--- class: 0\n",
      "|   |   |   |   |   |   |   |   |   |--- region_code >  23.50\n",
      "|   |   |   |   |   |   |   |   |   |   |--- class: 0\n",
      "|   |   |   |   |   |   |   |   |--- policy_sales_channel >  153.50\n",
      "|   |   |   |   |   |   |   |   |   |--- class: 0\n",
      "|   |   |   |   |   |   |   |--- region_code >  27.50\n",
      "|   |   |   |   |   |   |   |   |--- region_code <= 30.50\n",
      "|   |   |   |   |   |   |   |   |   |--- age <= 22.50\n",
      "|   |   |   |   |   |   |   |   |   |   |--- class: 0\n",
      "|   |   |   |   |   |   |   |   |   |--- age >  22.50\n",
      "|   |   |   |   |   |   |   |   |   |   |--- class: 0\n",
      "|   |   |   |   |   |   |   |   |--- region_code >  30.50\n",
      "|   |   |   |   |   |   |   |   |   |--- vintage <= 65.50\n",
      "|   |   |   |   |   |   |   |   |   |   |--- class: 0\n",
      "|   |   |   |   |   |   |   |   |   |--- vintage >  65.50\n",
      "|   |   |   |   |   |   |   |   |   |   |--- class: 0\n",
      "|   |   |   |   |   |   |--- region_code >  46.50\n",
      "|   |   |   |   |   |   |   |--- annual_premium <= 38197.00\n",
      "|   |   |   |   |   |   |   |   |--- region_code <= 49.50\n",
      "|   |   |   |   |   |   |   |   |   |--- age <= 24.50\n",
      "|   |   |   |   |   |   |   |   |   |   |--- class: 0\n",
      "|   |   |   |   |   |   |   |   |   |--- age >  24.50\n",
      "|   |   |   |   |   |   |   |   |   |   |--- class: 0\n",
      "|   |   |   |   |   |   |   |   |--- region_code >  49.50\n",
      "|   |   |   |   |   |   |   |   |   |--- annual_premium <= 32240.00\n",
      "|   |   |   |   |   |   |   |   |   |   |--- class: 0\n",
      "|   |   |   |   |   |   |   |   |   |--- annual_premium >  32240.00\n",
      "|   |   |   |   |   |   |   |   |   |   |--- class: 0\n",
      "|   |   |   |   |   |   |   |--- annual_premium >  38197.00\n",
      "|   |   |   |   |   |   |   |   |--- class: 0\n",
      "|   |   |   |   |--- policy_sales_channel >  159.50\n",
      "|   |   |   |   |   |--- policy_sales_channel <= 161.50\n",
      "|   |   |   |   |   |   |--- age <= 22.50\n",
      "|   |   |   |   |   |   |   |--- region_code <= 27.50\n",
      "|   |   |   |   |   |   |   |   |--- region_code <= 7.50\n",
      "|   |   |   |   |   |   |   |   |   |--- age <= 20.50\n",
      "|   |   |   |   |   |   |   |   |   |   |--- class: 0\n",
      "|   |   |   |   |   |   |   |   |   |--- age >  20.50\n",
      "|   |   |   |   |   |   |   |   |   |   |--- class: 0\n",
      "|   |   |   |   |   |   |   |   |--- region_code >  7.50\n",
      "|   |   |   |   |   |   |   |   |   |--- annual_premium <= 20400.50\n",
      "|   |   |   |   |   |   |   |   |   |   |--- class: 0\n",
      "|   |   |   |   |   |   |   |   |   |--- annual_premium >  20400.50\n",
      "|   |   |   |   |   |   |   |   |   |   |--- class: 0\n",
      "|   |   |   |   |   |   |   |--- region_code >  27.50\n",
      "|   |   |   |   |   |   |   |   |--- region_code <= 28.50\n",
      "|   |   |   |   |   |   |   |   |   |--- class: 0\n",
      "|   |   |   |   |   |   |   |   |--- region_code >  28.50\n",
      "|   |   |   |   |   |   |   |   |   |--- vintage <= 145.50\n",
      "|   |   |   |   |   |   |   |   |   |   |--- class: 0\n",
      "|   |   |   |   |   |   |   |   |   |--- vintage >  145.50\n",
      "|   |   |   |   |   |   |   |   |   |   |--- class: 0\n",
      "|   |   |   |   |   |   |--- age >  22.50\n",
      "|   |   |   |   |   |   |   |--- region_code <= 6.50\n",
      "|   |   |   |   |   |   |   |   |--- class: 0\n",
      "|   |   |   |   |   |   |   |--- region_code >  6.50\n",
      "|   |   |   |   |   |   |   |   |--- annual_premium <= 9119.00\n",
      "|   |   |   |   |   |   |   |   |   |--- vintage <= 182.50\n",
      "|   |   |   |   |   |   |   |   |   |   |--- class: 0\n",
      "|   |   |   |   |   |   |   |   |   |--- vintage >  182.50\n",
      "|   |   |   |   |   |   |   |   |   |   |--- class: 0\n",
      "|   |   |   |   |   |   |   |   |--- annual_premium >  9119.00\n",
      "|   |   |   |   |   |   |   |   |   |--- annual_premium <= 25542.00\n",
      "|   |   |   |   |   |   |   |   |   |   |--- class: 0\n",
      "|   |   |   |   |   |   |   |   |   |--- annual_premium >  25542.00\n",
      "|   |   |   |   |   |   |   |   |   |   |--- class: 0\n",
      "|   |   |   |   |   |--- policy_sales_channel >  161.50\n",
      "|   |   |   |   |   |   |--- annual_premium <= 27341.50\n",
      "|   |   |   |   |   |   |   |--- class: 0\n",
      "|   |   |   |   |   |   |--- annual_premium >  27341.50\n",
      "|   |   |   |   |   |   |   |--- vintage <= 151.00\n",
      "|   |   |   |   |   |   |   |   |--- class: 0\n",
      "|   |   |   |   |   |   |   |--- vintage >  151.00\n",
      "|   |   |   |   |   |   |   |   |--- class: 0\n",
      "|   |   |   |--- vehicle_age=1-2_year >  0.50\n",
      "|   |   |   |   |--- age <= 25.50\n",
      "|   |   |   |   |   |--- annual_premium <= 21933.00\n",
      "|   |   |   |   |   |   |--- vintage <= 82.00\n",
      "|   |   |   |   |   |   |   |--- class: 0\n",
      "|   |   |   |   |   |   |--- vintage >  82.00\n",
      "|   |   |   |   |   |   |   |--- region_code <= 28.50\n",
      "|   |   |   |   |   |   |   |   |--- vintage <= 191.50\n",
      "|   |   |   |   |   |   |   |   |   |--- class: 0\n",
      "|   |   |   |   |   |   |   |   |--- vintage >  191.50\n",
      "|   |   |   |   |   |   |   |   |   |--- class: 0\n",
      "|   |   |   |   |   |   |   |--- region_code >  28.50\n",
      "|   |   |   |   |   |   |   |   |--- class: 0\n",
      "|   |   |   |   |   |--- annual_premium >  21933.00\n",
      "|   |   |   |   |   |   |--- annual_premium <= 30502.00\n",
      "|   |   |   |   |   |   |   |--- class: 0\n",
      "|   |   |   |   |   |   |--- annual_premium >  30502.00\n",
      "|   |   |   |   |   |   |   |--- age <= 21.50\n",
      "|   |   |   |   |   |   |   |   |--- class: 0\n",
      "|   |   |   |   |   |   |   |--- age >  21.50\n",
      "|   |   |   |   |   |   |   |   |--- class: 0\n",
      "|   |   |   |   |--- age >  25.50\n",
      "|   |   |   |   |   |--- gender=female <= 0.50\n",
      "|   |   |   |   |   |   |--- vintage <= 176.00\n",
      "|   |   |   |   |   |   |   |--- class: 0\n",
      "|   |   |   |   |   |   |--- vintage >  176.00\n",
      "|   |   |   |   |   |   |   |--- class: 0\n",
      "|   |   |   |   |   |--- gender=female >  0.50\n",
      "|   |   |   |   |   |   |--- class: 0\n",
      "|   |--- age >  27.50\n",
      "|   |   |--- age <= 59.50\n",
      "|   |   |   |--- annual_premium <= 11779.50\n",
      "|   |   |   |   |--- policy_sales_channel <= 2.00\n",
      "|   |   |   |   |   |--- region_code <= 30.50\n",
      "|   |   |   |   |   |   |--- gender=female <= 0.50\n",
      "|   |   |   |   |   |   |   |--- vintage <= 129.50\n",
      "|   |   |   |   |   |   |   |   |--- class: 0\n",
      "|   |   |   |   |   |   |   |--- vintage >  129.50\n",
      "|   |   |   |   |   |   |   |   |--- class: 0\n",
      "|   |   |   |   |   |   |--- gender=female >  0.50\n",
      "|   |   |   |   |   |   |   |--- class: 0\n",
      "|   |   |   |   |   |--- region_code >  30.50\n",
      "|   |   |   |   |   |   |--- class: 0\n",
      "|   |   |   |   |--- policy_sales_channel >  2.00\n",
      "|   |   |   |   |   |--- region_code <= 47.50\n",
      "|   |   |   |   |   |   |--- region_code <= 1.50\n",
      "|   |   |   |   |   |   |   |--- vehicle_age=1-2_year <= 0.50\n",
      "|   |   |   |   |   |   |   |   |--- class: 0\n",
      "|   |   |   |   |   |   |   |--- vehicle_age=1-2_year >  0.50\n",
      "|   |   |   |   |   |   |   |   |--- policy_sales_channel <= 123.00\n",
      "|   |   |   |   |   |   |   |   |   |--- policy_sales_channel <= 96.00\n",
      "|   |   |   |   |   |   |   |   |   |   |--- class: 0\n",
      "|   |   |   |   |   |   |   |   |   |--- policy_sales_channel >  96.00\n",
      "|   |   |   |   |   |   |   |   |   |   |--- class: 0\n",
      "|   |   |   |   |   |   |   |   |--- policy_sales_channel >  123.00\n",
      "|   |   |   |   |   |   |   |   |   |--- vintage <= 109.50\n",
      "|   |   |   |   |   |   |   |   |   |   |--- class: 0\n",
      "|   |   |   |   |   |   |   |   |   |--- vintage >  109.50\n",
      "|   |   |   |   |   |   |   |   |   |   |--- class: 0\n",
      "|   |   |   |   |   |   |--- region_code >  1.50\n",
      "|   |   |   |   |   |   |   |--- policy_sales_channel <= 124.50\n",
      "|   |   |   |   |   |   |   |   |--- vehicle_age=1-2_year <= 0.50\n",
      "|   |   |   |   |   |   |   |   |   |--- policy_sales_channel <= 48.00\n",
      "|   |   |   |   |   |   |   |   |   |   |--- class: 0\n",
      "|   |   |   |   |   |   |   |   |   |--- policy_sales_channel >  48.00\n",
      "|   |   |   |   |   |   |   |   |   |   |--- class: 0\n",
      "|   |   |   |   |   |   |   |   |--- vehicle_age=1-2_year >  0.50\n",
      "|   |   |   |   |   |   |   |   |   |--- age <= 36.50\n",
      "|   |   |   |   |   |   |   |   |   |   |--- class: 0\n",
      "|   |   |   |   |   |   |   |   |   |--- age >  36.50\n",
      "|   |   |   |   |   |   |   |   |   |   |--- class: 0\n",
      "|   |   |   |   |   |   |   |--- policy_sales_channel >  124.50\n",
      "|   |   |   |   |   |   |   |   |--- policy_sales_channel <= 153.50\n",
      "|   |   |   |   |   |   |   |   |   |--- gender=male <= 0.50\n",
      "|   |   |   |   |   |   |   |   |   |   |--- class: 0\n",
      "|   |   |   |   |   |   |   |   |   |--- gender=male >  0.50\n",
      "|   |   |   |   |   |   |   |   |   |   |--- class: 0\n",
      "|   |   |   |   |   |   |   |   |--- policy_sales_channel >  153.50\n",
      "|   |   |   |   |   |   |   |   |   |--- vehicle_age=more_than_2_years <= 0.50\n",
      "|   |   |   |   |   |   |   |   |   |   |--- class: 0\n",
      "|   |   |   |   |   |   |   |   |   |--- vehicle_age=more_than_2_years >  0.50\n",
      "|   |   |   |   |   |   |   |   |   |   |--- class: 0\n",
      "|   |   |   |   |   |--- region_code >  47.50\n",
      "|   |   |   |   |   |   |--- age <= 55.50\n",
      "|   |   |   |   |   |   |   |--- age <= 41.50\n",
      "|   |   |   |   |   |   |   |   |--- vintage <= 217.50\n",
      "|   |   |   |   |   |   |   |   |   |--- age <= 38.50\n",
      "|   |   |   |   |   |   |   |   |   |   |--- class: 0\n",
      "|   |   |   |   |   |   |   |   |   |--- age >  38.50\n",
      "|   |   |   |   |   |   |   |   |   |   |--- class: 0\n",
      "|   |   |   |   |   |   |   |   |--- vintage >  217.50\n",
      "|   |   |   |   |   |   |   |   |   |--- vintage <= 263.00\n",
      "|   |   |   |   |   |   |   |   |   |   |--- class: 0\n",
      "|   |   |   |   |   |   |   |   |   |--- vintage >  263.00\n",
      "|   |   |   |   |   |   |   |   |   |   |--- class: 0\n",
      "|   |   |   |   |   |   |   |--- age >  41.50\n",
      "|   |   |   |   |   |   |   |   |--- age <= 49.50\n",
      "|   |   |   |   |   |   |   |   |   |--- policy_sales_channel <= 123.00\n",
      "|   |   |   |   |   |   |   |   |   |   |--- class: 0\n",
      "|   |   |   |   |   |   |   |   |   |--- policy_sales_channel >  123.00\n",
      "|   |   |   |   |   |   |   |   |   |   |--- class: 0\n",
      "|   |   |   |   |   |   |   |   |--- age >  49.50\n",
      "|   |   |   |   |   |   |   |   |   |--- policy_sales_channel <= 123.00\n",
      "|   |   |   |   |   |   |   |   |   |   |--- class: 0\n",
      "|   |   |   |   |   |   |   |   |   |--- policy_sales_channel >  123.00\n",
      "|   |   |   |   |   |   |   |   |   |   |--- class: 0\n",
      "|   |   |   |   |   |   |--- age >  55.50\n",
      "|   |   |   |   |   |   |   |--- policy_sales_channel <= 44.50\n",
      "|   |   |   |   |   |   |   |   |--- class: 0\n",
      "|   |   |   |   |   |   |   |--- policy_sales_channel >  44.50\n",
      "|   |   |   |   |   |   |   |   |--- class: 0\n",
      "|   |   |   |--- annual_premium >  11779.50\n",
      "|   |   |   |   |--- age <= 48.50\n",
      "|   |   |   |   |   |--- policy_sales_channel <= 124.50\n",
      "|   |   |   |   |   |   |--- vehicle_age=1-2_year <= 0.50\n",
      "|   |   |   |   |   |   |   |--- age <= 28.50\n",
      "|   |   |   |   |   |   |   |   |--- annual_premium <= 38712.00\n",
      "|   |   |   |   |   |   |   |   |   |--- class: 0\n",
      "|   |   |   |   |   |   |   |   |--- annual_premium >  38712.00\n",
      "|   |   |   |   |   |   |   |   |   |--- class: 0\n",
      "|   |   |   |   |   |   |   |--- age >  28.50\n",
      "|   |   |   |   |   |   |   |   |--- vehicle_age=less_than_1_year <= 0.50\n",
      "|   |   |   |   |   |   |   |   |   |--- policy_sales_channel <= 30.50\n",
      "|   |   |   |   |   |   |   |   |   |   |--- class: 0\n",
      "|   |   |   |   |   |   |   |   |   |--- policy_sales_channel >  30.50\n",
      "|   |   |   |   |   |   |   |   |   |   |--- class: 0\n",
      "|   |   |   |   |   |   |   |   |--- vehicle_age=less_than_1_year >  0.50\n",
      "|   |   |   |   |   |   |   |   |   |--- annual_premium <= 44137.00\n",
      "|   |   |   |   |   |   |   |   |   |   |--- class: 0\n",
      "|   |   |   |   |   |   |   |   |   |--- annual_premium >  44137.00\n",
      "|   |   |   |   |   |   |   |   |   |   |--- class: 0\n",
      "|   |   |   |   |   |   |--- vehicle_age=1-2_year >  0.50\n",
      "|   |   |   |   |   |   |   |--- age <= 38.50\n",
      "|   |   |   |   |   |   |   |   |--- policy_sales_channel <= 25.50\n",
      "|   |   |   |   |   |   |   |   |   |--- region_code <= 29.50\n",
      "|   |   |   |   |   |   |   |   |   |   |--- class: 0\n",
      "|   |   |   |   |   |   |   |   |   |--- region_code >  29.50\n",
      "|   |   |   |   |   |   |   |   |   |   |--- class: 0\n",
      "|   |   |   |   |   |   |   |   |--- policy_sales_channel >  25.50\n",
      "|   |   |   |   |   |   |   |   |   |--- annual_premium <= 44941.00\n",
      "|   |   |   |   |   |   |   |   |   |   |--- class: 0\n",
      "|   |   |   |   |   |   |   |   |   |--- annual_premium >  44941.00\n",
      "|   |   |   |   |   |   |   |   |   |   |--- class: 0\n",
      "|   |   |   |   |   |   |   |--- age >  38.50\n",
      "|   |   |   |   |   |   |   |   |--- policy_sales_channel <= 28.50\n",
      "|   |   |   |   |   |   |   |   |   |--- policy_sales_channel <= 22.50\n",
      "|   |   |   |   |   |   |   |   |   |   |--- class: 0\n",
      "|   |   |   |   |   |   |   |   |   |--- policy_sales_channel >  22.50\n",
      "|   |   |   |   |   |   |   |   |   |   |--- class: 0\n",
      "|   |   |   |   |   |   |   |   |--- policy_sales_channel >  28.50\n",
      "|   |   |   |   |   |   |   |   |   |--- age <= 44.50\n",
      "|   |   |   |   |   |   |   |   |   |   |--- class: 0\n",
      "|   |   |   |   |   |   |   |   |   |--- age >  44.50\n",
      "|   |   |   |   |   |   |   |   |   |   |--- class: 0\n",
      "|   |   |   |   |   |--- policy_sales_channel >  124.50\n",
      "|   |   |   |   |   |   |--- policy_sales_channel <= 153.50\n",
      "|   |   |   |   |   |   |   |--- policy_sales_channel <= 150.50\n",
      "|   |   |   |   |   |   |   |   |--- age <= 44.50\n",
      "|   |   |   |   |   |   |   |   |   |--- age <= 41.50\n",
      "|   |   |   |   |   |   |   |   |   |   |--- class: 0\n",
      "|   |   |   |   |   |   |   |   |   |--- age >  41.50\n",
      "|   |   |   |   |   |   |   |   |   |   |--- class: 0\n",
      "|   |   |   |   |   |   |   |   |--- age >  44.50\n",
      "|   |   |   |   |   |   |   |   |   |--- class: 0\n",
      "|   |   |   |   |   |   |   |--- policy_sales_channel >  150.50\n",
      "|   |   |   |   |   |   |   |   |--- age <= 41.50\n",
      "|   |   |   |   |   |   |   |   |   |--- annual_premium <= 46899.50\n",
      "|   |   |   |   |   |   |   |   |   |   |--- class: 0\n",
      "|   |   |   |   |   |   |   |   |   |--- annual_premium >  46899.50\n",
      "|   |   |   |   |   |   |   |   |   |   |--- class: 0\n",
      "|   |   |   |   |   |   |   |   |--- age >  41.50\n",
      "|   |   |   |   |   |   |   |   |   |--- vintage <= 166.50\n",
      "|   |   |   |   |   |   |   |   |   |   |--- class: 0\n",
      "|   |   |   |   |   |   |   |   |   |--- vintage >  166.50\n",
      "|   |   |   |   |   |   |   |   |   |   |--- class: 0\n",
      "|   |   |   |   |   |   |--- policy_sales_channel >  153.50\n",
      "|   |   |   |   |   |   |   |--- vehicle_age=more_than_2_years <= 0.50\n",
      "|   |   |   |   |   |   |   |   |--- age <= 38.50\n",
      "|   |   |   |   |   |   |   |   |   |--- policy_sales_channel <= 161.50\n",
      "|   |   |   |   |   |   |   |   |   |   |--- class: 0\n",
      "|   |   |   |   |   |   |   |   |   |--- policy_sales_channel >  161.50\n",
      "|   |   |   |   |   |   |   |   |   |   |--- class: 0\n",
      "|   |   |   |   |   |   |   |   |--- age >  38.50\n",
      "|   |   |   |   |   |   |   |   |   |--- vintage <= 286.50\n",
      "|   |   |   |   |   |   |   |   |   |   |--- class: 0\n",
      "|   |   |   |   |   |   |   |   |   |--- vintage >  286.50\n",
      "|   |   |   |   |   |   |   |   |   |   |--- class: 0\n",
      "|   |   |   |   |   |   |   |--- vehicle_age=more_than_2_years >  0.50\n",
      "|   |   |   |   |   |   |   |   |--- annual_premium <= 33556.50\n",
      "|   |   |   |   |   |   |   |   |   |--- class: 0\n",
      "|   |   |   |   |   |   |   |   |--- annual_premium >  33556.50\n",
      "|   |   |   |   |   |   |   |   |   |--- class: 0\n",
      "|   |   |   |   |--- age >  48.50\n",
      "|   |   |   |   |   |--- policy_sales_channel <= 27.50\n",
      "|   |   |   |   |   |   |--- vehicle_age=1-2_year <= 0.50\n",
      "|   |   |   |   |   |   |   |--- annual_premium <= 45073.00\n",
      "|   |   |   |   |   |   |   |   |--- age <= 57.50\n",
      "|   |   |   |   |   |   |   |   |   |--- age <= 49.50\n",
      "|   |   |   |   |   |   |   |   |   |   |--- class: 0\n",
      "|   |   |   |   |   |   |   |   |   |--- age >  49.50\n",
      "|   |   |   |   |   |   |   |   |   |   |--- class: 0\n",
      "|   |   |   |   |   |   |   |   |--- age >  57.50\n",
      "|   |   |   |   |   |   |   |   |   |--- class: 0\n",
      "|   |   |   |   |   |   |   |--- annual_premium >  45073.00\n",
      "|   |   |   |   |   |   |   |   |--- vintage <= 198.50\n",
      "|   |   |   |   |   |   |   |   |   |--- annual_premium <= 55294.50\n",
      "|   |   |   |   |   |   |   |   |   |   |--- class: 0\n",
      "|   |   |   |   |   |   |   |   |   |--- annual_premium >  55294.50\n",
      "|   |   |   |   |   |   |   |   |   |   |--- class: 0\n",
      "|   |   |   |   |   |   |   |   |--- vintage >  198.50\n",
      "|   |   |   |   |   |   |   |   |   |--- vintage <= 242.50\n",
      "|   |   |   |   |   |   |   |   |   |   |--- class: 1\n",
      "|   |   |   |   |   |   |   |   |   |--- vintage >  242.50\n",
      "|   |   |   |   |   |   |   |   |   |   |--- class: 0\n",
      "|   |   |   |   |   |   |--- vehicle_age=1-2_year >  0.50\n",
      "|   |   |   |   |   |   |   |--- policy_sales_channel <= 23.50\n",
      "|   |   |   |   |   |   |   |   |--- policy_sales_channel <= 7.50\n",
      "|   |   |   |   |   |   |   |   |   |--- age <= 52.50\n",
      "|   |   |   |   |   |   |   |   |   |   |--- class: 0\n",
      "|   |   |   |   |   |   |   |   |   |--- age >  52.50\n",
      "|   |   |   |   |   |   |   |   |   |   |--- class: 0\n",
      "|   |   |   |   |   |   |   |   |--- policy_sales_channel >  7.50\n",
      "|   |   |   |   |   |   |   |   |   |--- policy_sales_channel <= 14.50\n",
      "|   |   |   |   |   |   |   |   |   |   |--- class: 0\n",
      "|   |   |   |   |   |   |   |   |   |--- policy_sales_channel >  14.50\n",
      "|   |   |   |   |   |   |   |   |   |   |--- class: 0\n",
      "|   |   |   |   |   |   |   |--- policy_sales_channel >  23.50\n",
      "|   |   |   |   |   |   |   |   |--- age <= 54.50\n",
      "|   |   |   |   |   |   |   |   |   |--- region_code <= 27.50\n",
      "|   |   |   |   |   |   |   |   |   |   |--- class: 0\n",
      "|   |   |   |   |   |   |   |   |   |--- region_code >  27.50\n",
      "|   |   |   |   |   |   |   |   |   |   |--- class: 0\n",
      "|   |   |   |   |   |   |   |   |--- age >  54.50\n",
      "|   |   |   |   |   |   |   |   |   |--- region_code <= 34.50\n",
      "|   |   |   |   |   |   |   |   |   |   |--- class: 0\n",
      "|   |   |   |   |   |   |   |   |   |--- region_code >  34.50\n",
      "|   |   |   |   |   |   |   |   |   |   |--- class: 0\n",
      "|   |   |   |   |   |--- policy_sales_channel >  27.50\n",
      "|   |   |   |   |   |   |--- policy_sales_channel <= 154.50\n",
      "|   |   |   |   |   |   |   |--- policy_sales_channel <= 124.50\n",
      "|   |   |   |   |   |   |   |   |--- age <= 54.50\n",
      "|   |   |   |   |   |   |   |   |   |--- annual_premium <= 42968.50\n",
      "|   |   |   |   |   |   |   |   |   |   |--- class: 0\n",
      "|   |   |   |   |   |   |   |   |   |--- annual_premium >  42968.50\n",
      "|   |   |   |   |   |   |   |   |   |   |--- class: 0\n",
      "|   |   |   |   |   |   |   |   |--- age >  54.50\n",
      "|   |   |   |   |   |   |   |   |   |--- vehicle_age=1-2_year <= 0.50\n",
      "|   |   |   |   |   |   |   |   |   |   |--- class: 0\n",
      "|   |   |   |   |   |   |   |   |   |--- vehicle_age=1-2_year >  0.50\n",
      "|   |   |   |   |   |   |   |   |   |   |--- class: 0\n",
      "|   |   |   |   |   |   |   |--- policy_sales_channel >  124.50\n",
      "|   |   |   |   |   |   |   |   |--- policy_sales_channel <= 153.50\n",
      "|   |   |   |   |   |   |   |   |   |--- policy_sales_channel <= 150.50\n",
      "|   |   |   |   |   |   |   |   |   |   |--- class: 0\n",
      "|   |   |   |   |   |   |   |   |   |--- policy_sales_channel >  150.50\n",
      "|   |   |   |   |   |   |   |   |   |   |--- class: 0\n",
      "|   |   |   |   |   |   |   |   |--- policy_sales_channel >  153.50\n",
      "|   |   |   |   |   |   |   |   |   |--- age <= 50.50\n",
      "|   |   |   |   |   |   |   |   |   |   |--- class: 0\n",
      "|   |   |   |   |   |   |   |   |   |--- age >  50.50\n",
      "|   |   |   |   |   |   |   |   |   |   |--- class: 0\n",
      "|   |   |   |   |   |   |--- policy_sales_channel >  154.50\n",
      "|   |   |   |   |   |   |   |--- vehicle_age=1-2_year <= 0.50\n",
      "|   |   |   |   |   |   |   |   |--- class: 0\n",
      "|   |   |   |   |   |   |   |--- vehicle_age=1-2_year >  0.50\n",
      "|   |   |   |   |   |   |   |   |--- annual_premium <= 25752.50\n",
      "|   |   |   |   |   |   |   |   |   |--- class: 1\n",
      "|   |   |   |   |   |   |   |   |--- annual_premium >  25752.50\n",
      "|   |   |   |   |   |   |   |   |   |--- gender=female <= 0.50\n",
      "|   |   |   |   |   |   |   |   |   |   |--- class: 0\n",
      "|   |   |   |   |   |   |   |   |   |--- gender=female >  0.50\n",
      "|   |   |   |   |   |   |   |   |   |   |--- class: 0\n",
      "|   |   |--- age >  59.50\n",
      "|   |   |   |--- vehicle_age=more_than_2_years <= 0.50\n",
      "|   |   |   |   |--- age <= 67.50\n",
      "|   |   |   |   |   |--- policy_sales_channel <= 153.00\n",
      "|   |   |   |   |   |   |--- policy_sales_channel <= 126.00\n",
      "|   |   |   |   |   |   |   |--- annual_premium <= 54700.50\n",
      "|   |   |   |   |   |   |   |   |--- region_code <= 41.50\n",
      "|   |   |   |   |   |   |   |   |   |--- region_code <= 2.50\n",
      "|   |   |   |   |   |   |   |   |   |   |--- class: 0\n",
      "|   |   |   |   |   |   |   |   |   |--- region_code >  2.50\n",
      "|   |   |   |   |   |   |   |   |   |   |--- class: 0\n",
      "|   |   |   |   |   |   |   |   |--- region_code >  41.50\n",
      "|   |   |   |   |   |   |   |   |   |--- annual_premium <= 33085.00\n",
      "|   |   |   |   |   |   |   |   |   |   |--- class: 0\n",
      "|   |   |   |   |   |   |   |   |   |--- annual_premium >  33085.00\n",
      "|   |   |   |   |   |   |   |   |   |   |--- class: 0\n",
      "|   |   |   |   |   |   |   |--- annual_premium >  54700.50\n",
      "|   |   |   |   |   |   |   |   |--- policy_sales_channel <= 53.50\n",
      "|   |   |   |   |   |   |   |   |   |--- annual_premium <= 71965.50\n",
      "|   |   |   |   |   |   |   |   |   |   |--- class: 0\n",
      "|   |   |   |   |   |   |   |   |   |--- annual_premium >  71965.50\n",
      "|   |   |   |   |   |   |   |   |   |   |--- class: 0\n",
      "|   |   |   |   |   |   |   |   |--- policy_sales_channel >  53.50\n",
      "|   |   |   |   |   |   |   |   |   |--- vintage <= 203.50\n",
      "|   |   |   |   |   |   |   |   |   |   |--- class: 0\n",
      "|   |   |   |   |   |   |   |   |   |--- vintage >  203.50\n",
      "|   |   |   |   |   |   |   |   |   |   |--- class: 0\n",
      "|   |   |   |   |   |   |--- policy_sales_channel >  126.00\n",
      "|   |   |   |   |   |   |   |--- vintage <= 160.50\n",
      "|   |   |   |   |   |   |   |   |--- class: 0\n",
      "|   |   |   |   |   |   |   |--- vintage >  160.50\n",
      "|   |   |   |   |   |   |   |   |--- class: 0\n",
      "|   |   |   |   |   |--- policy_sales_channel >  153.00\n",
      "|   |   |   |   |   |   |--- annual_premium <= 9868.50\n",
      "|   |   |   |   |   |   |   |--- vintage <= 76.00\n",
      "|   |   |   |   |   |   |   |   |--- class: 0\n",
      "|   |   |   |   |   |   |   |--- vintage >  76.00\n",
      "|   |   |   |   |   |   |   |   |--- vintage <= 243.50\n",
      "|   |   |   |   |   |   |   |   |   |--- vintage <= 182.50\n",
      "|   |   |   |   |   |   |   |   |   |   |--- class: 0\n",
      "|   |   |   |   |   |   |   |   |   |--- vintage >  182.50\n",
      "|   |   |   |   |   |   |   |   |   |   |--- class: 0\n",
      "|   |   |   |   |   |   |   |   |--- vintage >  243.50\n",
      "|   |   |   |   |   |   |   |   |   |--- class: 0\n",
      "|   |   |   |   |   |   |--- annual_premium >  9868.50\n",
      "|   |   |   |   |   |   |   |--- annual_premium <= 32740.00\n",
      "|   |   |   |   |   |   |   |   |--- class: 0\n",
      "|   |   |   |   |   |   |   |--- annual_premium >  32740.00\n",
      "|   |   |   |   |   |   |   |   |--- annual_premium <= 41532.50\n",
      "|   |   |   |   |   |   |   |   |   |--- class: 0\n",
      "|   |   |   |   |   |   |   |   |--- annual_premium >  41532.50\n",
      "|   |   |   |   |   |   |   |   |   |--- class: 0\n",
      "|   |   |   |   |--- age >  67.50\n",
      "|   |   |   |   |   |--- region_code <= 45.50\n",
      "|   |   |   |   |   |   |--- age <= 76.50\n",
      "|   |   |   |   |   |   |   |--- driving_license=yes <= 0.50\n",
      "|   |   |   |   |   |   |   |   |--- class: 0\n",
      "|   |   |   |   |   |   |   |--- driving_license=yes >  0.50\n",
      "|   |   |   |   |   |   |   |   |--- policy_sales_channel <= 27.50\n",
      "|   |   |   |   |   |   |   |   |   |--- annual_premium <= 30995.50\n",
      "|   |   |   |   |   |   |   |   |   |   |--- class: 0\n",
      "|   |   |   |   |   |   |   |   |   |--- annual_premium >  30995.50\n",
      "|   |   |   |   |   |   |   |   |   |   |--- class: 0\n",
      "|   |   |   |   |   |   |   |   |--- policy_sales_channel >  27.50\n",
      "|   |   |   |   |   |   |   |   |   |--- policy_sales_channel <= 113.50\n",
      "|   |   |   |   |   |   |   |   |   |   |--- class: 0\n",
      "|   |   |   |   |   |   |   |   |   |--- policy_sales_channel >  113.50\n",
      "|   |   |   |   |   |   |   |   |   |   |--- class: 0\n",
      "|   |   |   |   |   |   |--- age >  76.50\n",
      "|   |   |   |   |   |   |   |--- region_code <= 8.50\n",
      "|   |   |   |   |   |   |   |   |--- annual_premium <= 33556.50\n",
      "|   |   |   |   |   |   |   |   |   |--- class: 0\n",
      "|   |   |   |   |   |   |   |   |--- annual_premium >  33556.50\n",
      "|   |   |   |   |   |   |   |   |   |--- class: 0\n",
      "|   |   |   |   |   |   |   |--- region_code >  8.50\n",
      "|   |   |   |   |   |   |   |   |--- annual_premium <= 44810.50\n",
      "|   |   |   |   |   |   |   |   |   |--- annual_premium <= 41572.00\n",
      "|   |   |   |   |   |   |   |   |   |   |--- class: 0\n",
      "|   |   |   |   |   |   |   |   |   |--- annual_premium >  41572.00\n",
      "|   |   |   |   |   |   |   |   |   |   |--- class: 0\n",
      "|   |   |   |   |   |   |   |   |--- annual_premium >  44810.50\n",
      "|   |   |   |   |   |   |   |   |   |--- annual_premium <= 48896.50\n",
      "|   |   |   |   |   |   |   |   |   |   |--- class: 0\n",
      "|   |   |   |   |   |   |   |   |   |--- annual_premium >  48896.50\n",
      "|   |   |   |   |   |   |   |   |   |   |--- class: 0\n",
      "|   |   |   |   |   |--- region_code >  45.50\n",
      "|   |   |   |   |   |   |--- policy_sales_channel <= 12.00\n",
      "|   |   |   |   |   |   |   |--- class: 0\n",
      "|   |   |   |   |   |   |--- policy_sales_channel >  12.00\n",
      "|   |   |   |   |   |   |   |--- annual_premium <= 33034.50\n",
      "|   |   |   |   |   |   |   |   |--- annual_premium <= 28832.50\n",
      "|   |   |   |   |   |   |   |   |   |--- vintage <= 159.50\n",
      "|   |   |   |   |   |   |   |   |   |   |--- class: 0\n",
      "|   |   |   |   |   |   |   |   |   |--- vintage >  159.50\n",
      "|   |   |   |   |   |   |   |   |   |   |--- class: 0\n",
      "|   |   |   |   |   |   |   |   |--- annual_premium >  28832.50\n",
      "|   |   |   |   |   |   |   |   |   |--- class: 0\n",
      "|   |   |   |   |   |   |   |--- annual_premium >  33034.50\n",
      "|   |   |   |   |   |   |   |   |--- annual_premium <= 40267.00\n",
      "|   |   |   |   |   |   |   |   |   |--- class: 0\n",
      "|   |   |   |   |   |   |   |   |--- annual_premium >  40267.00\n",
      "|   |   |   |   |   |   |   |   |   |--- class: 0\n",
      "|   |   |   |--- vehicle_age=more_than_2_years >  0.50\n",
      "|   |   |   |   |--- policy_sales_channel <= 30.50\n",
      "|   |   |   |   |   |--- age <= 65.50\n",
      "|   |   |   |   |   |   |--- vintage <= 245.50\n",
      "|   |   |   |   |   |   |   |--- annual_premium <= 51182.00\n",
      "|   |   |   |   |   |   |   |   |--- gender=female <= 0.50\n",
      "|   |   |   |   |   |   |   |   |   |--- vintage <= 145.50\n",
      "|   |   |   |   |   |   |   |   |   |   |--- class: 0\n",
      "|   |   |   |   |   |   |   |   |   |--- vintage >  145.50\n",
      "|   |   |   |   |   |   |   |   |   |   |--- class: 0\n",
      "|   |   |   |   |   |   |   |   |--- gender=female >  0.50\n",
      "|   |   |   |   |   |   |   |   |   |--- class: 0\n",
      "|   |   |   |   |   |   |   |--- annual_premium >  51182.00\n",
      "|   |   |   |   |   |   |   |   |--- class: 0\n",
      "|   |   |   |   |   |   |--- vintage >  245.50\n",
      "|   |   |   |   |   |   |   |--- class: 0\n",
      "|   |   |   |   |   |--- age >  65.50\n",
      "|   |   |   |   |   |   |--- annual_premium <= 36713.50\n",
      "|   |   |   |   |   |   |   |--- gender=female <= 0.50\n",
      "|   |   |   |   |   |   |   |   |--- age <= 69.50\n",
      "|   |   |   |   |   |   |   |   |   |--- class: 0\n",
      "|   |   |   |   |   |   |   |   |--- age >  69.50\n",
      "|   |   |   |   |   |   |   |   |   |--- class: 0\n",
      "|   |   |   |   |   |   |   |--- gender=female >  0.50\n",
      "|   |   |   |   |   |   |   |   |--- annual_premium <= 26865.50\n",
      "|   |   |   |   |   |   |   |   |   |--- class: 0\n",
      "|   |   |   |   |   |   |   |   |--- annual_premium >  26865.50\n",
      "|   |   |   |   |   |   |   |   |   |--- class: 0\n",
      "|   |   |   |   |   |   |--- annual_premium >  36713.50\n",
      "|   |   |   |   |   |   |   |--- annual_premium <= 61511.50\n",
      "|   |   |   |   |   |   |   |   |--- age <= 71.50\n",
      "|   |   |   |   |   |   |   |   |   |--- age <= 68.50\n",
      "|   |   |   |   |   |   |   |   |   |   |--- class: 0\n",
      "|   |   |   |   |   |   |   |   |   |--- age >  68.50\n",
      "|   |   |   |   |   |   |   |   |   |   |--- class: 0\n",
      "|   |   |   |   |   |   |   |   |--- age >  71.50\n",
      "|   |   |   |   |   |   |   |   |   |--- annual_premium <= 49478.00\n",
      "|   |   |   |   |   |   |   |   |   |   |--- class: 0\n",
      "|   |   |   |   |   |   |   |   |   |--- annual_premium >  49478.00\n",
      "|   |   |   |   |   |   |   |   |   |   |--- class: 0\n",
      "|   |   |   |   |   |   |   |--- annual_premium >  61511.50\n",
      "|   |   |   |   |   |   |   |   |--- class: 0\n",
      "|   |   |   |   |--- policy_sales_channel >  30.50\n",
      "|   |   |   |   |   |--- age <= 61.50\n",
      "|   |   |   |   |   |   |--- age <= 60.50\n",
      "|   |   |   |   |   |   |   |--- class: 0\n",
      "|   |   |   |   |   |   |--- age >  60.50\n",
      "|   |   |   |   |   |   |   |--- class: 0\n",
      "|   |   |   |   |   |--- age >  61.50\n",
      "|   |   |   |   |   |   |--- policy_sales_channel <= 149.00\n",
      "|   |   |   |   |   |   |   |--- age <= 71.50\n",
      "|   |   |   |   |   |   |   |   |--- vintage <= 151.50\n",
      "|   |   |   |   |   |   |   |   |   |--- vintage <= 96.00\n",
      "|   |   |   |   |   |   |   |   |   |   |--- class: 0\n",
      "|   |   |   |   |   |   |   |   |   |--- vintage >  96.00\n",
      "|   |   |   |   |   |   |   |   |   |   |--- class: 0\n",
      "|   |   |   |   |   |   |   |   |--- vintage >  151.50\n",
      "|   |   |   |   |   |   |   |   |   |--- age <= 64.50\n",
      "|   |   |   |   |   |   |   |   |   |   |--- class: 0\n",
      "|   |   |   |   |   |   |   |   |   |--- age >  64.50\n",
      "|   |   |   |   |   |   |   |   |   |   |--- class: 0\n",
      "|   |   |   |   |   |   |   |--- age >  71.50\n",
      "|   |   |   |   |   |   |   |   |--- vintage <= 177.50\n",
      "|   |   |   |   |   |   |   |   |   |--- annual_premium <= 41141.00\n",
      "|   |   |   |   |   |   |   |   |   |   |--- class: 0\n",
      "|   |   |   |   |   |   |   |   |   |--- annual_premium >  41141.00\n",
      "|   |   |   |   |   |   |   |   |   |   |--- class: 0\n",
      "|   |   |   |   |   |   |   |   |--- vintage >  177.50\n",
      "|   |   |   |   |   |   |   |   |   |--- class: 0\n",
      "|   |   |   |   |   |   |--- policy_sales_channel >  149.00\n",
      "|   |   |   |   |   |   |   |--- annual_premium <= 32160.50\n",
      "|   |   |   |   |   |   |   |   |--- vintage <= 164.50\n",
      "|   |   |   |   |   |   |   |   |   |--- class: 0\n",
      "|   |   |   |   |   |   |   |   |--- vintage >  164.50\n",
      "|   |   |   |   |   |   |   |   |   |--- class: 0\n",
      "|   |   |   |   |   |   |   |--- annual_premium >  32160.50\n",
      "|   |   |   |   |   |   |   |   |--- class: 0\n",
      "|--- previously_insured=yes >  0.50\n",
      "|   |--- policy_sales_channel <= 153.50\n",
      "|   |   |--- policy_sales_channel <= 2.00\n",
      "|   |   |   |--- class: 0\n",
      "|   |   |--- policy_sales_channel >  2.00\n",
      "|   |   |   |--- policy_sales_channel <= 151.50\n",
      "|   |   |   |   |--- age <= 47.50\n",
      "|   |   |   |   |   |--- vintage <= 18.50\n",
      "|   |   |   |   |   |   |--- vintage <= 16.50\n",
      "|   |   |   |   |   |   |   |--- annual_premium <= 41317.00\n",
      "|   |   |   |   |   |   |   |   |--- class: 0\n",
      "|   |   |   |   |   |   |   |--- annual_premium >  41317.00\n",
      "|   |   |   |   |   |   |   |   |--- class: 0\n",
      "|   |   |   |   |   |   |--- vintage >  16.50\n",
      "|   |   |   |   |   |   |   |--- class: 0\n",
      "|   |   |   |   |   |--- vintage >  18.50\n",
      "|   |   |   |   |   |   |--- age <= 40.50\n",
      "|   |   |   |   |   |   |   |--- annual_premium <= 66827.00\n",
      "|   |   |   |   |   |   |   |   |--- policy_sales_channel <= 123.00\n",
      "|   |   |   |   |   |   |   |   |   |--- region_code <= 2.50\n",
      "|   |   |   |   |   |   |   |   |   |   |--- class: 0\n",
      "|   |   |   |   |   |   |   |   |   |--- region_code >  2.50\n",
      "|   |   |   |   |   |   |   |   |   |   |--- class: 0\n",
      "|   |   |   |   |   |   |   |   |--- policy_sales_channel >  123.00\n",
      "|   |   |   |   |   |   |   |   |   |--- vintage <= 292.50\n",
      "|   |   |   |   |   |   |   |   |   |   |--- class: 0\n",
      "|   |   |   |   |   |   |   |   |   |--- vintage >  292.50\n",
      "|   |   |   |   |   |   |   |   |   |   |--- class: 0\n",
      "|   |   |   |   |   |   |   |--- annual_premium >  66827.00\n",
      "|   |   |   |   |   |   |   |   |--- class: 0\n",
      "|   |   |   |   |   |   |--- age >  40.50\n",
      "|   |   |   |   |   |   |   |--- annual_premium <= 34446.00\n",
      "|   |   |   |   |   |   |   |   |--- annual_premium <= 34170.50\n",
      "|   |   |   |   |   |   |   |   |   |--- age <= 43.50\n",
      "|   |   |   |   |   |   |   |   |   |   |--- class: 0\n",
      "|   |   |   |   |   |   |   |   |   |--- age >  43.50\n",
      "|   |   |   |   |   |   |   |   |   |   |--- class: 0\n",
      "|   |   |   |   |   |   |   |   |--- annual_premium >  34170.50\n",
      "|   |   |   |   |   |   |   |   |   |--- class: 0\n",
      "|   |   |   |   |   |   |   |--- annual_premium >  34446.00\n",
      "|   |   |   |   |   |   |   |   |--- vintage <= 37.50\n",
      "|   |   |   |   |   |   |   |   |   |--- annual_premium <= 38650.00\n",
      "|   |   |   |   |   |   |   |   |   |   |--- class: 0\n",
      "|   |   |   |   |   |   |   |   |   |--- annual_premium >  38650.00\n",
      "|   |   |   |   |   |   |   |   |   |   |--- class: 0\n",
      "|   |   |   |   |   |   |   |   |--- vintage >  37.50\n",
      "|   |   |   |   |   |   |   |   |   |--- class: 0\n",
      "|   |   |   |   |--- age >  47.50\n",
      "|   |   |   |   |   |--- annual_premium <= 54731.00\n",
      "|   |   |   |   |   |   |--- vintage <= 292.50\n",
      "|   |   |   |   |   |   |   |--- age <= 60.50\n",
      "|   |   |   |   |   |   |   |   |--- region_code <= 8.50\n",
      "|   |   |   |   |   |   |   |   |   |--- age <= 59.50\n",
      "|   |   |   |   |   |   |   |   |   |   |--- class: 0\n",
      "|   |   |   |   |   |   |   |   |   |--- age >  59.50\n",
      "|   |   |   |   |   |   |   |   |   |   |--- class: 0\n",
      "|   |   |   |   |   |   |   |   |--- region_code >  8.50\n",
      "|   |   |   |   |   |   |   |   |   |--- vintage <= 25.50\n",
      "|   |   |   |   |   |   |   |   |   |   |--- class: 0\n",
      "|   |   |   |   |   |   |   |   |   |--- vintage >  25.50\n",
      "|   |   |   |   |   |   |   |   |   |   |--- class: 0\n",
      "|   |   |   |   |   |   |   |--- age >  60.50\n",
      "|   |   |   |   |   |   |   |   |--- class: 0\n",
      "|   |   |   |   |   |   |--- vintage >  292.50\n",
      "|   |   |   |   |   |   |   |--- age <= 51.50\n",
      "|   |   |   |   |   |   |   |   |--- class: 0\n",
      "|   |   |   |   |   |   |   |--- age >  51.50\n",
      "|   |   |   |   |   |   |   |   |--- class: 0\n",
      "|   |   |   |   |   |--- annual_premium >  54731.00\n",
      "|   |   |   |   |   |   |--- annual_premium <= 55631.00\n",
      "|   |   |   |   |   |   |   |--- class: 0\n",
      "|   |   |   |   |   |   |--- annual_premium >  55631.00\n",
      "|   |   |   |   |   |   |   |--- class: 0\n",
      "|   |   |   |--- policy_sales_channel >  151.50\n",
      "|   |   |   |   |--- vintage <= 298.50\n",
      "|   |   |   |   |   |--- region_code <= 44.50\n",
      "|   |   |   |   |   |   |--- annual_premium <= 27178.50\n",
      "|   |   |   |   |   |   |   |--- annual_premium <= 6317.00\n",
      "|   |   |   |   |   |   |   |   |--- age <= 24.50\n",
      "|   |   |   |   |   |   |   |   |   |--- age <= 23.50\n",
      "|   |   |   |   |   |   |   |   |   |   |--- class: 0\n",
      "|   |   |   |   |   |   |   |   |   |--- age >  23.50\n",
      "|   |   |   |   |   |   |   |   |   |   |--- class: 0\n",
      "|   |   |   |   |   |   |   |   |--- age >  24.50\n",
      "|   |   |   |   |   |   |   |   |   |--- class: 0\n",
      "|   |   |   |   |   |   |   |--- annual_premium >  6317.00\n",
      "|   |   |   |   |   |   |   |   |--- class: 0\n",
      "|   |   |   |   |   |   |--- annual_premium >  27178.50\n",
      "|   |   |   |   |   |   |   |--- annual_premium <= 27212.50\n",
      "|   |   |   |   |   |   |   |   |--- class: 0\n",
      "|   |   |   |   |   |   |   |--- annual_premium >  27212.50\n",
      "|   |   |   |   |   |   |   |   |--- annual_premium <= 27340.50\n",
      "|   |   |   |   |   |   |   |   |   |--- annual_premium <= 27304.50\n",
      "|   |   |   |   |   |   |   |   |   |   |--- class: 0\n",
      "|   |   |   |   |   |   |   |   |   |--- annual_premium >  27304.50\n",
      "|   |   |   |   |   |   |   |   |   |   |--- class: 0\n",
      "|   |   |   |   |   |   |   |   |--- annual_premium >  27340.50\n",
      "|   |   |   |   |   |   |   |   |   |--- region_code <= 3.50\n",
      "|   |   |   |   |   |   |   |   |   |   |--- class: 0\n",
      "|   |   |   |   |   |   |   |   |   |--- region_code >  3.50\n",
      "|   |   |   |   |   |   |   |   |   |   |--- class: 0\n",
      "|   |   |   |   |   |--- region_code >  44.50\n",
      "|   |   |   |   |   |   |--- vintage <= 13.50\n",
      "|   |   |   |   |   |   |   |--- class: 0\n",
      "|   |   |   |   |   |   |--- vintage >  13.50\n",
      "|   |   |   |   |   |   |   |--- vintage <= 57.50\n",
      "|   |   |   |   |   |   |   |   |--- vintage <= 47.50\n",
      "|   |   |   |   |   |   |   |   |   |--- class: 0\n",
      "|   |   |   |   |   |   |   |   |--- vintage >  47.50\n",
      "|   |   |   |   |   |   |   |   |   |--- annual_premium <= 33531.50\n",
      "|   |   |   |   |   |   |   |   |   |   |--- class: 0\n",
      "|   |   |   |   |   |   |   |   |   |--- annual_premium >  33531.50\n",
      "|   |   |   |   |   |   |   |   |   |   |--- class: 0\n",
      "|   |   |   |   |   |   |   |--- vintage >  57.50\n",
      "|   |   |   |   |   |   |   |   |--- vintage <= 189.50\n",
      "|   |   |   |   |   |   |   |   |   |--- class: 0\n",
      "|   |   |   |   |   |   |   |   |--- vintage >  189.50\n",
      "|   |   |   |   |   |   |   |   |   |--- vintage <= 201.50\n",
      "|   |   |   |   |   |   |   |   |   |   |--- class: 0\n",
      "|   |   |   |   |   |   |   |   |   |--- vintage >  201.50\n",
      "|   |   |   |   |   |   |   |   |   |   |--- class: 0\n",
      "|   |   |   |   |--- vintage >  298.50\n",
      "|   |   |   |   |   |--- annual_premium <= 34152.00\n",
      "|   |   |   |   |   |   |--- class: 0\n",
      "|   |   |   |   |   |--- annual_premium >  34152.00\n",
      "|   |   |   |   |   |   |--- class: 0\n",
      "|   |--- policy_sales_channel >  153.50\n",
      "|   |   |--- age <= 35.50\n",
      "|   |   |   |--- age <= 27.50\n",
      "|   |   |   |   |--- policy_sales_channel <= 161.50\n",
      "|   |   |   |   |   |--- annual_premium <= 32063.00\n",
      "|   |   |   |   |   |   |--- annual_premium <= 31799.00\n",
      "|   |   |   |   |   |   |   |--- region_code <= 6.50\n",
      "|   |   |   |   |   |   |   |   |--- region_code <= 5.50\n",
      "|   |   |   |   |   |   |   |   |   |--- class: 0\n",
      "|   |   |   |   |   |   |   |   |--- region_code >  5.50\n",
      "|   |   |   |   |   |   |   |   |   |--- class: 0\n",
      "|   |   |   |   |   |   |   |--- region_code >  6.50\n",
      "|   |   |   |   |   |   |   |   |--- age <= 20.50\n",
      "|   |   |   |   |   |   |   |   |   |--- region_code <= 45.50\n",
      "|   |   |   |   |   |   |   |   |   |   |--- class: 0\n",
      "|   |   |   |   |   |   |   |   |   |--- region_code >  45.50\n",
      "|   |   |   |   |   |   |   |   |   |   |--- class: 0\n",
      "|   |   |   |   |   |   |   |   |--- age >  20.50\n",
      "|   |   |   |   |   |   |   |   |   |--- class: 0\n",
      "|   |   |   |   |   |   |--- annual_premium >  31799.00\n",
      "|   |   |   |   |   |   |   |--- class: 0\n",
      "|   |   |   |   |   |--- annual_premium >  32063.00\n",
      "|   |   |   |   |   |   |--- class: 0\n",
      "|   |   |   |   |--- policy_sales_channel >  161.50\n",
      "|   |   |   |   |   |--- class: 0\n",
      "|   |   |   |--- age >  27.50\n",
      "|   |   |   |   |--- region_code <= 37.50\n",
      "|   |   |   |   |   |--- vintage <= 45.50\n",
      "|   |   |   |   |   |   |--- class: 0\n",
      "|   |   |   |   |   |--- vintage >  45.50\n",
      "|   |   |   |   |   |   |--- class: 0\n",
      "|   |   |   |   |--- region_code >  37.50\n",
      "|   |   |   |   |   |--- annual_premium <= 22905.50\n",
      "|   |   |   |   |   |   |--- vintage <= 168.50\n",
      "|   |   |   |   |   |   |   |--- class: 0\n",
      "|   |   |   |   |   |   |--- vintage >  168.50\n",
      "|   |   |   |   |   |   |   |--- class: 0\n",
      "|   |   |   |   |   |--- annual_premium >  22905.50\n",
      "|   |   |   |   |   |   |--- class: 0\n",
      "|   |   |--- age >  35.50\n",
      "|   |   |   |--- policy_sales_channel <= 157.50\n",
      "|   |   |   |   |--- vintage <= 260.50\n",
      "|   |   |   |   |   |--- vintage <= 215.50\n",
      "|   |   |   |   |   |   |--- vintage <= 189.50\n",
      "|   |   |   |   |   |   |   |--- age <= 57.50\n",
      "|   |   |   |   |   |   |   |   |--- vintage <= 139.50\n",
      "|   |   |   |   |   |   |   |   |   |--- vintage <= 78.50\n",
      "|   |   |   |   |   |   |   |   |   |   |--- class: 0\n",
      "|   |   |   |   |   |   |   |   |   |--- vintage >  78.50\n",
      "|   |   |   |   |   |   |   |   |   |   |--- class: 0\n",
      "|   |   |   |   |   |   |   |   |--- vintage >  139.50\n",
      "|   |   |   |   |   |   |   |   |   |--- class: 0\n",
      "|   |   |   |   |   |   |   |--- age >  57.50\n",
      "|   |   |   |   |   |   |   |   |--- class: 0\n",
      "|   |   |   |   |   |   |--- vintage >  189.50\n",
      "|   |   |   |   |   |   |   |--- class: 0\n",
      "|   |   |   |   |   |--- vintage >  215.50\n",
      "|   |   |   |   |   |   |--- class: 0\n",
      "|   |   |   |   |--- vintage >  260.50\n",
      "|   |   |   |   |   |--- class: 0\n",
      "|   |   |   |--- policy_sales_channel >  157.50\n",
      "|   |   |   |   |--- region_code <= 11.50\n",
      "|   |   |   |   |   |--- class: 0\n",
      "|   |   |   |   |--- region_code >  11.50\n",
      "|   |   |   |   |   |--- class: 0\n",
      "\n"
     ]
    }
   ],
   "source": [
    "print(export_text(dt, feature_names=dv.get_feature_names()))"
   ]
  },
  {
   "cell_type": "code",
   "execution_count": null,
   "id": "66b59766",
   "metadata": {},
   "outputs": [],
   "source": []
  },
  {
   "cell_type": "markdown",
   "id": "01dee3b0",
   "metadata": {},
   "source": [
    "## 4.Random Forest"
   ]
  },
  {
   "cell_type": "code",
   "execution_count": 50,
   "id": "17866a2e",
   "metadata": {},
   "outputs": [],
   "source": [
    "from sklearn.ensemble import RandomForestClassifier"
   ]
  },
  {
   "cell_type": "code",
   "execution_count": 51,
   "id": "4ba0ceb0",
   "metadata": {},
   "outputs": [],
   "source": [
    "scores = []\n",
    "\n",
    "for n in range(10, 201, 10):\n",
    "    rf = RandomForestClassifier(n_estimators=n, random_state=rs)\n",
    "    rf.fit(X_train, y_train)\n",
    "\n",
    "    y_pred = rf.predict_proba(X_val)[:,1]\n",
    "\n",
    "    rmse = (np.sqrt(mean_squared_error(y_val, y_pred))).round(4)\n",
    "    auc = (roc_auc_score(y_val, y_pred)).round(4)\n",
    "    \n",
    "    scores.append((n, rmse, auc))"
   ]
  },
  {
   "cell_type": "code",
   "execution_count": 52,
   "id": "5912934d",
   "metadata": {},
   "outputs": [],
   "source": [
    "df_scores = pd.DataFrame(scores, columns=['n_estimators', 'rmse', 'auc'])"
   ]
  },
  {
   "cell_type": "code",
   "execution_count": 53,
   "id": "f8790079",
   "metadata": {},
   "outputs": [
    {
     "data": {
      "text/plain": [
       "<matplotlib.legend.Legend at 0x210001729d0>"
      ]
     },
     "execution_count": 53,
     "metadata": {},
     "output_type": "execute_result"
    },
    {
     "data": {
      "image/png": "[encoded data removed]",
      "text/plain": [
       "<Figure size 1008x504 with 2 Axes>"
      ]
     },
     "metadata": {
      "needs_background": "light"
     },
     "output_type": "display_data"
    }
   ],
   "source": [
    "plt.figure(figsize=(14, 7))\n",
    "\n",
    "\n",
    "plt.subplot(1,2,1)\n",
    "plt.plot(df_scores.n_estimators, df_scores.auc, 'g', label='auc')\n",
    "plt.legend()\n",
    "\n",
    "plt.subplot(1,2,2)\n",
    "plt.plot(df_scores.n_estimators, df_scores.rmse, 'b', label='rmse')\n",
    "plt.legend()"
   ]
  },
  {
   "cell_type": "code",
   "execution_count": 54,
   "id": "9e823fd8",
   "metadata": {},
   "outputs": [],
   "source": [
    "scores = []\n",
    "\n",
    "for d in [5, 10, 15]:\n",
    "    for n in range(10, 201, 10):\n",
    "        rf = RandomForestClassifier(n_estimators=n,\n",
    "                                    max_depth=d,\n",
    "                                    random_state=rs,\n",
    "                                    warm_start=True)\n",
    "        rf.fit(X_train, y_train)\n",
    "        \n",
    "        y_pred = rf.predict_proba(X_val)[:,1]\n",
    "\n",
    "        rmse = (np.sqrt(mean_squared_error(y_val, y_pred))).round(4)\n",
    "        auc = (roc_auc_score(y_val, y_pred)).round(4)\n",
    "\n",
    "        scores.append((d, n, rmse, auc))"
   ]
  },
  {
   "cell_type": "code",
   "execution_count": 55,
   "id": "8e72015c",
   "metadata": {},
   "outputs": [],
   "source": [
    "rf_columns = ['max_depth', 'n_estimators', 'rmse', 'auc']\n",
    "df_scores = pd.DataFrame(scores, columns=rf_columns)"
   ]
  },
  {
   "cell_type": "code",
   "execution_count": 56,
   "id": "f3450a92",
   "metadata": {},
   "outputs": [
    {
     "data": {
      "text/plain": [
       "<matplotlib.legend.Legend at 0x2100003b310>"
      ]
     },
     "execution_count": 56,
     "metadata": {},
     "output_type": "execute_result"
    },
    {
     "data": {
      "image/png": "[encoded data removed]",
      "text/plain": [
       "<Figure size 1008x504 with 2 Axes>"
      ]
     },
     "metadata": {
      "needs_background": "light"
     },
     "output_type": "display_data"
    }
   ],
   "source": [
    "plt.figure(figsize=(14, 7))\n",
    "\n",
    "\n",
    "plt.subplot(1,2,1)\n",
    "for d in [5, 10, 15]:\n",
    "    df_subset = df_scores[df_scores.max_depth == d]\n",
    "    \n",
    "    plt.plot(df_subset.n_estimators, df_subset.rmse,\n",
    "             label='max_depth=%d' % d)\n",
    "\n",
    "plt.legend()\n",
    "\n",
    "plt.subplot(1,2,2)\n",
    "for d in [5, 10, 15]:\n",
    "    df_subset = df_scores[df_scores.max_depth == d]\n",
    "    \n",
    "    plt.plot(df_subset.n_estimators, df_subset.auc,\n",
    "             label='max_depth=%d' % d)\n",
    "\n",
    "plt.legend()"
   ]
  },
  {
   "cell_type": "markdown",
   "id": "7ccb53e3",
   "metadata": {},
   "source": [
    "* **max_depth=15**"
   ]
  },
  {
   "cell_type": "code",
   "execution_count": 58,
   "id": "f5b0c9a5",
   "metadata": {},
   "outputs": [],
   "source": [
    "scores = []\n",
    "\n",
    "for s in [1, 3, 5, 10, 50]:\n",
    "    for n in range(10, 201, 10):\n",
    "        rf = RandomForestClassifier(n_estimators=n,\n",
    "                                    max_depth=15,\n",
    "                                    min_samples_leaf=s,\n",
    "                                    random_state=rs,\n",
    "                                    warm_start=True)\n",
    "        rf.fit(X_train, y_train)\n",
    "\n",
    "        y_pred = rf.predict_proba(X_val)[:,1]\n",
    "\n",
    "        rmse = (np.sqrt(mean_squared_error(y_val, y_pred))).round(4)\n",
    "        auc = (roc_auc_score(y_val, y_pred)).round(4)\n",
    "\n",
    "        scores.append((s, n, rmse, auc))"
   ]
  },
  {
   "cell_type": "code",
   "execution_count": 59,
   "id": "09ff937c",
   "metadata": {},
   "outputs": [],
   "source": [
    "rf_columns = ['min_samples_leaf', 'n_estimators', 'rmse', 'auc']\n",
    "df_scores = pd.DataFrame(scores, columns=rf_columns)"
   ]
  },
  {
   "cell_type": "code",
   "execution_count": 60,
   "id": "5b53a731",
   "metadata": {},
   "outputs": [],
   "source": [
    "colors = ['black', 'blue', 'orange', 'red', 'grey']\n",
    "values = [1, 3, 5, 10, 50]"
   ]
  },
  {
   "cell_type": "code",
   "execution_count": 61,
   "id": "db6b2fe7",
   "metadata": {},
   "outputs": [
    {
     "data": {
      "text/plain": [
       "<matplotlib.legend.Legend at 0x210004e85e0>"
      ]
     },
     "execution_count": 61,
     "metadata": {},
     "output_type": "execute_result"
    },
    {
     "data": {
      "image/png": "[encoded data removed]",
      "text/plain": [
       "<Figure size 1008x504 with 2 Axes>"
      ]
     },
     "metadata": {
      "needs_background": "light"
     },
     "output_type": "display_data"
    }
   ],
   "source": [
    "plt.figure(figsize=(14, 7))\n",
    "\n",
    "\n",
    "plt.subplot(1,2,1)\n",
    "for s, col in zip(values, colors):\n",
    "    df_subset = df_scores[df_scores.min_samples_leaf == s]\n",
    "    \n",
    "    plt.plot(df_subset.n_estimators, df_subset.rmse,\n",
    "             color=col,\n",
    "             label='min_samples_leaf=%d' % s)\n",
    "\n",
    "plt.legend()\n",
    "\n",
    "plt.subplot(1,2,2)\n",
    "for s, col in zip(values, colors):\n",
    "    df_subset = df_scores[df_scores.min_samples_leaf == s]\n",
    "    \n",
    "    plt.plot(df_subset.n_estimators, df_subset.auc,\n",
    "             color=col,\n",
    "             label='min_samples_leaf=%d' % s)\n",
    "\n",
    "plt.legend()"
   ]
  },
  {
   "cell_type": "markdown",
   "id": "1d734f3c",
   "metadata": {},
   "source": [
    "* **min_sample_leaf=10**"
   ]
  },
  {
   "cell_type": "code",
   "execution_count": 62,
   "id": "f3dbd092",
   "metadata": {},
   "outputs": [],
   "source": [
    "rf = RandomForestClassifier(n_estimators=200,\n",
    "                                    max_depth=15,\n",
    "                                    min_samples_leaf=10,\n",
    "                                    random_state=rs,\n",
    "                                    warm_start=True)\n",
    "rf.fit(X_train, y_train)\n",
    "\n",
    "y_pred = rf.predict_proba(X_val)[:,1]\n",
    "\n",
    "model='Random_Forest'\n",
    "rmse = (np.sqrt(mean_squared_error(y_val, y_pred))).round(4)\n",
    "auc = (roc_auc_score(y_val, y_pred)).round(4)\n",
    "\n",
    "results.append((model, rmse, auc))"
   ]
  },
  {
   "cell_type": "code",
   "execution_count": 63,
   "id": "e1a06a28",
   "metadata": {},
   "outputs": [
    {
     "data": {
      "text/plain": [
       "('Random_Forest', 0.2988, 0.8421)"
      ]
     },
     "execution_count": 63,
     "metadata": {},
     "output_type": "execute_result"
    }
   ],
   "source": [
    "model, rmse, auc"
   ]
  },
  {
   "cell_type": "code",
   "execution_count": 64,
   "id": "52dc1f98",
   "metadata": {},
   "outputs": [
    {
     "data": {
      "text/html": [
       "<div>\n",
       "<style scoped>\n",
       "    .dataframe tbody tr th:only-of-type {\n",
       "        vertical-align: middle;\n",
       "    }\n",
       "\n",
       "    .dataframe tbody tr th {\n",
       "        vertical-align: top;\n",
       "    }\n",
       "\n",
       "    .dataframe thead th {\n",
       "        text-align: right;\n",
       "    }\n",
       "</style>\n",
       "<table border=\"1\" class=\"dataframe\">\n",
       "  <thead>\n",
       "    <tr style=\"text-align: right;\">\n",
       "      <th></th>\n",
       "      <th>Model</th>\n",
       "      <th>RMSE</th>\n",
       "      <th>AUC</th>\n",
       "    </tr>\n",
       "  </thead>\n",
       "  <tbody>\n",
       "    <tr>\n",
       "      <th>0</th>\n",
       "      <td>Logistic_Regression</td>\n",
       "      <td>0.3273</td>\n",
       "      <td>0.5944</td>\n",
       "    </tr>\n",
       "    <tr>\n",
       "      <th>1</th>\n",
       "      <td>Ridge_Regression</td>\n",
       "      <td>0.3056</td>\n",
       "      <td>0.8186</td>\n",
       "    </tr>\n",
       "    <tr>\n",
       "      <th>2</th>\n",
       "      <td>Decision Tree</td>\n",
       "      <td>0.2998</td>\n",
       "      <td>0.8376</td>\n",
       "    </tr>\n",
       "    <tr>\n",
       "      <th>3</th>\n",
       "      <td>Random_Forest</td>\n",
       "      <td>0.2988</td>\n",
       "      <td>0.8421</td>\n",
       "    </tr>\n",
       "  </tbody>\n",
       "</table>\n",
       "</div>"
      ],
      "text/plain": [
       "                 Model    RMSE     AUC\n",
       "0  Logistic_Regression  0.3273  0.5944\n",
       "1     Ridge_Regression  0.3056  0.8186\n",
       "2        Decision Tree  0.2998  0.8376\n",
       "3        Random_Forest  0.2988  0.8421"
      ]
     },
     "execution_count": 64,
     "metadata": {},
     "output_type": "execute_result"
    }
   ],
   "source": [
    "df_results = pd.DataFrame(results, columns=columns)\n",
    "df_results"
   ]
  },
  {
   "cell_type": "code",
   "execution_count": null,
   "id": "b7bdccb2",
   "metadata": {},
   "outputs": [],
   "source": []
  },
  {
   "cell_type": "markdown",
   "id": "cc6d1807",
   "metadata": {},
   "source": [
    "## 5.XGBoost"
   ]
  },
  {
   "cell_type": "code",
   "execution_count": 65,
   "id": "1c83277d",
   "metadata": {},
   "outputs": [],
   "source": [
    "import xgboost as xgb"
   ]
  },
  {
   "cell_type": "code",
   "execution_count": 66,
   "id": "3419c718",
   "metadata": {},
   "outputs": [],
   "source": [
    "dtrain = xgb.DMatrix(X_train, label=y_train, feature_names=dv.get_feature_names())\n",
    "dval = xgb.DMatrix(X_val, label=y_val, feature_names=dv.get_feature_names())"
   ]
  },
  {
   "cell_type": "code",
   "execution_count": 67,
   "id": "8b17db5a",
   "metadata": {},
   "outputs": [],
   "source": [
    "watchlist = [(dtrain, 'train'), (dval, 'val')]"
   ]
  },
  {
   "cell_type": "code",
   "execution_count": 68,
   "id": "34ff0268",
   "metadata": {},
   "outputs": [],
   "source": [
    "def parse_xgb_output(output):\n",
    "    results = []\n",
    "\n",
    "    for line in output.stdout.strip().split('\\n'):\n",
    "        it_line, train_line, val_line = line.split('\\t')\n",
    "\n",
    "        it = int(it_line.strip('[]'))\n",
    "        train = float(train_line.split(':')[1])\n",
    "        val = float(val_line.split(':')[1])\n",
    "\n",
    "        results.append((it, train, val))\n",
    "    \n",
    "    columns = ['num_iter', 'train_auc', 'val_auc']\n",
    "    df_results = pd.DataFrame(results, columns=columns)\n",
    "    return df_results"
   ]
  },
  {
   "cell_type": "code",
   "execution_count": 69,
   "id": "40b7b737",
   "metadata": {},
   "outputs": [],
   "source": [
    "scores = {}"
   ]
  },
  {
   "cell_type": "code",
   "execution_count": 70,
   "id": "8e4d2f6b",
   "metadata": {},
   "outputs": [],
   "source": [
    "%%capture output\n",
    "\n",
    "xgb_params = {\n",
    "    'eta': 0.5, \n",
    "    'max_depth': 6,\n",
    "    'min_child_weight': 1,\n",
    "\n",
    "    'objective': 'binary:logistic',\n",
    "    'eval_metric': 'auc',\n",
    "\n",
    "    'seed': 1,\n",
    "    'verbosity': 1,\n",
    "}\n",
    "\n",
    "model = xgb.train(xgb_params, dtrain, num_boost_round=100,\n",
    "                  verbose_eval=5, evals=watchlist)"
   ]
  },
  {
   "cell_type": "code",
   "execution_count": 71,
   "id": "6347ca01",
   "metadata": {},
   "outputs": [
    {
     "data": {
      "text/plain": [
       "'eta=0.5'"
      ]
     },
     "execution_count": 71,
     "metadata": {},
     "output_type": "execute_result"
    }
   ],
   "source": [
    "key = 'eta=%s' % (xgb_params['eta'])\n",
    "scores[key] = parse_xgb_output(output)\n",
    "key"
   ]
  },
  {
   "cell_type": "code",
   "execution_count": 72,
   "id": "3d2f77b2",
   "metadata": {},
   "outputs": [],
   "source": [
    "%%capture output\n",
    "\n",
    "xgb_params = {\n",
    "    'eta': 0.3, \n",
    "    'max_depth': 6,\n",
    "    'min_child_weight': 1,\n",
    "\n",
    "    'objective': 'binary:logistic',\n",
    "    'eval_metric': 'auc',\n",
    "    \n",
    "    'seed': 1,\n",
    "    'verbosity': 1,\n",
    "}\n",
    "\n",
    "model = xgb.train(xgb_params, dtrain, num_boost_round=100,\n",
    "                  verbose_eval=5, evals=watchlist)"
   ]
  },
  {
   "cell_type": "code",
   "execution_count": 73,
   "id": "73057eba",
   "metadata": {},
   "outputs": [
    {
     "data": {
      "text/plain": [
       "'eta=0.3'"
      ]
     },
     "execution_count": 73,
     "metadata": {},
     "output_type": "execute_result"
    }
   ],
   "source": [
    "key = 'eta=%s' % (xgb_params['eta'])\n",
    "scores[key] = parse_xgb_output(output)\n",
    "key"
   ]
  },
  {
   "cell_type": "code",
   "execution_count": 74,
   "id": "59f07843",
   "metadata": {},
   "outputs": [],
   "source": [
    "%%capture output\n",
    "\n",
    "xgb_params = {\n",
    "    'eta': 0.1, \n",
    "    'max_depth': 6,\n",
    "    'min_child_weight': 1,\n",
    "\n",
    "    'objective': 'binary:logistic',\n",
    "    'eval_metric': 'auc',\n",
    "\n",
    "    'seed': 1,\n",
    "    'verbosity': 1,\n",
    "}\n",
    "\n",
    "model = xgb.train(xgb_params, dtrain, num_boost_round=100,\n",
    "                  verbose_eval=5, evals=watchlist)"
   ]
  },
  {
   "cell_type": "code",
   "execution_count": 75,
   "id": "a3d22a15",
   "metadata": {},
   "outputs": [
    {
     "data": {
      "text/plain": [
       "'eta=0.1'"
      ]
     },
     "execution_count": 75,
     "metadata": {},
     "output_type": "execute_result"
    }
   ],
   "source": [
    "key = 'eta=%s' % (xgb_params['eta'])\n",
    "scores[key] = parse_xgb_output(output)\n",
    "key"
   ]
  },
  {
   "cell_type": "code",
   "execution_count": 76,
   "id": "3f980f95",
   "metadata": {},
   "outputs": [
    {
     "data": {
      "text/plain": [
       "<matplotlib.legend.Legend at 0x210571de730>"
      ]
     },
     "execution_count": 76,
     "metadata": {},
     "output_type": "execute_result"
    },
    {
     "data": {
      "image/png": "[encoded data removed]",
      "text/plain": [
       "<Figure size 432x288 with 1 Axes>"
      ]
     },
     "metadata": {
      "needs_background": "light"
     },
     "output_type": "display_data"
    }
   ],
   "source": [
    "for eta, df_score in scores.items():\n",
    "    plt.plot(df_score.num_iter, df_score.val_auc, label=eta)\n",
    "\n",
    "#plt.ylim(0.8, 0.84)\n",
    "plt.legend()"
   ]
  },
  {
   "cell_type": "markdown",
   "id": "250d31ca",
   "metadata": {},
   "source": [
    "* **eta=0.1**"
   ]
  },
  {
   "cell_type": "code",
   "execution_count": 77,
   "id": "5b56ff17",
   "metadata": {},
   "outputs": [],
   "source": [
    "scores = {}"
   ]
  },
  {
   "cell_type": "code",
   "execution_count": 78,
   "id": "900b35a7",
   "metadata": {},
   "outputs": [],
   "source": [
    "%%capture output\n",
    "\n",
    "xgb_params = {\n",
    "    'eta': 0.1, \n",
    "    'max_depth': 3,\n",
    "    'min_child_weight': 1,\n",
    "\n",
    "    'objective': 'binary:logistic',\n",
    "    'eval_metric': 'auc',\n",
    "\n",
    "    'seed': 1,\n",
    "    'verbosity': 1,\n",
    "}\n",
    "\n",
    "model = xgb.train(xgb_params, dtrain, num_boost_round=100,\n",
    "                  verbose_eval=5, evals=watchlist)"
   ]
  },
  {
   "cell_type": "code",
   "execution_count": 79,
   "id": "101ba75c",
   "metadata": {},
   "outputs": [
    {
     "data": {
      "text/plain": [
       "'max_depth=3'"
      ]
     },
     "execution_count": 79,
     "metadata": {},
     "output_type": "execute_result"
    }
   ],
   "source": [
    "key = 'max_depth=%s' % (xgb_params['max_depth'])\n",
    "scores[key] = parse_xgb_output(output)\n",
    "key"
   ]
  },
  {
   "cell_type": "code",
   "execution_count": 80,
   "id": "4627768d",
   "metadata": {},
   "outputs": [],
   "source": [
    "%%capture output\n",
    "\n",
    "xgb_params = {\n",
    "    'eta': 0.1, \n",
    "    'max_depth': 4,\n",
    "    'min_child_weight': 1,\n",
    "\n",
    "    'objective': 'binary:logistic',\n",
    "    'eval_metric': 'auc',\n",
    "\n",
    "    'seed': 1,\n",
    "    'verbosity': 1,\n",
    "}\n",
    "\n",
    "model = xgb.train(xgb_params, dtrain, num_boost_round=100,\n",
    "                  verbose_eval=5, evals=watchlist)"
   ]
  },
  {
   "cell_type": "code",
   "execution_count": 81,
   "id": "60598024",
   "metadata": {},
   "outputs": [
    {
     "data": {
      "text/plain": [
       "'max_depth=4'"
      ]
     },
     "execution_count": 81,
     "metadata": {},
     "output_type": "execute_result"
    }
   ],
   "source": [
    "key = 'max_depth=%s' % (xgb_params['max_depth'])\n",
    "scores[key] = parse_xgb_output(output)\n",
    "key"
   ]
  },
  {
   "cell_type": "code",
   "execution_count": 82,
   "id": "201b4992",
   "metadata": {},
   "outputs": [],
   "source": [
    "%%capture output\n",
    "\n",
    "xgb_params = {\n",
    "    'eta': 0.1, \n",
    "    'max_depth': 6,\n",
    "    'min_child_weight': 1,\n",
    "\n",
    "    'objective': 'binary:logistic',\n",
    "    'eval_metric': 'auc',\n",
    "\n",
    "    'seed': 1,\n",
    "    'verbosity': 1,\n",
    "}\n",
    "\n",
    "model = xgb.train(xgb_params, dtrain, num_boost_round=100,\n",
    "                  verbose_eval=5, evals=watchlist)"
   ]
  },
  {
   "cell_type": "code",
   "execution_count": 83,
   "id": "e6ca0fe2",
   "metadata": {},
   "outputs": [
    {
     "data": {
      "text/plain": [
       "'max_depth=6'"
      ]
     },
     "execution_count": 83,
     "metadata": {},
     "output_type": "execute_result"
    }
   ],
   "source": [
    "key = 'max_depth=%s' % (xgb_params['max_depth'])\n",
    "scores[key] = parse_xgb_output(output)\n",
    "key"
   ]
  },
  {
   "cell_type": "code",
   "execution_count": 86,
   "id": "967defba",
   "metadata": {},
   "outputs": [
    {
     "data": {
      "text/plain": [
       "<matplotlib.legend.Legend at 0x21000b3e9a0>"
      ]
     },
     "execution_count": 86,
     "metadata": {},
     "output_type": "execute_result"
    },
    {
     "data": {
      "image/png": "[encoded data removed]",
      "text/plain": [
       "<Figure size 432x288 with 1 Axes>"
      ]
     },
     "metadata": {
      "needs_background": "light"
     },
     "output_type": "display_data"
    }
   ],
   "source": [
    "for max_depth, df_score in scores.items():\n",
    "    plt.plot(df_score.num_iter, df_score.val_auc, label=max_depth)\n",
    "\n",
    "plt.ylim(0.840, 0.845)\n",
    "plt.legend()"
   ]
  },
  {
   "cell_type": "markdown",
   "id": "809be3c0",
   "metadata": {},
   "source": [
    "* **max_depth=6**"
   ]
  },
  {
   "cell_type": "code",
   "execution_count": 87,
   "id": "08577d31",
   "metadata": {},
   "outputs": [],
   "source": [
    "scores = {}"
   ]
  },
  {
   "cell_type": "code",
   "execution_count": 88,
   "id": "4f8ebd1e",
   "metadata": {},
   "outputs": [],
   "source": [
    "%%capture output\n",
    "\n",
    "xgb_params = {\n",
    "    'eta': 0.1, \n",
    "    'max_depth': 6,\n",
    "    'min_child_weight': 1,\n",
    "\n",
    "    'objective': 'binary:logistic',\n",
    "    'eval_metric': 'auc',\n",
    "\n",
    "    'seed': 1,\n",
    "    'verbosity': 1,\n",
    "}\n",
    "\n",
    "model = xgb.train(xgb_params, dtrain, num_boost_round=100,\n",
    "                  verbose_eval=5, evals=watchlist)"
   ]
  },
  {
   "cell_type": "code",
   "execution_count": 89,
   "id": "2fc85cf4",
   "metadata": {},
   "outputs": [
    {
     "data": {
      "text/plain": [
       "'min_child_weight=1'"
      ]
     },
     "execution_count": 89,
     "metadata": {},
     "output_type": "execute_result"
    }
   ],
   "source": [
    "key = 'min_child_weight=%s' % (xgb_params['min_child_weight'])\n",
    "scores[key] = parse_xgb_output(output)\n",
    "key"
   ]
  },
  {
   "cell_type": "code",
   "execution_count": 90,
   "id": "ed1e2672",
   "metadata": {},
   "outputs": [],
   "source": [
    "%%capture output\n",
    "\n",
    "xgb_params = {\n",
    "    'eta': 0.1, \n",
    "    'max_depth': 6,\n",
    "    'min_child_weight': 10,\n",
    "\n",
    "    'objective': 'binary:logistic',\n",
    "    'eval_metric': 'auc',\n",
    "\n",
    "    'seed': 1,\n",
    "    'verbosity': 1,\n",
    "}\n",
    "\n",
    "model = xgb.train(xgb_params, dtrain, num_boost_round=100,\n",
    "                  verbose_eval=5, evals=watchlist)"
   ]
  },
  {
   "cell_type": "code",
   "execution_count": 91,
   "id": "0b487788",
   "metadata": {},
   "outputs": [
    {
     "data": {
      "text/plain": [
       "'min_child_weight=10'"
      ]
     },
     "execution_count": 91,
     "metadata": {},
     "output_type": "execute_result"
    }
   ],
   "source": [
    "key = 'min_child_weight=%s' % (xgb_params['min_child_weight'])\n",
    "scores[key] = parse_xgb_output(output)\n",
    "key"
   ]
  },
  {
   "cell_type": "code",
   "execution_count": 92,
   "id": "970b443e",
   "metadata": {},
   "outputs": [],
   "source": [
    "%%capture output\n",
    "\n",
    "xgb_params = {\n",
    "    'eta': 0.1, \n",
    "    'max_depth': 6,\n",
    "    'min_child_weight': 30,\n",
    "\n",
    "    'objective': 'binary:logistic',\n",
    "    'eval_metric': 'auc',\n",
    "\n",
    "    'seed': 1,\n",
    "    'verbosity': 1,\n",
    "}\n",
    "\n",
    "model = xgb.train(xgb_params, dtrain, num_boost_round=100,\n",
    "                  verbose_eval=5, evals=watchlist)"
   ]
  },
  {
   "cell_type": "code",
   "execution_count": 93,
   "id": "726dfa14",
   "metadata": {},
   "outputs": [
    {
     "data": {
      "text/plain": [
       "'min_child_weight=30'"
      ]
     },
     "execution_count": 93,
     "metadata": {},
     "output_type": "execute_result"
    }
   ],
   "source": [
    "key = 'min_child_weight=%s' % (xgb_params['min_child_weight'])\n",
    "scores[key] = parse_xgb_output(output)\n",
    "key"
   ]
  },
  {
   "cell_type": "code",
   "execution_count": 95,
   "id": "8724de22",
   "metadata": {},
   "outputs": [
    {
     "data": {
      "text/plain": [
       "<matplotlib.legend.Legend at 0x21000b7be50>"
      ]
     },
     "execution_count": 95,
     "metadata": {},
     "output_type": "execute_result"
    },
    {
     "data": {
      "image/png": "[encoded data removed]",
      "text/plain": [
       "<Figure size 432x288 with 1 Axes>"
      ]
     },
     "metadata": {
      "needs_background": "light"
     },
     "output_type": "display_data"
    }
   ],
   "source": [
    "for min_child_weight, df_score in scores.items():\n",
    "    plt.plot(df_score.num_iter, df_score.val_auc, label=min_child_weight)\n",
    "\n",
    "plt.ylim(0.842, 0.845)\n",
    "plt.legend()"
   ]
  },
  {
   "cell_type": "markdown",
   "id": "8ce517d4",
   "metadata": {},
   "source": [
    "* **min_child_weight: 30**"
   ]
  },
  {
   "cell_type": "code",
   "execution_count": 108,
   "id": "78fd5df7",
   "metadata": {},
   "outputs": [
    {
     "name": "stdout",
     "output_type": "stream",
     "text": [
      "[0]\ttrain-auc:0.82970\tval-auc:0.82691\n",
      "[5]\ttrain-auc:0.83806\tval-auc:0.83513\n",
      "[10]\ttrain-auc:0.84053\tval-auc:0.83755\n",
      "[15]\ttrain-auc:0.84147\tval-auc:0.83843\n",
      "[20]\ttrain-auc:0.84232\tval-auc:0.83950\n",
      "[25]\ttrain-auc:0.84342\tval-auc:0.84064\n",
      "[30]\ttrain-auc:0.84465\tval-auc:0.84158\n",
      "[35]\ttrain-auc:0.84572\tval-auc:0.84243\n",
      "[40]\ttrain-auc:0.84655\tval-auc:0.84299\n",
      "[45]\ttrain-auc:0.84705\tval-auc:0.84321\n",
      "[50]\ttrain-auc:0.84754\tval-auc:0.84345\n",
      "[55]\ttrain-auc:0.84795\tval-auc:0.84359\n",
      "[60]\ttrain-auc:0.84831\tval-auc:0.84371\n",
      "[65]\ttrain-auc:0.84881\tval-auc:0.84388\n",
      "[70]\ttrain-auc:0.84924\tval-auc:0.84405\n",
      "[75]\ttrain-auc:0.84968\tval-auc:0.84417\n",
      "[80]\ttrain-auc:0.84993\tval-auc:0.84423\n",
      "[85]\ttrain-auc:0.85048\tval-auc:0.84434\n",
      "[90]\ttrain-auc:0.85109\tval-auc:0.84439\n",
      "[95]\ttrain-auc:0.85146\tval-auc:0.84437\n",
      "[99]\ttrain-auc:0.85194\tval-auc:0.84443\n"
     ]
    }
   ],
   "source": [
    "xgb_params = {\n",
    "    'eta': 0.1, \n",
    "    'max_depth': 6,\n",
    "    'min_child_weight': 30,\n",
    "\n",
    "    'objective': 'binary:logistic',\n",
    "    'eval_metric': 'auc',\n",
    "\n",
    "    'seed': 1,\n",
    "    'verbosity': 1,\n",
    "}\n",
    "\n",
    "xgbmodel = xgb.train(xgb_params, dtrain, num_boost_round=100,\n",
    "                  verbose_eval=5, evals=watchlist)"
   ]
  },
  {
   "cell_type": "code",
   "execution_count": 97,
   "id": "35d9b5cb",
   "metadata": {},
   "outputs": [],
   "source": [
    "y_pred = xgbmodel.predict(dval)\n",
    "\n",
    "model='XGBoost'\n",
    "rmse = (np.sqrt(mean_squared_error(y_val, y_pred))).round(4)\n",
    "auc = (roc_auc_score(y_val, y_pred)).round(4)\n",
    "\n",
    "results.append((model, rmse, auc))"
   ]
  },
  {
   "cell_type": "code",
   "execution_count": 98,
   "id": "8033b220",
   "metadata": {},
   "outputs": [
    {
     "data": {
      "text/plain": [
       "('XGBoost', 0.2982, 0.8445)"
      ]
     },
     "execution_count": 98,
     "metadata": {},
     "output_type": "execute_result"
    }
   ],
   "source": [
    "model, rmse, auc"
   ]
  },
  {
   "cell_type": "code",
   "execution_count": 99,
   "id": "c0cc8085",
   "metadata": {},
   "outputs": [
    {
     "data": {
      "text/html": [
       "<div>\n",
       "<style scoped>\n",
       "    .dataframe tbody tr th:only-of-type {\n",
       "        vertical-align: middle;\n",
       "    }\n",
       "\n",
       "    .dataframe tbody tr th {\n",
       "        vertical-align: top;\n",
       "    }\n",
       "\n",
       "    .dataframe thead th {\n",
       "        text-align: right;\n",
       "    }\n",
       "</style>\n",
       "<table border=\"1\" class=\"dataframe\">\n",
       "  <thead>\n",
       "    <tr style=\"text-align: right;\">\n",
       "      <th></th>\n",
       "      <th>Model</th>\n",
       "      <th>RMSE</th>\n",
       "      <th>AUC</th>\n",
       "    </tr>\n",
       "  </thead>\n",
       "  <tbody>\n",
       "    <tr>\n",
       "      <th>0</th>\n",
       "      <td>Logistic_Regression</td>\n",
       "      <td>0.3273</td>\n",
       "      <td>0.5944</td>\n",
       "    </tr>\n",
       "    <tr>\n",
       "      <th>1</th>\n",
       "      <td>Ridge_Regression</td>\n",
       "      <td>0.3056</td>\n",
       "      <td>0.8186</td>\n",
       "    </tr>\n",
       "    <tr>\n",
       "      <th>2</th>\n",
       "      <td>Decision Tree</td>\n",
       "      <td>0.2998</td>\n",
       "      <td>0.8376</td>\n",
       "    </tr>\n",
       "    <tr>\n",
       "      <th>3</th>\n",
       "      <td>Random_Forest</td>\n",
       "      <td>0.2988</td>\n",
       "      <td>0.8421</td>\n",
       "    </tr>\n",
       "    <tr>\n",
       "      <th>4</th>\n",
       "      <td>XGBoost</td>\n",
       "      <td>0.2982</td>\n",
       "      <td>0.8445</td>\n",
       "    </tr>\n",
       "  </tbody>\n",
       "</table>\n",
       "</div>"
      ],
      "text/plain": [
       "                 Model    RMSE     AUC\n",
       "0  Logistic_Regression  0.3273  0.5944\n",
       "1     Ridge_Regression  0.3056  0.8186\n",
       "2        Decision Tree  0.2998  0.8376\n",
       "3        Random_Forest  0.2988  0.8421\n",
       "4              XGBoost  0.2982  0.8445"
      ]
     },
     "execution_count": 99,
     "metadata": {},
     "output_type": "execute_result"
    }
   ],
   "source": [
    "df_results = pd.DataFrame(results, columns=columns)\n",
    "df_results"
   ]
  },
  {
   "cell_type": "code",
   "execution_count": null,
   "id": "1019fb17",
   "metadata": {},
   "outputs": [],
   "source": []
  },
  {
   "cell_type": "markdown",
   "id": "b5212a71",
   "metadata": {},
   "source": [
    "# Finding y_pred Threshold"
   ]
  },
  {
   "cell_type": "code",
   "execution_count": 109,
   "id": "8ae4e089",
   "metadata": {},
   "outputs": [],
   "source": [
    "def confusion_matrix_dataframe(y_val, y_pred):\n",
    "    scores = []\n",
    "\n",
    "    thresholds = np.linspace(0, 1, 101)\n",
    "\n",
    "    for t in thresholds:\n",
    "        actual_positive = (y_val == 1)\n",
    "        actual_negative = (y_val == 0)\n",
    "\n",
    "        predict_positive = (y_pred >= t)\n",
    "        predict_negative = (y_pred < t)\n",
    "\n",
    "        tp = (predict_positive & actual_positive).sum()\n",
    "        tn = (predict_negative & actual_negative).sum()\n",
    "\n",
    "        fp = (predict_positive & actual_negative).sum()\n",
    "        fn = (predict_negative & actual_positive).sum()\n",
    "\n",
    "        scores.append((t, tp, fp, fn, tn))\n",
    "\n",
    "    columns = ['threshold', 'tp', 'fp', 'fn', 'tn']\n",
    "    df_scores = pd.DataFrame(scores, columns=columns)\n",
    "    \n",
    "    return df_scores"
   ]
  },
  {
   "cell_type": "code",
   "execution_count": 110,
   "id": "98678528",
   "metadata": {},
   "outputs": [],
   "source": [
    "y_pred = xgbmodel.predict(dval)\n",
    "df_scores = confusion_matrix_dataframe(y_val, y_pred)"
   ]
  },
  {
   "cell_type": "code",
   "execution_count": 111,
   "id": "dfaf898c",
   "metadata": {},
   "outputs": [],
   "source": [
    "df_scores['p'] = df_scores.tp / (df_scores.tp + df_scores.fp)\n",
    "df_scores['r'] = df_scores.tp / (df_scores.tp + df_scores.fn)"
   ]
  },
  {
   "cell_type": "code",
   "execution_count": 115,
   "id": "72395809",
   "metadata": {},
   "outputs": [
    {
     "data": {
      "image/png": "[encoded data removed]",
      "text/plain": [
       "<Figure size 432x288 with 1 Axes>"
      ]
     },
     "metadata": {
      "needs_background": "light"
     },
     "output_type": "display_data"
    }
   ],
   "source": [
    "plt.plot(df_scores.threshold, df_scores.p, label='precision')\n",
    "plt.plot(df_scores.threshold, df_scores.r, label='recall')\n",
    "\n",
    "plt.ylim(0.2,0.4)\n",
    "plt.xlim(0.2,0.4)\n",
    "plt.vlines(0.315, 0, 1, color='grey', linestyle='--', alpha=0.5)\n",
    "\n",
    "plt.legend()\n",
    "plt.show()"
   ]
  },
  {
   "cell_type": "markdown",
   "id": "4fad533f",
   "metadata": {},
   "source": [
    "* **t=0.315**"
   ]
  },
  {
   "cell_type": "code",
   "execution_count": null,
   "id": "5c21ff41",
   "metadata": {},
   "outputs": [],
   "source": []
  },
  {
   "cell_type": "markdown",
   "id": "5fb13016",
   "metadata": {},
   "source": [
    "# Train the BEST MODEL: XGBOOST"
   ]
  },
  {
   "cell_type": "code",
   "execution_count": 100,
   "id": "70f49733",
   "metadata": {},
   "outputs": [
    {
     "data": {
      "text/html": [
       "<div>\n",
       "<style scoped>\n",
       "    .dataframe tbody tr th:only-of-type {\n",
       "        vertical-align: middle;\n",
       "    }\n",
       "\n",
       "    .dataframe tbody tr th {\n",
       "        vertical-align: top;\n",
       "    }\n",
       "\n",
       "    .dataframe thead th {\n",
       "        text-align: right;\n",
       "    }\n",
       "</style>\n",
       "<table border=\"1\" class=\"dataframe\">\n",
       "  <thead>\n",
       "    <tr style=\"text-align: right;\">\n",
       "      <th></th>\n",
       "      <th>age</th>\n",
       "      <th>region_code</th>\n",
       "      <th>annual_premium</th>\n",
       "      <th>policy_sales_channel</th>\n",
       "      <th>vintage</th>\n",
       "      <th>gender</th>\n",
       "      <th>driving_license</th>\n",
       "      <th>previously_insured</th>\n",
       "      <th>vehicle_age</th>\n",
       "      <th>vehicle_damage</th>\n",
       "      <th>response</th>\n",
       "    </tr>\n",
       "  </thead>\n",
       "  <tbody>\n",
       "    <tr>\n",
       "      <th>0</th>\n",
       "      <td>22</td>\n",
       "      <td>24</td>\n",
       "      <td>2630</td>\n",
       "      <td>152</td>\n",
       "      <td>68</td>\n",
       "      <td>female</td>\n",
       "      <td>yes</td>\n",
       "      <td>yes</td>\n",
       "      <td>less_than_1_year</td>\n",
       "      <td>no</td>\n",
       "      <td>0</td>\n",
       "    </tr>\n",
       "    <tr>\n",
       "      <th>1</th>\n",
       "      <td>22</td>\n",
       "      <td>46</td>\n",
       "      <td>29544</td>\n",
       "      <td>152</td>\n",
       "      <td>202</td>\n",
       "      <td>male</td>\n",
       "      <td>yes</td>\n",
       "      <td>yes</td>\n",
       "      <td>less_than_1_year</td>\n",
       "      <td>no</td>\n",
       "      <td>0</td>\n",
       "    </tr>\n",
       "    <tr>\n",
       "      <th>2</th>\n",
       "      <td>61</td>\n",
       "      <td>50</td>\n",
       "      <td>34217</td>\n",
       "      <td>124</td>\n",
       "      <td>122</td>\n",
       "      <td>female</td>\n",
       "      <td>yes</td>\n",
       "      <td>no</td>\n",
       "      <td>1-2_year</td>\n",
       "      <td>yes</td>\n",
       "      <td>0</td>\n",
       "    </tr>\n",
       "    <tr>\n",
       "      <th>3</th>\n",
       "      <td>29</td>\n",
       "      <td>32</td>\n",
       "      <td>33889</td>\n",
       "      <td>152</td>\n",
       "      <td>131</td>\n",
       "      <td>female</td>\n",
       "      <td>yes</td>\n",
       "      <td>yes</td>\n",
       "      <td>less_than_1_year</td>\n",
       "      <td>yes</td>\n",
       "      <td>0</td>\n",
       "    </tr>\n",
       "    <tr>\n",
       "      <th>4</th>\n",
       "      <td>23</td>\n",
       "      <td>25</td>\n",
       "      <td>21758</td>\n",
       "      <td>152</td>\n",
       "      <td>144</td>\n",
       "      <td>male</td>\n",
       "      <td>yes</td>\n",
       "      <td>no</td>\n",
       "      <td>less_than_1_year</td>\n",
       "      <td>yes</td>\n",
       "      <td>0</td>\n",
       "    </tr>\n",
       "    <tr>\n",
       "      <th>...</th>\n",
       "      <td>...</td>\n",
       "      <td>...</td>\n",
       "      <td>...</td>\n",
       "      <td>...</td>\n",
       "      <td>...</td>\n",
       "      <td>...</td>\n",
       "      <td>...</td>\n",
       "      <td>...</td>\n",
       "      <td>...</td>\n",
       "      <td>...</td>\n",
       "      <td>...</td>\n",
       "    </tr>\n",
       "    <tr>\n",
       "      <th>304882</th>\n",
       "      <td>27</td>\n",
       "      <td>11</td>\n",
       "      <td>26584</td>\n",
       "      <td>152</td>\n",
       "      <td>295</td>\n",
       "      <td>female</td>\n",
       "      <td>yes</td>\n",
       "      <td>yes</td>\n",
       "      <td>less_than_1_year</td>\n",
       "      <td>no</td>\n",
       "      <td>0</td>\n",
       "    </tr>\n",
       "    <tr>\n",
       "      <th>304883</th>\n",
       "      <td>39</td>\n",
       "      <td>41</td>\n",
       "      <td>27136</td>\n",
       "      <td>156</td>\n",
       "      <td>233</td>\n",
       "      <td>female</td>\n",
       "      <td>yes</td>\n",
       "      <td>no</td>\n",
       "      <td>1-2_year</td>\n",
       "      <td>yes</td>\n",
       "      <td>0</td>\n",
       "    </tr>\n",
       "    <tr>\n",
       "      <th>304884</th>\n",
       "      <td>45</td>\n",
       "      <td>28</td>\n",
       "      <td>33735</td>\n",
       "      <td>124</td>\n",
       "      <td>120</td>\n",
       "      <td>male</td>\n",
       "      <td>yes</td>\n",
       "      <td>yes</td>\n",
       "      <td>1-2_year</td>\n",
       "      <td>no</td>\n",
       "      <td>0</td>\n",
       "    </tr>\n",
       "    <tr>\n",
       "      <th>304885</th>\n",
       "      <td>43</td>\n",
       "      <td>36</td>\n",
       "      <td>35142</td>\n",
       "      <td>152</td>\n",
       "      <td>108</td>\n",
       "      <td>female</td>\n",
       "      <td>yes</td>\n",
       "      <td>yes</td>\n",
       "      <td>1-2_year</td>\n",
       "      <td>no</td>\n",
       "      <td>0</td>\n",
       "    </tr>\n",
       "    <tr>\n",
       "      <th>304886</th>\n",
       "      <td>48</td>\n",
       "      <td>28</td>\n",
       "      <td>36996</td>\n",
       "      <td>124</td>\n",
       "      <td>214</td>\n",
       "      <td>male</td>\n",
       "      <td>yes</td>\n",
       "      <td>no</td>\n",
       "      <td>1-2_year</td>\n",
       "      <td>yes</td>\n",
       "      <td>1</td>\n",
       "    </tr>\n",
       "  </tbody>\n",
       "</table>\n",
       "<p>304887 rows × 11 columns</p>\n",
       "</div>"
      ],
      "text/plain": [
       "        age  region_code  annual_premium  policy_sales_channel  vintage  \\\n",
       "0        22           24            2630                   152       68   \n",
       "1        22           46           29544                   152      202   \n",
       "2        61           50           34217                   124      122   \n",
       "3        29           32           33889                   152      131   \n",
       "4        23           25           21758                   152      144   \n",
       "...     ...          ...             ...                   ...      ...   \n",
       "304882   27           11           26584                   152      295   \n",
       "304883   39           41           27136                   156      233   \n",
       "304884   45           28           33735                   124      120   \n",
       "304885   43           36           35142                   152      108   \n",
       "304886   48           28           36996                   124      214   \n",
       "\n",
       "        gender driving_license previously_insured       vehicle_age  \\\n",
       "0       female             yes                yes  less_than_1_year   \n",
       "1         male             yes                yes  less_than_1_year   \n",
       "2       female             yes                 no          1-2_year   \n",
       "3       female             yes                yes  less_than_1_year   \n",
       "4         male             yes                 no  less_than_1_year   \n",
       "...        ...             ...                ...               ...   \n",
       "304882  female             yes                yes  less_than_1_year   \n",
       "304883  female             yes                 no          1-2_year   \n",
       "304884    male             yes                yes          1-2_year   \n",
       "304885  female             yes                yes          1-2_year   \n",
       "304886    male             yes                 no          1-2_year   \n",
       "\n",
       "       vehicle_damage  response  \n",
       "0                  no         0  \n",
       "1                  no         0  \n",
       "2                 yes         0  \n",
       "3                 yes         0  \n",
       "4                 yes         0  \n",
       "...               ...       ...  \n",
       "304882             no         0  \n",
       "304883            yes         0  \n",
       "304884             no         0  \n",
       "304885             no         0  \n",
       "304886            yes         1  \n",
       "\n",
       "[304887 rows x 11 columns]"
      ]
     },
     "execution_count": 100,
     "metadata": {},
     "output_type": "execute_result"
    }
   ],
   "source": [
    "df_full_train"
   ]
  },
  {
   "cell_type": "code",
   "execution_count": 101,
   "id": "79fd79e9",
   "metadata": {},
   "outputs": [],
   "source": [
    "y_full_train = df_full_train.response.values"
   ]
  },
  {
   "cell_type": "code",
   "execution_count": 102,
   "id": "55ad5551",
   "metadata": {},
   "outputs": [],
   "source": [
    "del df_full_train['response']"
   ]
  },
  {
   "cell_type": "code",
   "execution_count": 103,
   "id": "6bb58fca",
   "metadata": {},
   "outputs": [],
   "source": [
    "dicts_full_train = df_full_train.to_dict(orient='records')\n",
    "\n",
    "dv = DictVectorizer(sparse=False)\n",
    "X_full_train = dv.fit_transform(dicts_full_train)\n",
    "\n",
    "dicts_test = df_test.to_dict(orient='records')\n",
    "X_test = dv.transform(dicts_test)"
   ]
  },
  {
   "cell_type": "code",
   "execution_count": 104,
   "id": "029e8834",
   "metadata": {},
   "outputs": [],
   "source": [
    "dfulltrain = xgb.DMatrix(X_full_train, label=y_full_train,\n",
    "                    feature_names=dv.get_feature_names())\n",
    "\n",
    "dtest = xgb.DMatrix(X_test, feature_names=dv.get_feature_names())"
   ]
  },
  {
   "cell_type": "code",
   "execution_count": 116,
   "id": "0e1f6b38",
   "metadata": {},
   "outputs": [],
   "source": [
    "xgb_params = {\n",
    "    'eta': 0.1, \n",
    "    'max_depth': 6,\n",
    "    'min_child_weight': 30,\n",
    "\n",
    "    'objective': 'binary:logistic',\n",
    "    'eval_metric': 'auc',\n",
    "\n",
    "    'seed': 1,\n",
    "    'verbosity': 1,\n",
    "}\n",
    "\n",
    "xgbmodel = xgb.train(xgb_params, dfulltrain, num_boost_round=100)"
   ]
  },
  {
   "cell_type": "code",
   "execution_count": 106,
   "id": "56708e70",
   "metadata": {},
   "outputs": [
    {
     "name": "stdout",
     "output_type": "stream",
     "text": [
      "auc= 0.8599\n",
      "rmse= 0.2918\n"
     ]
    }
   ],
   "source": [
    "y_pred = xgbmodel.predict(dtest)\n",
    "\n",
    "rmse = (np.sqrt(mean_squared_error(y_test, y_pred))).round(4)\n",
    "auc = (roc_auc_score(y_test, y_pred)).round(4)\n",
    "\n",
    "print('auc=', auc)\n",
    "print('rmse=', rmse)"
   ]
  },
  {
   "cell_type": "code",
   "execution_count": null,
   "id": "ca0495bf",
   "metadata": {},
   "outputs": [],
   "source": []
  },
  {
   "cell_type": "markdown",
   "id": "e84e1d83",
   "metadata": {},
   "source": [
    "# Test the Model "
   ]
  },
  {
   "cell_type": "code",
   "execution_count": 117,
   "id": "544e9328",
   "metadata": {},
   "outputs": [],
   "source": [
    "customer = {\"gender\": \"male\",\n",
    "            \"age\": 21,\n",
    "            \"driving_license\": \"yes\",\n",
    "            \"region_code\": 30,\n",
    "            \"previously_insured\": \"yes\",\n",
    "            \"vehicle_age\": \"less_than_1_year\",\n",
    "            \"vehicle_damage\": \"yes\",\n",
    "            \"annual_premium\": 21425,\n",
    "            \"policy_sales_channel\": 26,\n",
    "            \"vintage\": 252\n",
    "            }"
   ]
  },
  {
   "cell_type": "code",
   "execution_count": 118,
   "id": "a889190e",
   "metadata": {},
   "outputs": [],
   "source": [
    "X = dv.transform([customer])"
   ]
  },
  {
   "cell_type": "code",
   "execution_count": 119,
   "id": "30e56e9b",
   "metadata": {},
   "outputs": [],
   "source": [
    "dtest = xgb.DMatrix(X, feature_names=dv.get_feature_names())"
   ]
  },
  {
   "cell_type": "code",
   "execution_count": 120,
   "id": "e6e30c46",
   "metadata": {},
   "outputs": [
    {
     "name": "stdout",
     "output_type": "stream",
     "text": [
      "Customer is NOT interested in Vehicle Insurance provided by the company\n"
     ]
    }
   ],
   "source": [
    "y_pred = xgbmodel.predict(dtest)\n",
    "if y_pred > 0.3:\n",
    "    print('Customer is interested in Vehicle Insurance provided by the company')\n",
    "else:\n",
    "    print('Customer is NOT interested in Vehicle Insurance provided by the company')"
   ]
  },
  {
   "cell_type": "code",
   "execution_count": null,
   "id": "e269e843",
   "metadata": {},
   "outputs": [],
   "source": []
  }
 ],
 "metadata": {
  "kernelspec": {
   "display_name": "Python 3",
   "language": "python",
   "name": "python3"
  },
  "language_info": {
   "codemirror_mode": {
    "name": "ipython",
    "version": 3
   },
   "file_extension": ".py",
   "mimetype": "text/x-python",
   "name": "python",
   "nbconvert_exporter": "python",
   "pygments_lexer": "ipython3",
   "version": "3.8.8"
  }
 },
 "nbformat": 4,
 "nbformat_minor": 5
}
