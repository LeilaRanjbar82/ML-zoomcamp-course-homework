{
 "cells": [
  {
   "cell_type": "code",
   "execution_count": 1,
   "id": "84aaad6b",
   "metadata": {},
   "outputs": [],
   "source": [
    "import tflite_runtime.interpreter as tflite\n",
    "from keras_image_helper import create_preprocessor"
   ]
  },
  {
   "cell_type": "code",
   "execution_count": 2,
   "id": "071bb58d",
   "metadata": {},
   "outputs": [],
   "source": [
    "preprocessor = create_preprocessor('xception', target_size=(150, 150))\n",
    "\n",
    "\n",
    "interpreter = tflite.Interpreter(model_path='yoga_08_0.862.tflite')\n",
    "interpreter.allocate_tensors()\n",
    "\n",
    "input_index = interpreter.get_input_details()[0]['index']\n",
    "output_index = interpreter.get_output_details()[0]['index']"
   ]
  },
  {
   "cell_type": "code",
   "execution_count": 18,
   "id": "d59ac752",
   "metadata": {},
   "outputs": [],
   "source": [
    "url = 'https://encrypted-tbn0.gstatic.com/images?q=tbn:ANd9GcSIPLzGVtV2MDVS8PSUsr7WpM-L91TEVxjp1Q&usqp=CAU'\n",
    "#url = 'https://breathetogetheronline.com/wp-content/uploads/elementor/thumbs/down-dog-by-fizkes-_-karina-bto-p1ol9spb660fz1b3vkltu1qg5zi0i4jatjyus901ds.jpeg'\n",
    "X = preprocessor.from_url(url)"
   ]
  },
  {
   "cell_type": "code",
   "execution_count": 19,
   "id": "0175c22b",
   "metadata": {},
   "outputs": [],
   "source": [
    "interpreter.set_tensor(input_index, X)\n",
    "interpreter.invoke()\n",
    "preds = interpreter.get_tensor(output_index)"
   ]
  },
  {
   "cell_type": "code",
   "execution_count": 20,
   "id": "0a8b626a",
   "metadata": {},
   "outputs": [],
   "source": [
    "classes = [\n",
    "    'chair', \n",
    "    'cobra', \n",
    "    'downdog', \n",
    "    'goddess', \n",
    "    'tree', \n",
    "    'warrior'\n",
    "    ]"
   ]
  },
  {
   "cell_type": "code",
   "execution_count": 21,
   "id": "2395b949",
   "metadata": {},
   "outputs": [
    {
     "data": {
      "text/plain": [
       "{'chair': 0.012845357,\n",
       " 'cobra': 0.017517198,\n",
       " 'downdog': 0.9258903,\n",
       " 'goddess': 0.008606592,\n",
       " 'tree': 0.008768323,\n",
       " 'warrior': 0.026372135}"
      ]
     },
     "execution_count": 21,
     "metadata": {},
     "output_type": "execute_result"
    }
   ],
   "source": [
    "dict(zip(classes, preds[0]))"
   ]
  },
  {
   "cell_type": "code",
   "execution_count": null,
   "id": "b432fa9a",
   "metadata": {},
   "outputs": [],
   "source": []
  },
  {
   "cell_type": "code",
   "execution_count": null,
   "id": "38e9b951",
   "metadata": {},
   "outputs": [],
   "source": []
  },
  {
   "cell_type": "code",
   "execution_count": null,
   "id": "e016b54c",
   "metadata": {},
   "outputs": [],
   "source": []
  },
  {
   "cell_type": "code",
   "execution_count": null,
   "id": "91440555",
   "metadata": {},
   "outputs": [],
   "source": []
  }
 ],
 "metadata": {
  "kernelspec": {
   "display_name": "Python 3 (ipykernel)",
   "language": "python",
   "name": "python3"
  },
  "language_info": {
   "codemirror_mode": {
    "name": "ipython",
    "version": 3
   },
   "file_extension": ".py",
   "mimetype": "text/x-python",
   "name": "python",
   "nbconvert_exporter": "python",
   "pygments_lexer": "ipython3",
   "version": "3.9.7"
  }
 },
 "nbformat": 4,
 "nbformat_minor": 5
}
