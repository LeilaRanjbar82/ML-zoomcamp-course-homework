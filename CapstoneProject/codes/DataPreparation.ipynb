{
 "cells": [
  {
   "cell_type": "code",
   "execution_count": 2,
   "id": "eacd7a5d",
   "metadata": {},
   "outputs": [
    {
     "name": "stdout",
     "output_type": "stream",
     "text": [
      "Collecting opendatasets\n",
      "  Downloading opendatasets-0.1.20-py3-none-any.whl (14 kB)\n",
      "Requirement already satisfied: tqdm in /home/leila/anaconda3/lib/python3.9/site-packages (from opendatasets) (4.62.3)\n",
      "Requirement already satisfied: click in /home/leila/anaconda3/lib/python3.9/site-packages (from opendatasets) (8.0.3)\n",
      "Collecting kaggle\n",
      "  Downloading kaggle-1.5.12.tar.gz (58 kB)\n",
      "     |████████████████████████████████| 58 kB 79 kB/s             \n",
      "\u001b[?25h  Preparing metadata (setup.py) ... \u001b[?25ldone\n",
      "\u001b[?25hRequirement already satisfied: six>=1.10 in /home/leila/anaconda3/lib/python3.9/site-packages (from kaggle->opendatasets) (1.16.0)\n",
      "Requirement already satisfied: certifi in /home/leila/anaconda3/lib/python3.9/site-packages (from kaggle->opendatasets) (2021.10.8)\n",
      "Requirement already satisfied: python-dateutil in /home/leila/anaconda3/lib/python3.9/site-packages (from kaggle->opendatasets) (2.8.2)\n",
      "Requirement already satisfied: requests in /home/leila/anaconda3/lib/python3.9/site-packages (from kaggle->opendatasets) (2.26.0)\n",
      "Requirement already satisfied: python-slugify in /home/leila/anaconda3/lib/python3.9/site-packages (from kaggle->opendatasets) (5.0.2)\n",
      "Requirement already satisfied: urllib3 in /home/leila/anaconda3/lib/python3.9/site-packages (from kaggle->opendatasets) (1.26.7)\n",
      "Requirement already satisfied: text-unidecode>=1.3 in /home/leila/anaconda3/lib/python3.9/site-packages (from python-slugify->kaggle->opendatasets) (1.3)\n",
      "Requirement already satisfied: charset-normalizer~=2.0.0 in /home/leila/anaconda3/lib/python3.9/site-packages (from requests->kaggle->opendatasets) (2.0.4)\n",
      "Requirement already satisfied: idna<4,>=2.5 in /home/leila/anaconda3/lib/python3.9/site-packages (from requests->kaggle->opendatasets) (3.2)\n",
      "Building wheels for collected packages: kaggle\n",
      "  Building wheel for kaggle (setup.py) ... \u001b[?25ldone\n",
      "\u001b[?25h  Created wheel for kaggle: filename=kaggle-1.5.12-py3-none-any.whl size=73051 sha256=c087d42c6384e950990484834a8ca2e8ab824684d7c3572ef530e6119755eea4\n",
      "  Stored in directory: /home/leila/.cache/pip/wheels/ac/b2/c3/fa4706d469b5879105991d1c8be9a3c2ef329ba9fe2ce5085e\n",
      "Successfully built kaggle\n",
      "Installing collected packages: kaggle, opendatasets\n",
      "Successfully installed kaggle-1.5.12 opendatasets-0.1.20\n"
     ]
    }
   ],
   "source": [
    "!pip install opendatasets"
   ]
  },
  {
   "cell_type": "code",
   "execution_count": 3,
   "id": "8d1c469c",
   "metadata": {},
   "outputs": [],
   "source": [
    "import opendatasets as od"
   ]
  },
  {
   "cell_type": "code",
   "execution_count": 7,
   "id": "7d3b743b",
   "metadata": {},
   "outputs": [
    {
     "name": "stdout",
     "output_type": "stream",
     "text": [
      "Please provide your Kaggle credentials to download this dataset. Learn more: http://bit.ly/kaggle-creds\n",
      "Your Kaggle username: leilaranjbar\n",
      "Your Kaggle Key: ········\n",
      "Downloading yoga-posture-cleaned.zip to ./yoga-posture-cleaned\n"
     ]
    },
    {
     "name": "stderr",
     "output_type": "stream",
     "text": [
      "100%|█████████████████████████████████████████| 396M/396M [17:53<00:00, 387kB/s]\n"
     ]
    },
    {
     "name": "stdout",
     "output_type": "stream",
     "text": [
      "\n"
     ]
    }
   ],
   "source": [
    "od.download(\"https://www.kaggle.com/suradechk/yoga-posture-cleaned\", force=True)"
   ]
  },
  {
   "cell_type": "code",
   "execution_count": 2,
   "id": "de397ed9",
   "metadata": {},
   "outputs": [],
   "source": [
    "import os"
   ]
  },
  {
   "cell_type": "code",
   "execution_count": 3,
   "id": "eebfcac3",
   "metadata": {},
   "outputs": [
    {
     "data": {
      "text/plain": [
       "['chair', 'cobra', 'downdog', 'goddess', 'tree', 'warrior']"
      ]
     },
     "execution_count": 3,
     "metadata": {},
     "output_type": "execute_result"
    }
   ],
   "source": [
    "path = './yoga-posture-cleaned/Yoga_combined - removed some'\n",
    "folders = os.listdir(path)\n",
    "folders"
   ]
  },
  {
   "cell_type": "code",
   "execution_count": 4,
   "id": "50f1ffc4",
   "metadata": {},
   "outputs": [
    {
     "data": {
      "text/plain": [
       "[('chair', 209),\n",
       " ('cobra', 643),\n",
       " ('downdog', 430),\n",
       " ('goddess', 209),\n",
       " ('tree', 362),\n",
       " ('warrior', 183)]"
      ]
     },
     "execution_count": 4,
     "metadata": {},
     "output_type": "execute_result"
    }
   ],
   "source": [
    "listdic =[ ]\n",
    "\n",
    "for folder in folders:\n",
    "    newpath = f'{path}/{folder}'\n",
    "    folderlist = os.listdir(newpath)\n",
    "    num_img = len(folderlist)\n",
    "    listdic.append((folder, num_img))\n",
    "\n",
    "listdic "
   ]
  },
  {
   "cell_type": "code",
   "execution_count": null,
   "id": "399911df",
   "metadata": {},
   "outputs": [],
   "source": []
  },
  {
   "cell_type": "markdown",
   "id": "f1530766",
   "metadata": {},
   "source": [
    "## Creating folders\n",
    "\n",
    "**--train**\n",
    "* chair\n",
    "* cobra\n",
    "* downdog\n",
    "* goddess\n",
    "* tree\n",
    "* warrior\n",
    "    \n",
    "**--validation**\n",
    "* chair\n",
    "* cobra\n",
    "* downdog\n",
    "* goddess\n",
    "* tree\n",
    "* warrior\n",
    "    \n",
    "**--test**\n",
    "* chair\n",
    "* cobra\n",
    "* downdog\n",
    "* goddess\n",
    "* tree\n",
    "* warrior"
   ]
  },
  {
   "cell_type": "code",
   "execution_count": 5,
   "id": "eae7e04d",
   "metadata": {},
   "outputs": [],
   "source": [
    "parentdir = './yoga-posture-cleaned'\n",
    "\n",
    "directory = ['train', 'validation','test']"
   ]
  },
  {
   "cell_type": "code",
   "execution_count": 31,
   "id": "341747ad",
   "metadata": {},
   "outputs": [],
   "source": [
    "for d in directory:\n",
    "    dir_path = os.path.join(parentdir, d)\n",
    "    os.mkdir(dir_path)\n",
    "    for f in folders:\n",
    "        sub_dir_path = os.path.join(dir_path,f)\n",
    "        os.mkdir(sub_dir_path)"
   ]
  },
  {
   "cell_type": "code",
   "execution_count": 32,
   "id": "55ff5485",
   "metadata": {
    "scrolled": true
   },
   "outputs": [
    {
     "data": {
      "text/plain": [
       "['test', 'train', 'validation', 'Yoga_combined - removed some']"
      ]
     },
     "execution_count": 32,
     "metadata": {},
     "output_type": "execute_result"
    }
   ],
   "source": [
    "os.listdir(parentdir)"
   ]
  },
  {
   "cell_type": "code",
   "execution_count": 33,
   "id": "028eab7d",
   "metadata": {},
   "outputs": [
    {
     "data": {
      "text/plain": [
       "['chair', 'cobra', 'downdog', 'goddess', 'tree', 'warrior']"
      ]
     },
     "execution_count": 33,
     "metadata": {},
     "output_type": "execute_result"
    }
   ],
   "source": [
    "os.listdir(dir_path)"
   ]
  },
  {
   "cell_type": "markdown",
   "id": "84958d4b",
   "metadata": {},
   "source": [
    "## Preparing Folders"
   ]
  },
  {
   "cell_type": "code",
   "execution_count": 11,
   "id": "c53908c5",
   "metadata": {},
   "outputs": [],
   "source": [
    "import shutil"
   ]
  },
  {
   "cell_type": "markdown",
   "id": "2fb286fc",
   "metadata": {},
   "source": [
    "### Rename files"
   ]
  },
  {
   "cell_type": "code",
   "execution_count": 17,
   "id": "0b826c6f",
   "metadata": {},
   "outputs": [],
   "source": [
    "for folder in folders:\n",
    "    newfolder = f'{path}/{folder}'\n",
    "    count = 1\n",
    "    for file_name in os.listdir(newfolder):\n",
    "        source = f'{newfolder}/{file_name}'\n",
    "        destination = f'{newfolder}/{folder + str(count) + \".jpg\"}'\n",
    "        os.rename(source, destination)\n",
    "        count += 1"
   ]
  },
  {
   "cell_type": "markdown",
   "id": "e57b0c96",
   "metadata": {},
   "source": [
    "### Split Data in train, validation, test folders"
   ]
  },
  {
   "cell_type": "code",
   "execution_count": 18,
   "id": "e6d04072",
   "metadata": {},
   "outputs": [],
   "source": [
    "def train_num(total):\n",
    "    train_factor = 0.60\n",
    "    result = round(train_factor * total)\n",
    "    return result"
   ]
  },
  {
   "cell_type": "code",
   "execution_count": 19,
   "id": "e69f8db0",
   "metadata": {},
   "outputs": [],
   "source": [
    "def val_num(total):\n",
    "    validation_factor = 0.20\n",
    "    result = round(validation_factor * total)\n",
    "    return result"
   ]
  },
  {
   "cell_type": "code",
   "execution_count": 20,
   "id": "78e96020",
   "metadata": {},
   "outputs": [],
   "source": [
    "def test_num(total):\n",
    "    train_val_num = train_num(total) + val_num(total)\n",
    "    result = total - train_val_num\n",
    "    return result"
   ]
  },
  {
   "cell_type": "code",
   "execution_count": 34,
   "id": "212637f4",
   "metadata": {},
   "outputs": [],
   "source": [
    "for folder, value in listdic:\n",
    "    counter = 0\n",
    "    files_source = f'{path}/{folder}'\n",
    "    for file in os.listdir(files_source):\n",
    "        if counter < train_num(value):\n",
    "            train_src = f'{files_source}/{file}'\n",
    "            train_des = f'{parentdir}/{directory[0]}/{folder}'\n",
    "            shutil.copy(train_src, train_des)\n",
    "        elif train_num(value) <= counter < (train_num(value)+val_num(value)):\n",
    "            val_src = f'{files_source}/{file}'\n",
    "            val_des = f'{parentdir}/{directory[1]}/{folder}'\n",
    "            shutil.copy(val_src, val_des)\n",
    "        elif (train_num(value)+val_num(value)) <= counter <= value:\n",
    "            test_src = f'{files_source}/{file}'\n",
    "            test_des = f'{parentdir}/{directory[2]}/{folder}'\n",
    "            shutil.copy(test_src, test_des)\n",
    "        counter += 1"
   ]
  },
  {
   "cell_type": "code",
   "execution_count": null,
   "id": "3f5d8bfd",
   "metadata": {},
   "outputs": [],
   "source": []
  },
  {
   "cell_type": "code",
   "execution_count": null,
   "id": "b28fc341",
   "metadata": {},
   "outputs": [],
   "source": []
  }
 ],
 "metadata": {
  "kernelspec": {
   "display_name": "Python 3 (ipykernel)",
   "language": "python",
   "name": "python3"
  },
  "language_info": {
   "codemirror_mode": {
    "name": "ipython",
    "version": 3
   },
   "file_extension": ".py",
   "mimetype": "text/x-python",
   "name": "python",
   "nbconvert_exporter": "python",
   "pygments_lexer": "ipython3",
   "version": "3.9.7"
  }
 },
 "nbformat": 4,
 "nbformat_minor": 5
}
